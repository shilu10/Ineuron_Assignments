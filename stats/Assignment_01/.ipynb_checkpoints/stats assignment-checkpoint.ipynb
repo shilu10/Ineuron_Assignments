{
 "cells": [
  {
   "cell_type": "markdown",
   "id": "7eb26b0a",
   "metadata": {},
   "source": [
    "##                                               Stats Assignment 01"
   ]
  },
  {
   "cell_type": "markdown",
   "id": "54b14da3",
   "metadata": {},
   "source": [
    "1. Harvard Law School courses often have assigned seating to facilitate the “Socratic method.”\n",
    "Suppose that there are 100 first year Harvard Law students, and each takes two courses:\n",
    "Torts and Contracts. Both are held in the same lecture hall (which has 100 seats), and the\n",
    "seating is uniformly random and independent for the two courses."
   ]
  },
  {
   "cell_type": "markdown",
   "id": "fbc515fc",
   "metadata": {},
   "source": [
    "(a) Find the probability that no one has the same seat for both courses (exactly; you should\n",
    "leave your answer as a sum)."
   ]
  },
  {
   "cell_type": "markdown",
   "id": "1b787d56",
   "metadata": {},
   "source": [
    "![Image/Harvard_ques_a_answer.jpg](attachment:Image/Harvard_ques_a_answer.jpg)"
   ]
  },
  {
   "cell_type": "markdown",
   "id": "e30bcb44",
   "metadata": {},
   "source": [
    "(b) Find a simple but accurate approximation to the probability that no one has the same\n",
    "seat for both courses."
   ]
  },
  {
   "cell_type": "markdown",
   "id": "e14dbeb9",
   "metadata": {},
   "source": [
    "![Image/Harvard_ques_b_answer.jpg](attachment:Harvard_ques_b_answer.jpg)"
   ]
  },
  {
   "cell_type": "markdown",
   "id": "72eb6e0b",
   "metadata": {},
   "source": [
    "(c) Find a simple but accurate approximation to the probability that at least two students\n",
    "have the same seat for both courses."
   ]
  },
  {
   "cell_type": "markdown",
   "id": "13a362d2",
   "metadata": {},
   "source": [
    "![Image/Harvard_ques_c_answer.jpg](attachment:Harvard_ques_c_answer.jpg)"
   ]
  },
  {
   "cell_type": "code",
   "execution_count": null,
   "id": "43de80df",
   "metadata": {},
   "outputs": [],
   "source": []
  },
  {
   "cell_type": "code",
   "execution_count": null,
   "id": "b04c399f",
   "metadata": {},
   "outputs": [],
   "source": []
  }
 ],
 "metadata": {
  "kernelspec": {
   "display_name": "Python 3 (ipykernel)",
   "language": "python",
   "name": "python3"
  },
  "language_info": {
   "codemirror_mode": {
    "name": "ipython",
    "version": 3
   },
   "file_extension": ".py",
   "mimetype": "text/x-python",
   "name": "python",
   "nbconvert_exporter": "python",
   "pygments_lexer": "ipython3",
   "version": "3.10.8"
  }
 },
 "nbformat": 4,
 "nbformat_minor": 5
}
