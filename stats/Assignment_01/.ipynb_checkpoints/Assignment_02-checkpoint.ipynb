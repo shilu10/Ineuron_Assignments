{
 "cells": [
  {
   "cell_type": "markdown",
   "id": "7daeff85",
   "metadata": {},
   "source": [
    "##                                             Statistics Assignment 02"
   ]
  },
  {
   "cell_type": "markdown",
   "id": "781ddecf",
   "metadata": {},
   "source": [
    "1. **Raindrops are falling at an average rate of 20 drops per square inch per minute. What would\n",
    "be a reasonable distribution to use for the number of raindrops hitting a particular region\n",
    "measuring 5 inches2 in t minutes? Why? Using your chosen distribution, compute the\n",
    "probability that the region has no rain drops in a given 3 second time interval. A reasonable\n",
    "choice of distribution is P**"
   ]
  },
  {
   "cell_type": "markdown",
   "id": "48aa62d6",
   "metadata": {},
   "source": [
    "**Answer:"
   ]
  },
  {
   "cell_type": "code",
   "execution_count": null,
   "id": "a4893592",
   "metadata": {},
   "outputs": [],
   "source": []
  },
  {
   "cell_type": "code",
   "execution_count": null,
   "id": "dd4fa58f",
   "metadata": {},
   "outputs": [],
   "source": []
  }
 ],
 "metadata": {
  "kernelspec": {
   "display_name": "Python 3 (ipykernel)",
   "language": "python",
   "name": "python3"
  },
  "language_info": {
   "codemirror_mode": {
    "name": "ipython",
    "version": 3
   },
   "file_extension": ".py",
   "mimetype": "text/x-python",
   "name": "python",
   "nbconvert_exporter": "python",
   "pygments_lexer": "ipython3",
   "version": "3.10.8"
  }
 },
 "nbformat": 4,
 "nbformat_minor": 5
}
