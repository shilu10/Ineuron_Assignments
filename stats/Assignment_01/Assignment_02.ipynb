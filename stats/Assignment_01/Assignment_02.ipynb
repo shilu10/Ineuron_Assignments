{
 "cells": [
  {
   "cell_type": "markdown",
   "id": "61ab5f02",
   "metadata": {},
   "source": [
    "##                                             Statistics Assignment 02"
   ]
  },
  {
   "cell_type": "markdown",
   "id": "1f3ae426",
   "metadata": {},
   "source": [
    "1. **Raindrops are falling at an average rate of 20 drops per square inch per minute. What would\n",
    "be a reasonable distribution to use for the number of raindrops hitting a particular region\n",
    "measuring 5 inches2 in t minutes? Why? Using your chosen distribution, compute the\n",
    "probability that the region has no rain drops in a given 3 second time interval. A reasonable\n",
    "choice of distribution is P**"
   ]
  },
  {
   "cell_type": "markdown",
   "id": "d526d674",
   "metadata": {},
   "source": [
    "**Solution: A reasonable choice of distribution is Pois(λt), where λ = 20 · 5 = 100 (the**\n",
    "**average number of raindrops per minute hitting the region). Assuming this distribution,**\n",
    "\n",
    "   **P (no raindrops in 1/20 of a minute) = e −100/20 (100/20) 0 /0! = e −5 ≈ 0.0067.**"
   ]
  },
  {
   "cell_type": "code",
   "execution_count": null,
   "id": "adb9a863",
   "metadata": {},
   "outputs": [],
   "source": []
  },
  {
   "cell_type": "markdown",
   "id": "5aa9d354",
   "metadata": {},
   "source": [
    "### 2. Let X be a random day of the week, coded so that Monday is 1, Tuesday is 2, etc. (so X takes values 1, 2,...,7, with equal probabilities). Let Y be the next day after X (again represented as an integer between 1 and 7). Do X and Y have the same distribution? What is P(X)**"
   ]
  },
  {
   "cell_type": "markdown",
   "id": "8de41243",
   "metadata": {},
   "source": [
    "**Solution: Yes, X and Y have the same distribution, since Y is also equally likely to\n",
    "represent any day of the week.**"
   ]
  },
  {
   "cell_type": "code",
   "execution_count": null,
   "id": "d2a0ea49",
   "metadata": {},
   "outputs": [],
   "source": []
  }
 ],
 "metadata": {
  "kernelspec": {
   "display_name": "Python 3 (ipykernel)",
   "language": "python",
   "name": "python3"
  },
  "language_info": {
   "codemirror_mode": {
    "name": "ipython",
    "version": 3
   },
   "file_extension": ".py",
   "mimetype": "text/x-python",
   "name": "python",
   "nbconvert_exporter": "python",
   "pygments_lexer": "ipython3",
   "version": "3.10.8"
  }
 },
 "nbformat": 4,
 "nbformat_minor": 5
}
