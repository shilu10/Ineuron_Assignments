{
 "cells": [
  {
   "cell_type": "markdown",
   "id": "93d2ac25",
   "metadata": {},
   "source": [
    "##                                               Stats Assignment 01"
   ]
  },
  {
   "cell_type": "markdown",
   "id": "a389f027",
   "metadata": {},
   "source": [
    "**1. Harvard Law School courses often have assigned seating to facilitate the “Socratic method.”\n",
    "Suppose that there are 100 first year Harvard Law students, and each takes two courses:\n",
    "Torts and Contracts. Both are held in the same lecture hall (which has 100 seats), and the\n",
    "seating is uniformly random and independent for the two courses.**"
   ]
  },
  {
   "cell_type": "markdown",
   "id": "e22ad02e",
   "metadata": {},
   "source": [
    "**(a) Find the probability that no one has the same seat for both courses (exactly; you should\n",
    "leave your answer as a sum).**"
   ]
  },
  {
   "cell_type": "markdown",
   "id": "a938a4a4",
   "metadata": {},
   "source": [
    "<img src='Images/Harvard_ques_a_answer.jpg' />"
   ]
  },
  {
   "cell_type": "markdown",
   "id": "18048f23",
   "metadata": {},
   "source": [
    "**(b) Find a simple but accurate approximation to the probability that no one has the same\n",
    "seat for both courses.**"
   ]
  },
  {
   "cell_type": "markdown",
   "id": "502fa5db",
   "metadata": {},
   "source": [
    "<img src='Images/Harvard_ques_b_answer.jpg' />"
   ]
  },
  {
   "cell_type": "markdown",
   "id": "d8e6de60",
   "metadata": {},
   "source": [
    "**(c) Find a simple but accurate approximation to the probability that at least two students\n",
    "have the same seat for both courses.**"
   ]
  },
  {
   "cell_type": "markdown",
   "id": "fccd739c",
   "metadata": {},
   "source": [
    "![Images/Harvard_ques_c_answer.jpg](attachment:Images/Harvard_ques_c_answer.jpg)"
   ]
  },
  {
   "cell_type": "markdown",
   "id": "2642ad90",
   "metadata": {},
   "source": [
    "![Harvard_ques_a_answer](https://github.com/shilu10/Ineuron_Assignments/blob/master/stats/Assignment_01/Images/Harvard_ques_a_answer.jpg)\n"
   ]
  },
  {
   "cell_type": "code",
   "execution_count": null,
   "id": "494e2517",
   "metadata": {},
   "outputs": [],
   "source": []
  }
 ],
 "metadata": {
  "kernelspec": {
   "display_name": "Python 3 (ipykernel)",
   "language": "python",
   "name": "python3"
  },
  "language_info": {
   "codemirror_mode": {
    "name": "ipython",
    "version": 3
   },
   "file_extension": ".py",
   "mimetype": "text/x-python",
   "name": "python",
   "nbconvert_exporter": "python",
   "pygments_lexer": "ipython3",
   "version": "3.10.8"
  }
 },
 "nbformat": 4,
 "nbformat_minor": 5
}
