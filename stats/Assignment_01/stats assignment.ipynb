{
 "cells": [
  {
   "cell_type": "markdown",
   "id": "d7a3d944",
   "metadata": {},
   "source": [
    "##                                               Stats Assignment 01"
   ]
  },
  {
   "cell_type": "markdown",
   "id": "b0fe732f",
   "metadata": {},
   "source": [
    "**1. Harvard Law School courses often have assigned seating to facilitate the “Socratic method.”\n",
    "Suppose that there are 100 first year Harvard Law students, and each takes two courses:\n",
    "Torts and Contracts. Both are held in the same lecture hall (which has 100 seats), and the\n",
    "seating is uniformly random and independent for the two courses.**"
   ]
  },
  {
   "cell_type": "markdown",
   "id": "696a9931",
   "metadata": {},
   "source": [
    "**(a) Find the probability that no one has the same seat for both courses (exactly; you should\n",
    "leave your answer as a sum).**"
   ]
  },
  {
   "cell_type": "markdown",
   "id": "dd0af8a2",
   "metadata": {},
   "source": [
    "![](Image/Harvard_ques_a_answer.jpg)"
   ]
  },
  {
   "cell_type": "markdown",
   "id": "90cbcf19",
   "metadata": {},
   "source": [
    "**(b) Find a simple but accurate approximation to the probability that no one has the same\n",
    "seat for both courses.**"
   ]
  },
  {
   "cell_type": "markdown",
   "id": "77aae5cd",
   "metadata": {},
   "source": [
    "![](Image/Harvard_ques_b_answer.jpg)"
   ]
  },
  {
   "cell_type": "markdown",
   "id": "055d8f3d",
   "metadata": {},
   "source": [
    "**(c) Find a simple but accurate approximation to the probability that at least two students\n",
    "have the same seat for both courses.**"
   ]
  },
  {
   "cell_type": "markdown",
   "id": "1d914186",
   "metadata": {},
   "source": [
    "![](Image/Harvard_ques_c_answer.jpg)"
   ]
  },
  {
   "cell_type": "code",
   "execution_count": null,
   "id": "c4d140b0",
   "metadata": {},
   "outputs": [],
   "source": []
  },
  {
   "cell_type": "code",
   "execution_count": null,
   "id": "00cee9ae",
   "metadata": {},
   "outputs": [],
   "source": []
  }
 ],
 "metadata": {
  "kernelspec": {
   "display_name": "Python 3 (ipykernel)",
   "language": "python",
   "name": "python3"
  },
  "language_info": {
   "codemirror_mode": {
    "name": "ipython",
    "version": 3
   },
   "file_extension": ".py",
   "mimetype": "text/x-python",
   "name": "python",
   "nbconvert_exporter": "python",
   "pygments_lexer": "ipython3",
   "version": "3.10.8"
  }
 },
 "nbformat": 4,
 "nbformat_minor": 5
}
