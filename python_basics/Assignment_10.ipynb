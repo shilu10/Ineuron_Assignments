{
 "cells": [
  {
   "cell_type": "markdown",
   "id": "c00ae223",
   "metadata": {},
   "source": [
    "#### 1. How do you distinguish between shutil.copy() and shutil.copytree()?\n",
    "**Ans:** `shutil.copy()`, will copy the file content from source file to the destination file. Params of shutil.copy are `src, dst`, `src`, represents the source file content, from where you want to copy from, `dst`, is a destination file, which represents a destination, where you needed to copy the file.\n",
    "\n",
    "* `shutil.copytree`, will copy the entire files and subdirectories content from the `src` directory, and copy to the `dst` directory.\n"
   ]
  },
  {
   "cell_type": "markdown",
   "id": "0a932861",
   "metadata": {},
   "source": [
    "#### 2. What function is used to rename files??\n",
    "**Ans:** `os.rename()` function is used to rename files or directories using a python program, this function takes two arguments `src` and `dst`, `src` represents the name file/directory which we want to rename, whereas `dst` represents the new name of the file/directory."
   ]
  },
  {
   "cell_type": "markdown",
   "id": "34ce7a3d",
   "metadata": {},
   "source": [
    "#### 3. What is the difference between the delete functions in the send2trash and shutil modules?\n",
    "**Ans:** Shutil module provides a funciton called as `shutil.rmtree()` which deletes a directory and all its contents. The other functions with similar functionality are `os.remove()` -> removes a file, `os.rmdir()` removes a empty directory. The problem with these functions is once a file is deleted. it will be lost permanently, if a file is deleted accidentally using these methods there is no way we can recover the deleted file\n",
    "\n",
    "Where as send2trash module provides a function called `send2trash.send2trash()` to delete a file/directory. these methods moves the files/directories to trash folder instead of permanently deleting them. hence if a file/folder is deleted accidentally it can be still recovered from trash folder, if is deleted using the `send2trash.send2trash()` function. `send2trash` is not included with python standard libary like `os` & `shutil` modules. it needs to be installed explicitly using the command `!pip install send2trash`"
   ]
  },
  {
   "cell_type": "markdown",
   "id": "bf6ed792",
   "metadata": {},
   "source": [
    "#### 4.ZipFile objects have a close() method just like File objects’ close() method. What ZipFile method is equivalent to File objects’ open() method?\n",
    "**Ans:** ZipFile Module provides a method called as `zipfile.ZipFile()` to read and write to zipFiles. it takes arugments lile filename and mode etc `zipfile.ZipFile('filename', mode = 'r')`"
   ]
  },
  {
   "cell_type": "markdown",
   "id": "c625fcea",
   "metadata": {},
   "source": [
    "#### 5. Create a programme that searches a folder tree for files with a certain file extension (such as .pdf or .jpg). Copy these files from whatever location they are in to a new folder"
   ]
  },
  {
   "cell_type": "code",
   "execution_count": 2,
   "id": "4710d7d8",
   "metadata": {},
   "outputs": [],
   "source": [
    "import os\n",
    "import shutil\n",
    "from glob import glob\n",
    "from typing import List\n",
    "\n",
    "def move(src: str, destination: str):\n",
    "    src = os.path.abspath(src)\n",
    "    dst = os.path.abspath(dst)\n",
    "    files_grabbed = [glob.glob(e) for e in [f'{src}*.pdf', f'{src}*.jpg']] \n",
    "    \n",
    "    for file in files_grabbed:\n",
    "        shutil.copy(file, dst)\n",
    "        print(f'Files copied successfully from {src} to {dst}')\n",
    "    "
   ]
  },
  {
   "cell_type": "code",
   "execution_count": 1,
   "id": "2f282f12",
   "metadata": {},
   "outputs": [],
   "source": [
    "src = 'source_directory/'\n",
    "dst = 'destination_directory'\n",
    "move(src, dst)"
   ]
  }
 ],
 "metadata": {
  "kernelspec": {
   "display_name": "Python 3 (ipykernel)",
   "language": "python",
   "name": "python3"
  },
  "language_info": {
   "codemirror_mode": {
    "name": "ipython",
    "version": 3
   },
   "file_extension": ".py",
   "mimetype": "text/x-python",
   "name": "python",
   "nbconvert_exporter": "python",
   "pygments_lexer": "ipython3",
   "version": "3.10.8"
  }
 },
 "nbformat": 4,
 "nbformat_minor": 5
}
