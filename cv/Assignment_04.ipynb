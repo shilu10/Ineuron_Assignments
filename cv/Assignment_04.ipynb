{
 "cells": [
  {
   "cell_type": "markdown",
   "id": "99b071bc",
   "metadata": {},
   "source": [
    "# Assignment 04 Solutions"
   ]
  },
  {
   "cell_type": "markdown",
   "id": "faed445a",
   "metadata": {},
   "source": [
    "#### 1. What is the concept of cyclical momentum?"
   ]
  },
  {
   "cell_type": "markdown",
   "id": "13769b07",
   "metadata": {},
   "source": [
    "    It suggests that the momentum varies in the opposite direction of the learning rate: when we are at high learning rates, we use less momentum, and we use more again in the annealing phase."
   ]
  },
  {
   "cell_type": "code",
   "execution_count": null,
   "id": "ecbaa178",
   "metadata": {},
   "outputs": [],
   "source": []
  },
  {
   "cell_type": "markdown",
   "id": "0804ecc1",
   "metadata": {},
   "source": [
    "#### 2. What callback keeps track of hyperparameter values (along with other data) during training?"
   ]
  },
  {
   "cell_type": "markdown",
   "id": "dc8d2524",
   "metadata": {},
   "source": [
    "    The Recorder callback."
   ]
  },
  {
   "cell_type": "code",
   "execution_count": null,
   "id": "f06150dc",
   "metadata": {},
   "outputs": [],
   "source": []
  },
  {
   "cell_type": "markdown",
   "id": "a300559d",
   "metadata": {},
   "source": [
    "#### 3. In the color dim plot, what does one column of pixels represent?"
   ]
  },
  {
   "cell_type": "markdown",
   "id": "f4387f2c",
   "metadata": {},
   "source": [
    "    It represents the histogram of activations for the specified layer for that batch.\n"
   ]
  },
  {
   "cell_type": "code",
   "execution_count": null,
   "id": "98bb4217",
   "metadata": {},
   "outputs": [],
   "source": []
  },
  {
   "cell_type": "markdown",
   "id": "4246d2fe",
   "metadata": {},
   "source": [
    "#### 4. In color dim, what does \"poor teaching\" look like? What is the reason for this?"
   ]
  },
  {
   "cell_type": "markdown",
   "id": "f4189fc2",
   "metadata": {},
   "source": [
    "    There are two learnable parameters, beta and gamma, which allows the model to have any mean and variance for each layer, which are learned during training."
   ]
  },
  {
   "cell_type": "code",
   "execution_count": null,
   "id": "96676db5",
   "metadata": {},
   "outputs": [],
   "source": []
  },
  {
   "cell_type": "markdown",
   "id": "76b8aa18",
   "metadata": {},
   "source": [
    "#### 5. Does a batch normalization layer have any trainable parameters?"
   ]
  },
  {
   "cell_type": "markdown",
   "id": "10d6d24f",
   "metadata": {},
   "source": [
    "        There are two learnable parameters, beta and gamma, which allows the model to have any mean and variance for each layer, which are learned during training."
   ]
  },
  {
   "cell_type": "code",
   "execution_count": null,
   "id": "4609f999",
   "metadata": {},
   "outputs": [],
   "source": []
  },
  {
   "cell_type": "markdown",
   "id": "4bf4effd",
   "metadata": {},
   "source": [
    "#### 6. In batch normalization during preparation, what statistics are used to normalize? What about during the validation process?"
   ]
  },
  {
   "cell_type": "markdown",
   "id": "9e8784f8",
   "metadata": {},
   "source": [
    "    During training, we use the mean and standard deviation of the batch to normalize the data, while during validation we instead use a running mean of the statistics calculated during training."
   ]
  },
  {
   "cell_type": "code",
   "execution_count": null,
   "id": "7395afde",
   "metadata": {},
   "outputs": [],
   "source": []
  },
  {
   "cell_type": "markdown",
   "id": "2fac40b1",
   "metadata": {},
   "source": [
    "#### 7. Why do batch normalization layers help models generalize better?"
   ]
  },
  {
   "cell_type": "markdown",
   "id": "03435960",
   "metadata": {},
   "source": [
    "    Most researchers believe that the reason for this is that batch normalization adds some extra randomness to the training process."
   ]
  },
  {
   "cell_type": "code",
   "execution_count": null,
   "id": "6757dcd8",
   "metadata": {},
   "outputs": [],
   "source": []
  },
  {
   "cell_type": "markdown",
   "id": "36e94190",
   "metadata": {},
   "source": [
    "#### 8.Explain between MAX POOLING and AVERAGE POOLING is number eight."
   ]
  },
  {
   "cell_type": "markdown",
   "id": "47692fc1",
   "metadata": {},
   "source": [
    "    The three types of pooling operations are:\n",
    "\n",
    "        1. Max pooling: The maximum pixel value of the batch is selected.\n",
    "        2. Min pooling: The minimum pixel value of the batch is selected.\n",
    "        3. Average pooling: The average value of all the pixels in the batch is selected.\n",
    "  <img src='data:image/png;base64,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' />"
   ]
  },
  {
   "cell_type": "code",
   "execution_count": null,
   "id": "8e52bcfe",
   "metadata": {},
   "outputs": [],
   "source": []
  },
  {
   "cell_type": "markdown",
   "id": "84baff66",
   "metadata": {},
   "source": [
    "#### 9. What is the purpose of the POOLING LAYER?"
   ]
  },
  {
   "cell_type": "markdown",
   "id": "d8beb4d6",
   "metadata": {},
   "source": [
    "    Solving the problem of shift invariance.\n",
    "    \n",
    "    For CNNs, I think it means the invariance to small* displacements of the input image. For example in the character recognition task, if you train the system by shifting (i.e. sliding the images to left/right and up/down) a little bit, you learn a more generalizable detector, that works under difficult conditions, i.e. when the character is not perfectly aligned to the center of the image. Similar precautions are also taken for rotation, scale, etc."
   ]
  },
  {
   "cell_type": "code",
   "execution_count": null,
   "id": "2656ed10",
   "metadata": {},
   "outputs": [],
   "source": []
  },
  {
   "cell_type": "markdown",
   "id": "dff43a28",
   "metadata": {},
   "source": [
    "#### 10. Why do we end up with Completely CONNECTED LAYERS?"
   ]
  },
  {
   "cell_type": "markdown",
   "id": "cbe0924e",
   "metadata": {},
   "source": [
    "    ach output neuron (thus - prediction wrt. to some class) depends only on the subset of the input dimensions (pixels). This would be something among the lines of a model, which only decides whether an image is an element of class 1 depending on first few \"columns\" (or, depending on the architecture, rows, or some patch of the image), then whether this is class 2 on a few next columns (maybe overlapping), ..., and finally some class K depending on a few last columns. Usually data does not have this characteristic, you cannot classify image of the cat based on a few first columns and ignoring the rest."
   ]
  },
  {
   "cell_type": "code",
   "execution_count": null,
   "id": "009f4b99",
   "metadata": {},
   "outputs": [],
   "source": []
  },
  {
   "cell_type": "markdown",
   "id": "46d8375d",
   "metadata": {},
   "source": [
    "#### 11. What do you mean by PARAMETERS?"
   ]
  },
  {
   "cell_type": "code",
   "execution_count": null,
   "id": "9ce7a6af",
   "metadata": {},
   "outputs": [],
   "source": []
  },
  {
   "cell_type": "markdown",
   "id": "d520bf39",
   "metadata": {},
   "source": [
    "#### 12. What formulas are used to measure these PARAMETERS?"
   ]
  },
  {
   "cell_type": "code",
   "execution_count": null,
   "id": "e8351802",
   "metadata": {},
   "outputs": [],
   "source": []
  }
 ],
 "metadata": {
  "kernelspec": {
   "display_name": "Python 3 (ipykernel)",
   "language": "python",
   "name": "python3"
  },
  "language_info": {
   "codemirror_mode": {
    "name": "ipython",
    "version": 3
   },
   "file_extension": ".py",
   "mimetype": "text/x-python",
   "name": "python",
   "nbconvert_exporter": "python",
   "pygments_lexer": "ipython3",
   "version": "3.10.8"
  }
 },
 "nbformat": 4,
 "nbformat_minor": 5
}
