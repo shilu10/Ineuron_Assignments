{
 "cells": [
  {
   "cell_type": "markdown",
   "id": "4b2b3d88",
   "metadata": {},
   "source": [
    "# Assignment 07 Solutions"
   ]
  },
  {
   "cell_type": "code",
   "execution_count": null,
   "id": "19b0981f",
   "metadata": {},
   "outputs": [],
   "source": []
  },
  {
   "cell_type": "markdown",
   "id": "982750fa",
   "metadata": {},
   "source": [
    "#### Q-13. Write an SQL query to show only odd rows from a table."
   ]
  },
  {
   "cell_type": "code",
   "execution_count": null,
   "id": "def2021e",
   "metadata": {},
   "outputs": [],
   "source": [
    "select * from (select *, row_number() over(order by id asc) as r_n from row) as sub_query where r_n % 2 != 0;"
   ]
  },
  {
   "cell_type": "code",
   "execution_count": null,
   "id": "bfa7ee6f",
   "metadata": {},
   "outputs": [],
   "source": []
  },
  {
   "cell_type": "markdown",
   "id": "59ae0ae8",
   "metadata": {},
   "source": [
    "#### Q-14. Write an SQL query to clone a new table from another table."
   ]
  },
  {
   "cell_type": "code",
   "execution_count": null,
   "id": "12c76c10",
   "metadata": {},
   "outputs": [],
   "source": [
    "insert into new_table select * from old_table;"
   ]
  },
  {
   "cell_type": "code",
   "execution_count": null,
   "id": "bf1b35a4",
   "metadata": {},
   "outputs": [],
   "source": []
  },
  {
   "cell_type": "code",
   "execution_count": null,
   "id": "504c4826",
   "metadata": {},
   "outputs": [],
   "source": []
  },
  {
   "cell_type": "code",
   "execution_count": null,
   "id": "6f5b33ad",
   "metadata": {},
   "outputs": [],
   "source": []
  },
  {
   "cell_type": "code",
   "execution_count": null,
   "id": "6662bbbd",
   "metadata": {},
   "outputs": [],
   "source": []
  },
  {
   "cell_type": "code",
   "execution_count": null,
   "id": "06cd7756",
   "metadata": {},
   "outputs": [],
   "source": []
  },
  {
   "cell_type": "code",
   "execution_count": null,
   "id": "320b38e6",
   "metadata": {},
   "outputs": [],
   "source": []
  },
  {
   "cell_type": "code",
   "execution_count": null,
   "id": "4fdb4944",
   "metadata": {},
   "outputs": [],
   "source": []
  }
 ],
 "metadata": {
  "kernelspec": {
   "display_name": "Python 3 (ipykernel)",
   "language": "python",
   "name": "python3"
  },
  "language_info": {
   "codemirror_mode": {
    "name": "ipython",
    "version": 3
   },
   "file_extension": ".py",
   "mimetype": "text/x-python",
   "name": "python",
   "nbconvert_exporter": "python",
   "pygments_lexer": "ipython3",
   "version": "3.10.8"
  }
 },
 "nbformat": 4,
 "nbformat_minor": 5
}
