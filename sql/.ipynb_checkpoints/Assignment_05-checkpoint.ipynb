{
 "cells": [
  {
   "cell_type": "markdown",
   "id": "73a5792b",
   "metadata": {},
   "source": [
    "# SQL Assignment 05"
   ]
  },
  {
   "cell_type": "code",
   "execution_count": null,
   "id": "f5c32e13",
   "metadata": {},
   "outputs": [],
   "source": []
  },
  {
   "cell_type": "markdown",
   "id": "a327a2ca",
   "metadata": {},
   "source": [
    "#### Q-1. Write an SQL query to print details of workers excluding first names, “Vipul” and “Satish” from Worker table."
   ]
  },
  {
   "cell_type": "code",
   "execution_count": null,
   "id": "92d17b6d",
   "metadata": {},
   "outputs": [],
   "source": [
    "select * from worker where first_name not in (\"vipul\", \"satish\");"
   ]
  },
  {
   "cell_type": "code",
   "execution_count": null,
   "id": "c9f7eba5",
   "metadata": {},
   "outputs": [],
   "source": []
  },
  {
   "cell_type": "markdown",
   "id": "ede574ac",
   "metadata": {},
   "source": [
    "#### Q-2. Write an SQL query to print details of the Workers whose FIRST_NAME ends with ‘h’ and contains six alphabets.\n"
   ]
  },
  {
   "cell_type": "code",
   "execution_count": null,
   "id": "e7011d1c",
   "metadata": {},
   "outputs": [],
   "source": [
    "# app1\n",
    "select * from worker where first_name like '______h';"
   ]
  },
  {
   "cell_type": "code",
   "execution_count": null,
   "id": "425a2bca",
   "metadata": {},
   "outputs": [],
   "source": [
    "# app2\n",
    "select * from worker where right(first_name) = \"h\";"
   ]
  },
  {
   "cell_type": "code",
   "execution_count": null,
   "id": "113f210c",
   "metadata": {},
   "outputs": [],
   "source": []
  },
  {
   "cell_type": "markdown",
   "id": "4ba30e33",
   "metadata": {},
   "source": [
    "#### Q-3. Write a query to validate Email of Employee."
   ]
  },
  {
   "cell_type": "code",
   "execution_count": null,
   "id": "78943e7b",
   "metadata": {},
   "outputs": [],
   "source": [
    "select * from worker where email LIKE \"_%@_%._%\""
   ]
  },
  {
   "cell_type": "code",
   "execution_count": null,
   "id": "a7d292c8",
   "metadata": {},
   "outputs": [],
   "source": []
  }
 ],
 "metadata": {
  "kernelspec": {
   "display_name": "Python 3 (ipykernel)",
   "language": "python",
   "name": "python3"
  },
  "language_info": {
   "codemirror_mode": {
    "name": "ipython",
    "version": 3
   },
   "file_extension": ".py",
   "mimetype": "text/x-python",
   "name": "python",
   "nbconvert_exporter": "python",
   "pygments_lexer": "ipython3",
   "version": "3.10.8"
  }
 },
 "nbformat": 4,
 "nbformat_minor": 5
}
