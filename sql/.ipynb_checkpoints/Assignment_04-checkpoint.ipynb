{
 "cells": [
  {
   "cell_type": "markdown",
   "id": "a55ebf66",
   "metadata": {},
   "source": [
    "# SQL Assignment - 04"
   ]
  },
  {
   "cell_type": "code",
   "execution_count": null,
   "id": "eb81dd04",
   "metadata": {},
   "outputs": [],
   "source": []
  },
  {
   "cell_type": "markdown",
   "id": "36d20bab",
   "metadata": {},
   "source": [
    "#### Q-1. Write an SQL query to print the FIRST_NAME from Worker table after replacing ‘a’ with ‘A’."
   ]
  },
  {
   "cell_type": "code",
   "execution_count": null,
   "id": "9a00ea96",
   "metadata": {},
   "outputs": [],
   "source": [
    "select REPLACE(first_name, \"a\", \"A\") as first_name from worker;"
   ]
  },
  {
   "cell_type": "code",
   "execution_count": null,
   "id": "e83c062f",
   "metadata": {},
   "outputs": [],
   "source": []
  },
  {
   "cell_type": "markdown",
   "id": "3bde3062",
   "metadata": {},
   "source": [
    "#### Q-2. Write an SQL query to print all Worker details from the Worker table order by FIRST_NAME Ascending and DEPARTMENT Descending.\n"
   ]
  },
  {
   "cell_type": "code",
   "execution_count": null,
   "id": "325331f2",
   "metadata": {},
   "outputs": [],
   "source": [
    "select * from Worker order by first_name asc, last_name desc;"
   ]
  },
  {
   "cell_type": "code",
   "execution_count": null,
   "id": "fcb847fb",
   "metadata": {},
   "outputs": [],
   "source": []
  },
  {
   "cell_type": "markdown",
   "id": "942f64a0",
   "metadata": {},
   "source": [
    "#### Q-3. Write an SQL query to fetch the names of workers who earn the highest salary."
   ]
  },
  {
   "cell_type": "code",
   "execution_count": null,
   "id": "c96eccdf",
   "metadata": {},
   "outputs": [],
   "source": [
    "# app1\n",
    "select name from (select name, row_number() over(order by salary desc) as r_n from worker) where r_n=1;"
   ]
  },
  {
   "cell_type": "code",
   "execution_count": null,
   "id": "07ba1554",
   "metadata": {},
   "outputs": [],
   "source": [
    "#app2\n",
    "select name from worker where salary = (select MAX(salary) from worker);"
   ]
  }
 ],
 "metadata": {
  "kernelspec": {
   "display_name": "Python 3 (ipykernel)",
   "language": "python",
   "name": "python3"
  },
  "language_info": {
   "codemirror_mode": {
    "name": "ipython",
    "version": 3
   },
   "file_extension": ".py",
   "mimetype": "text/x-python",
   "name": "python",
   "nbconvert_exporter": "python",
   "pygments_lexer": "ipython3",
   "version": "3.10.8"
  }
 },
 "nbformat": 4,
 "nbformat_minor": 5
}
