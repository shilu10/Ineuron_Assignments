{
 "cells": [
  {
   "cell_type": "markdown",
   "id": "6a14539e",
   "metadata": {},
   "source": [
    "## Assignment 10 Solutions"
   ]
  },
  {
   "cell_type": "code",
   "execution_count": null,
   "id": "c7bb7ba6",
   "metadata": {},
   "outputs": [],
   "source": []
  },
  {
   "cell_type": "markdown",
   "id": "8093a61f",
   "metadata": {},
   "source": [
    "#### Q-19. Write an SQL query to determine the 5th highest salary without using TOP or limit method."
   ]
  },
  {
   "cell_type": "code",
   "execution_count": null,
   "id": "3ffa9cb4",
   "metadata": {},
   "outputs": [],
   "source": [
    "select salary from table_name order by salary desc limit 1 offset 5"
   ]
  },
  {
   "cell_type": "code",
   "execution_count": null,
   "id": "dcf40044",
   "metadata": {},
   "outputs": [],
   "source": []
  },
  {
   "cell_type": "markdown",
   "id": "5e9a4eb0",
   "metadata": {},
   "source": [
    "#### Q-20. Write an SQL query to fetch the list of employees with the same salary."
   ]
  },
  {
   "cell_type": "code",
   "execution_count": null,
   "id": "f3b8eb01",
   "metadata": {},
   "outputs": [],
   "source": [
    "select * from table where salary in (select salary from table group by salary having count(salary) > 1);"
   ]
  },
  {
   "cell_type": "code",
   "execution_count": null,
   "id": "48e5cedc",
   "metadata": {},
   "outputs": [],
   "source": []
  },
  {
   "cell_type": "code",
   "execution_count": null,
   "id": "fc5d3f9d",
   "metadata": {},
   "outputs": [],
   "source": []
  }
 ],
 "metadata": {
  "kernelspec": {
   "display_name": "Python 3 (ipykernel)",
   "language": "python",
   "name": "python3"
  },
  "language_info": {
   "codemirror_mode": {
    "name": "ipython",
    "version": 3
   },
   "file_extension": ".py",
   "mimetype": "text/x-python",
   "name": "python",
   "nbconvert_exporter": "python",
   "pygments_lexer": "ipython3",
   "version": "3.10.8"
  }
 },
 "nbformat": 4,
 "nbformat_minor": 5
}
