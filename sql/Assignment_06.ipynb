{
 "cells": [
  {
   "cell_type": "markdown",
   "id": "7e671f89",
   "metadata": {},
   "source": [
    "# Assignment 06 Solutions"
   ]
  },
  {
   "cell_type": "markdown",
   "id": "4220c684",
   "metadata": {},
   "source": [
    "#### Q-1. Write an SQL query to print details of the Workers who have joined in Feb’2014."
   ]
  },
  {
   "cell_type": "code",
   "execution_count": null,
   "id": "27756f63",
   "metadata": {},
   "outputs": [],
   "source": [
    "select * from workers where month(joining_data) == 2 and year(joining_date) = 2014;"
   ]
  },
  {
   "cell_type": "code",
   "execution_count": null,
   "id": "b16c671b",
   "metadata": {},
   "outputs": [],
   "source": []
  },
  {
   "cell_type": "markdown",
   "id": "1fcda126",
   "metadata": {},
   "source": [
    "#### Q-2. Write an SQL query to fetch duplicate records having matching data in some fields of a table.\n"
   ]
  },
  {
   "cell_type": "code",
   "execution_count": null,
   "id": "c4b5f497",
   "metadata": {},
   "outputs": [],
   "source": [
    "select column_name, COUNT(column_name) from worker group by field having COUNT(column_name) > 1;`"
   ]
  },
  {
   "cell_type": "code",
   "execution_count": null,
   "id": "1f80ed22",
   "metadata": {},
   "outputs": [],
   "source": []
  },
  {
   "cell_type": "markdown",
   "id": "c6a36e24",
   "metadata": {},
   "source": [
    "#### Q-3. How to remove duplicate rows from Employees table."
   ]
  },
  {
   "cell_type": "code",
   "execution_count": null,
   "id": "595ca69c",
   "metadata": {},
   "outputs": [],
   "source": [
    "delete from duplicate where name in (select name from duplicate group by name having count(name) > 1);"
   ]
  },
  {
   "cell_type": "code",
   "execution_count": null,
   "id": "5fe6753f",
   "metadata": {},
   "outputs": [],
   "source": []
  },
  {
   "cell_type": "code",
   "execution_count": null,
   "id": "46d3e561",
   "metadata": {},
   "outputs": [],
   "source": []
  },
  {
   "cell_type": "code",
   "execution_count": null,
   "id": "2af9858f",
   "metadata": {},
   "outputs": [],
   "source": []
  },
  {
   "cell_type": "code",
   "execution_count": null,
   "id": "5af30863",
   "metadata": {},
   "outputs": [],
   "source": []
  },
  {
   "cell_type": "code",
   "execution_count": null,
   "id": "da639f8f",
   "metadata": {},
   "outputs": [],
   "source": []
  },
  {
   "cell_type": "code",
   "execution_count": null,
   "id": "722851b7",
   "metadata": {},
   "outputs": [],
   "source": []
  },
  {
   "cell_type": "code",
   "execution_count": null,
   "id": "da5b23c0",
   "metadata": {},
   "outputs": [],
   "source": []
  },
  {
   "cell_type": "code",
   "execution_count": null,
   "id": "e459bd7c",
   "metadata": {},
   "outputs": [],
   "source": []
  },
  {
   "cell_type": "code",
   "execution_count": null,
   "id": "2b404bfb",
   "metadata": {},
   "outputs": [],
   "source": []
  },
  {
   "cell_type": "code",
   "execution_count": null,
   "id": "e9c87109",
   "metadata": {},
   "outputs": [],
   "source": []
  },
  {
   "cell_type": "code",
   "execution_count": null,
   "id": "3e743079",
   "metadata": {},
   "outputs": [],
   "source": []
  },
  {
   "cell_type": "code",
   "execution_count": null,
   "id": "f176b57a",
   "metadata": {},
   "outputs": [],
   "source": [
    "**Ans:** `SELECT column_name, COUNT(column_name) FROM Worker GROUP BY FEILD HAVING COUNT(column_name) > 1;`"
   ]
  },
  {
   "cell_type": "code",
   "execution_count": null,
   "id": "c7c34f5e",
   "metadata": {},
   "outputs": [],
   "source": [
    "CREATE TABLE Employee (\n",
    "    ID INT PRIMARY KEY AUTO_INCREMENT NOT NULL,\n",
    "    FIRST_NAME VARCHAR(50),\n",
    "    LAST_NAME VARCHAR(50),\n",
    "    COUNTRY VARCHAR(50)\n",
    ");\n",
    "INSERT INTO Employee VALUES \n",
    "(1,'ADITYA','VARMA','INDIA'),\n",
    "(2,'ADITYA','VARMA','INDIA'),\n",
    "(3,'ADITYA','VARMA','INDIA'),\n",
    "(4,'STEVE','JOBS','USA'),\n",
    "(5,'STEVE','JOBS','USA'),\n",
    "(6,'STEVE','JOBS','USA');\n",
    "\n",
    "DELETE e1.* from employee e1 INNER JOIN employee e2 WHERE e1.id > e2.id AND e1.FIRST_NAME = e2.FIRST_NAME AND e1.LAST_NAME = e2.LAST_NAME AND e1.COUNTRY = e2.COUNTRY;"
   ]
  },
  {
   "cell_type": "code",
   "execution_count": null,
   "id": "19971b20",
   "metadata": {},
   "outputs": [],
   "source": [
    "# Approach 1\n",
    "SELECT * FROM Worker WHERE YEAR(JOINING_DATE) = 2014 AND MONTH(JOINING_DATE) = 02;\n",
    "# Approach 2\n",
    "SELECT * FROM Worker WHERE JOINING_DATE LIKE \"%2014-02%\""
   ]
  }
 ],
 "metadata": {
  "kernelspec": {
   "display_name": "Python 3 (ipykernel)",
   "language": "python",
   "name": "python3"
  },
  "language_info": {
   "codemirror_mode": {
    "name": "ipython",
    "version": 3
   },
   "file_extension": ".py",
   "mimetype": "text/x-python",
   "name": "python",
   "nbconvert_exporter": "python",
   "pygments_lexer": "ipython3",
   "version": "3.10.8"
  }
 },
 "nbformat": 4,
 "nbformat_minor": 5
}
