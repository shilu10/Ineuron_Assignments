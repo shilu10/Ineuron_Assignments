{
 "cells": [
  {
   "cell_type": "markdown",
   "id": "893cc07c",
   "metadata": {},
   "source": [
    "## SQL(Structural Query Language)"
   ]
  },
  {
   "cell_type": "code",
   "execution_count": null,
   "id": "8fba9020",
   "metadata": {},
   "outputs": [],
   "source": []
  },
  {
   "cell_type": "markdown",
   "id": "5b83baa3",
   "metadata": {},
   "source": [
    "**- Q-1. Write an SQL query to fetch “FIRST_NAME” from Worker table using the alias name as `WORKER_NAME`**"
   ]
  },
  {
   "cell_type": "markdown",
   "id": "6e8f231c",
   "metadata": {},
   "source": [
    "**- `select FIRST_NAME as WORKER_NAME from worker;`**"
   ]
  },
  {
   "cell_type": "code",
   "execution_count": null,
   "id": "c3f73b4c",
   "metadata": {},
   "outputs": [],
   "source": []
  },
  {
   "cell_type": "markdown",
   "id": "9b6caad8",
   "metadata": {},
   "source": [
    "**- Q-2. Write an SQL query to fetch unique values of DEPARTMENT from Worker table.**"
   ]
  },
  {
   "cell_type": "markdown",
   "id": "3638a3a6",
   "metadata": {},
   "source": [
    "**- `select distinct department from worker;`**"
   ]
  },
  {
   "cell_type": "code",
   "execution_count": null,
   "id": "6ad9b6b2",
   "metadata": {},
   "outputs": [],
   "source": []
  },
  {
   "cell_type": "markdown",
   "id": "a90b3b86",
   "metadata": {},
   "source": [
    "**-Q3. Write an SQL query to show the last 5 record from a table.**"
   ]
  },
  {
   "cell_type": "code",
   "execution_count": null,
   "id": "b84c3663",
   "metadata": {},
   "outputs": [],
   "source": []
  }
 ],
 "metadata": {
  "kernelspec": {
   "display_name": "Python 3 (ipykernel)",
   "language": "python",
   "name": "python3"
  },
  "language_info": {
   "codemirror_mode": {
    "name": "ipython",
    "version": 3
   },
   "file_extension": ".py",
   "mimetype": "text/x-python",
   "name": "python",
   "nbconvert_exporter": "python",
   "pygments_lexer": "ipython3",
   "version": "3.10.8"
  }
 },
 "nbformat": 4,
 "nbformat_minor": 5
}
