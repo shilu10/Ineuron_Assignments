{
 "cells": [
  {
   "cell_type": "markdown",
   "id": "c7832919",
   "metadata": {},
   "source": [
    "# SQL Assignment 02 "
   ]
  },
  {
   "cell_type": "markdown",
   "id": "7074de6a",
   "metadata": {},
   "source": []
  },
  {
   "cell_type": "markdown",
   "id": "3bbd71f7",
   "metadata": {},
   "source": [
    "#### Q-1. Write an SQL query to print the first three characters of  FIRST_NAME from Worker table."
   ]
  },
  {
   "cell_type": "markdown",
   "id": "586380f8",
   "metadata": {},
   "source": [
    "**- `select SUBSTRING(first_name, 1, 3) from worker;`**"
   ]
  },
  {
   "cell_type": "code",
   "execution_count": null,
   "id": "f3b78ec1",
   "metadata": {},
   "outputs": [],
   "source": []
  },
  {
   "cell_type": "markdown",
   "id": "cd959b24",
   "metadata": {},
   "source": [
    "#### Q-2. Write an SQL query to find the position of the alphabet (‘a’) in the first name column ‘Amitabh’ from Worker table."
   ]
  },
  {
   "cell_type": "markdown",
   "id": "fcef1d00",
   "metadata": {},
   "source": [
    "**- `select LOCATE('a', first_name) from worker where first_name = 'Amitabh;`**"
   ]
  },
  {
   "cell_type": "code",
   "execution_count": null,
   "id": "938dc2ca",
   "metadata": {},
   "outputs": [],
   "source": []
  },
  {
   "cell_type": "markdown",
   "id": "f535e5de",
   "metadata": {},
   "source": [
    "#### Q-3. Write an SQL query to print the name of employees having the highest salary in each department."
   ]
  },
  {
   "cell_type": "markdown",
   "id": "5266e744",
   "metadata": {},
   "source": [
    "**- `select name from company group by department"
   ]
  }
 ],
 "metadata": {
  "kernelspec": {
   "display_name": "Python 3 (ipykernel)",
   "language": "python",
   "name": "python3"
  },
  "language_info": {
   "codemirror_mode": {
    "name": "ipython",
    "version": 3
   },
   "file_extension": ".py",
   "mimetype": "text/x-python",
   "name": "python",
   "nbconvert_exporter": "python",
   "pygments_lexer": "ipython3",
   "version": "3.10.8"
  }
 },
 "nbformat": 4,
 "nbformat_minor": 5
}
