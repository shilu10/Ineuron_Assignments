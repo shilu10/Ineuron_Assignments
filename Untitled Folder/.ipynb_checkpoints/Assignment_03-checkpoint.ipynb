{
 "cells": [
  {
   "cell_type": "markdown",
   "id": "aac1af9c",
   "metadata": {},
   "source": [
    "# SQL Assignment - 03"
   ]
  },
  {
   "cell_type": "code",
   "execution_count": null,
   "id": "618ee479",
   "metadata": {},
   "outputs": [],
   "source": []
  },
  {
   "cell_type": "markdown",
   "id": "32ee1d40",
   "metadata": {},
   "source": [
    "#### Q-1. Write an SQL query to print the FIRST_NAME from Worker table after removing white spaces from the right side."
   ]
  },
  {
   "cell_type": "code",
   "execution_count": null,
   "id": "36e7b894",
   "metadata": {},
   "outputs": [],
   "source": [
    "# app1\n",
    "select RTRIM(first_name) as first_name FROM worker;"
   ]
  },
  {
   "cell_type": "code",
   "execution_count": null,
   "id": "e99faadf",
   "metadata": {},
   "outputs": [],
   "source": [
    "# app2\n",
    "select REPLACE(first_name, \" \", \"\")  as first_name FROM worker;"
   ]
  },
  {
   "cell_type": "code",
   "execution_count": null,
   "id": "32b3da7e",
   "metadata": {},
   "outputs": [],
   "source": []
  },
  {
   "cell_type": "markdown",
   "id": "b9887f18",
   "metadata": {},
   "source": [
    "#### Q-2. Write an SQL query that fetches the unique values of DEPARTMENT from Worker table and prints its length."
   ]
  },
  {
   "cell_type": "code",
   "execution_count": null,
   "id": "885f58de",
   "metadata": {},
   "outputs": [],
   "source": [
    "select DISTINCT(department),LEN(department) from worker;"
   ]
  },
  {
   "cell_type": "code",
   "execution_count": null,
   "id": "ec70d902",
   "metadata": {},
   "outputs": [],
   "source": []
  },
  {
   "cell_type": "markdown",
   "id": "4056adac",
   "metadata": {},
   "source": [
    "#### Q-3. Write an SQL query to fetch nth max salaries from a table."
   ]
  },
  {
   "cell_type": "code",
   "execution_count": null,
   "id": "089af30d",
   "metadata": {},
   "outputs": [],
   "source": [
    "# app1 \n",
    "\n",
    "select salary from (select row_number() over(order by salary) as r_w, salary from worker) where r_w == n;"
   ]
  },
  {
   "cell_type": "code",
   "execution_count": null,
   "id": "d5f03c04",
   "metadata": {},
   "outputs": [],
   "source": [
    "#app2 \n",
    "\n",
    "select salary from worker order by salary desc limit 1 offset n;"
   ]
  },
  {
   "cell_type": "code",
   "execution_count": null,
   "id": "eb0598a8",
   "metadata": {},
   "outputs": [],
   "source": []
  },
  {
   "cell_type": "code",
   "execution_count": null,
   "id": "49d1aa27",
   "metadata": {},
   "outputs": [],
   "source": []
  }
 ],
 "metadata": {
  "kernelspec": {
   "display_name": "Python 3 (ipykernel)",
   "language": "python",
   "name": "python3"
  },
  "language_info": {
   "codemirror_mode": {
    "name": "ipython",
    "version": 3
   },
   "file_extension": ".py",
   "mimetype": "text/x-python",
   "name": "python",
   "nbconvert_exporter": "python",
   "pygments_lexer": "ipython3",
   "version": "3.10.8"
  }
 },
 "nbformat": 4,
 "nbformat_minor": 5
}
