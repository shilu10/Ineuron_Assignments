{
 "cells": [
  {
   "cell_type": "markdown",
   "id": "06a7325e",
   "metadata": {},
   "source": [
    "# SQL Assignment 02 "
   ]
  },
  {
   "cell_type": "markdown",
   "id": "24b4dada",
   "metadata": {},
   "source": []
  },
  {
   "cell_type": "markdown",
   "id": "3fdf7f1c",
   "metadata": {},
   "source": [
    "#### Q-1. Write an SQL query to print the first three characters of  FIRST_NAME from Worker table."
   ]
  },
  {
   "cell_type": "markdown",
   "id": "90962739",
   "metadata": {},
   "source": [
    "**- `select SUBSTRING(first_name, 1, 3) from worker;`**"
   ]
  },
  {
   "cell_type": "code",
   "execution_count": null,
   "id": "6365a10c",
   "metadata": {},
   "outputs": [],
   "source": []
  },
  {
   "cell_type": "markdown",
   "id": "c77263fd",
   "metadata": {},
   "source": [
    "#### Q-2. Write an SQL query to find the position of the alphabet (‘a’) in the first name column ‘Amitabh’ from Worker table."
   ]
  },
  {
   "cell_type": "markdown",
   "id": "87f923af",
   "metadata": {},
   "source": [
    "**- `select LOCATE('a', first_name) from Worker WHERE FIRST_NAME = 'Amitabh';'**"
   ]
  }
 ],
 "metadata": {
  "kernelspec": {
   "display_name": "Python 3 (ipykernel)",
   "language": "python",
   "name": "python3"
  },
  "language_info": {
   "codemirror_mode": {
    "name": "ipython",
    "version": 3
   },
   "file_extension": ".py",
   "mimetype": "text/x-python",
   "name": "python",
   "nbconvert_exporter": "python",
   "pygments_lexer": "ipython3",
   "version": "3.10.8"
  }
 },
 "nbformat": 4,
 "nbformat_minor": 5
}
