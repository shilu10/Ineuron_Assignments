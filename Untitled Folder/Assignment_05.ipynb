{
 "cells": [
  {
   "cell_type": "markdown",
   "id": "9f019df8",
   "metadata": {},
   "source": [
    "# SQL Assignment 05"
   ]
  },
  {
   "cell_type": "code",
   "execution_count": null,
   "id": "92071b55",
   "metadata": {},
   "outputs": [],
   "source": []
  },
  {
   "cell_type": "markdown",
   "id": "a194627c",
   "metadata": {},
   "source": [
    "#### Q-1. Write an SQL query to print details of workers excluding first names, “Vipul” and “Satish” from Worker table."
   ]
  },
  {
   "cell_type": "code",
   "execution_count": null,
   "id": "5c556c92",
   "metadata": {},
   "outputs": [],
   "source": [
    "select * from worker where first_name not in (\"vipul\", \"satish\");"
   ]
  },
  {
   "cell_type": "code",
   "execution_count": null,
   "id": "5cd33ea9",
   "metadata": {},
   "outputs": [],
   "source": []
  },
  {
   "cell_type": "markdown",
   "id": "e050bae2",
   "metadata": {},
   "source": [
    "#### Q-2. Write an SQL query to print details of the Workers whose FIRST_NAME ends with ‘h’ and contains six alphabets.\n"
   ]
  },
  {
   "cell_type": "code",
   "execution_count": null,
   "id": "baa863eb",
   "metadata": {},
   "outputs": [],
   "source": [
    "# app1\n",
    "select * from worker where first_name like '______h';"
   ]
  },
  {
   "cell_type": "code",
   "execution_count": null,
   "id": "425cc6f2",
   "metadata": {},
   "outputs": [],
   "source": [
    "# app2\n",
    "select * from worker where right(first_name) = \"h\";"
   ]
  },
  {
   "cell_type": "code",
   "execution_count": null,
   "id": "6c7e4dee",
   "metadata": {},
   "outputs": [],
   "source": []
  },
  {
   "cell_type": "markdown",
   "id": "5496a772",
   "metadata": {},
   "source": [
    "#### Q-3. Write a query to validate Email of Employee."
   ]
  },
  {
   "cell_type": "code",
   "execution_count": null,
   "id": "efce0e7a",
   "metadata": {},
   "outputs": [],
   "source": [
    "select * from worker where email LIKE \"_%@_%._%\";"
   ]
  },
  {
   "cell_type": "code",
   "execution_count": null,
   "id": "e9840ff4",
   "metadata": {},
   "outputs": [],
   "source": []
  }
 ],
 "metadata": {
  "kernelspec": {
   "display_name": "Python 3 (ipykernel)",
   "language": "python",
   "name": "python3"
  },
  "language_info": {
   "codemirror_mode": {
    "name": "ipython",
    "version": 3
   },
   "file_extension": ".py",
   "mimetype": "text/x-python",
   "name": "python",
   "nbconvert_exporter": "python",
   "pygments_lexer": "ipython3",
   "version": "3.10.8"
  }
 },
 "nbformat": 4,
 "nbformat_minor": 5
}
