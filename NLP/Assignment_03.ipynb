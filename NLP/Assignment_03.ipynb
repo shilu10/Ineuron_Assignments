{
 "cells": [
  {
   "cell_type": "markdown",
   "id": "8fc44854",
   "metadata": {},
   "source": [
    "# Assignment 03 Solutions"
   ]
  },
  {
   "cell_type": "markdown",
   "id": "c35eaef1",
   "metadata": {},
   "source": [
    "#### 1.\tExplain the basic architecture of RNN cell."
   ]
  },
  {
   "cell_type": "code",
   "execution_count": null,
   "id": "0ddb07e5",
   "metadata": {},
   "outputs": [],
   "source": []
  },
  {
   "cell_type": "markdown",
   "id": "c478edb2",
   "metadata": {},
   "source": [
    "#### 2.\tExplain Backpropagation through time (BPTT)"
   ]
  },
  {
   "cell_type": "code",
   "execution_count": null,
   "id": "6373e9d2",
   "metadata": {},
   "outputs": [],
   "source": []
  },
  {
   "cell_type": "markdown",
   "id": "fb759d62",
   "metadata": {},
   "source": [
    "#### 3.\tExplain Vanishing and exploding gradients"
   ]
  },
  {
   "cell_type": "code",
   "execution_count": null,
   "id": "ae7ddcf0",
   "metadata": {},
   "outputs": [],
   "source": []
  },
  {
   "cell_type": "markdown",
   "id": "a639b7b3",
   "metadata": {},
   "source": [
    "#### 4.\tExplain Long short-term memory (LSTM)"
   ]
  },
  {
   "cell_type": "code",
   "execution_count": null,
   "id": "8e7b8f14",
   "metadata": {},
   "outputs": [],
   "source": []
  },
  {
   "cell_type": "markdown",
   "id": "2c4d0589",
   "metadata": {},
   "source": [
    "#### 5.\tExplain Gated recurrent unit (GRU)"
   ]
  },
  {
   "cell_type": "code",
   "execution_count": null,
   "id": "7312e902",
   "metadata": {},
   "outputs": [],
   "source": []
  },
  {
   "cell_type": "markdown",
   "id": "34fa3100",
   "metadata": {},
   "source": [
    "#### 6.\tExplain Peephole LSTM"
   ]
  },
  {
   "cell_type": "code",
   "execution_count": null,
   "id": "18576f0c",
   "metadata": {},
   "outputs": [],
   "source": []
  },
  {
   "cell_type": "markdown",
   "id": "10593383",
   "metadata": {},
   "source": [
    "#### 7.\tBidirectional RNNs"
   ]
  },
  {
   "cell_type": "code",
   "execution_count": null,
   "id": "0106c48f",
   "metadata": {},
   "outputs": [],
   "source": []
  },
  {
   "cell_type": "markdown",
   "id": "a8d13fb1",
   "metadata": {},
   "source": [
    "#### 8.\tExplain the gates of LSTM with equations."
   ]
  },
  {
   "cell_type": "code",
   "execution_count": null,
   "id": "07715527",
   "metadata": {},
   "outputs": [],
   "source": []
  },
  {
   "cell_type": "markdown",
   "id": "7956108f",
   "metadata": {},
   "source": [
    "#### 9.\tExplain BiLSTM"
   ]
  },
  {
   "cell_type": "code",
   "execution_count": null,
   "id": "c03fa155",
   "metadata": {},
   "outputs": [],
   "source": []
  },
  {
   "cell_type": "markdown",
   "id": "607b9728",
   "metadata": {},
   "source": [
    "#### 10.\tExplain BiGRU"
   ]
  },
  {
   "cell_type": "code",
   "execution_count": null,
   "id": "da83e85f",
   "metadata": {},
   "outputs": [],
   "source": []
  }
 ],
 "metadata": {
  "kernelspec": {
   "display_name": "Python 3 (ipykernel)",
   "language": "python",
   "name": "python3"
  },
  "language_info": {
   "codemirror_mode": {
    "name": "ipython",
    "version": 3
   },
   "file_extension": ".py",
   "mimetype": "text/x-python",
   "name": "python",
   "nbconvert_exporter": "python",
   "pygments_lexer": "ipython3",
   "version": "3.10.8"
  }
 },
 "nbformat": 4,
 "nbformat_minor": 5
}
