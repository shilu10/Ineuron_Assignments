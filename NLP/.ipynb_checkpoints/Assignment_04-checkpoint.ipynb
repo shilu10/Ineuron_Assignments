{
 "cells": [
  {
   "cell_type": "markdown",
   "id": "8fc44854",
   "metadata": {},
   "source": [
    "# Assignment 04 Solutions"
   ]
  },
  {
   "cell_type": "markdown",
   "id": "c35eaef1",
   "metadata": {},
   "source": [
    "#### 1.\tCan you think of a few applications for a sequence-to-sequence RNN? What about a sequence-to-vector RNN? And a vector-to-sequence RNN?"
   ]
  },
  {
   "cell_type": "markdown",
   "id": "dec6e608",
   "metadata": {},
   "source": [
    "**- RNN, has a multiple architecture, to address multiple problems. Those architectures are,**\n",
    "    \n",
    " `1. One-One RNN (vector-vector).`\n",
    " \n",
    " `2. One-Many RNN (Vector-Sequence).`\n",
    " \n",
    " `3. Many-One RNN (Sequence-Vector).`\n",
    " \n",
    " `4. Many-Many RNN (Sequence-Sequence).`\n",
    "    \n",
    "#### One-One RNN:\n",
    "       Here, model takes vector as an input and outputs an another vector, classic example, could be word to word translation.\n",
    "<img src='data:image/png;base64,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' />\n",
    "\n",
    "#### One to Many RNN:\n",
    "        Here, the model takes a vector as an input, and outputs a Sequence, classic example could be Image Captioning, where the model takes image as input and outputs a caption(sequence).\n",
    "<img src ='data:image/png;base64,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' />\n",
    "\n",
    "#### Many to One RNN:\n",
    "        Here, the model takes a sequence as an input and outputs an vector, classic example could be a sentiment analysis, where model takes a sequential data(text), and outpu, whether it is positive or negative sentence.\n",
    "<img src='data:image/png;base64,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' />\n",
    "\n",
    "\n",
    "#### Many to Mant RNN: \n",
    "        Here, the model takes the sequence as an input and also outputs a sequence, classic example could be Neural Language Translation, where the model takes one language as an input and outputs translated text in another language.\n",
    "<img src='data:image/png;base64,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' />"
   ]
  },
  {
   "cell_type": "code",
   "execution_count": null,
   "id": "6cf1c163",
   "metadata": {},
   "outputs": [],
   "source": []
  },
  {
   "cell_type": "markdown",
   "id": "c478edb2",
   "metadata": {},
   "source": [
    "#### 2.\tWhy do people use encoder–decoder RNNs rather than plain sequence-to-sequence RNNs for automatic translation?"
   ]
  },
  {
   "cell_type": "markdown",
   "id": "5c9cf22c",
   "metadata": {},
   "source": [
    "**- We will use the Encoder_Decoder architecture, which is also known as a Seq-Seq architecture, used for the automatic translation (Neural Language Translation), Where we have a encoder, which will takes the source laguage as an input and passes the information through the network from left to right and creates a `context vector`, also known as a bottleneck vector, which will encodes the information about the input text, and now the `context vector`, will be passed to decoder with the target language as the sequential input to the decoder, and it gives the output.**\n",
    "\n",
    "<img src=\"data:image/png;base64,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\" />"
   ]
  },
  {
   "cell_type": "code",
   "execution_count": null,
   "id": "e9b64005",
   "metadata": {},
   "outputs": [],
   "source": []
  },
  {
   "cell_type": "markdown",
   "id": "fb759d62",
   "metadata": {},
   "source": [
    "#### 3.\tHow could you combine a convolutional neural network with an RNN to classify videos?"
   ]
  },
  {
   "cell_type": "markdown",
   "id": "5ff91456",
   "metadata": {},
   "source": [
    "**- A video consists of an `ordered sequence of frames`. Each `frame` contains `spatial information`, and the `sequence of those frames contains temporal information`. To model both of these aspects, we use a hybrid architecture that consists of convolutions (for spatial processing) as well as recurrent layers (for temporal processing). Specifically, we'll use a Convolutional Neural Network (CNN) and a Recurrent Neural Network (RNN) consisting of GRU layers. This kind of hybrid architecture is popularly known as a CNN-RNN.** \n",
    "\n",
    "**- First, we will try to make the number of frames in the batch to be same, there are multiple methods to do, one of the method is to use the `padding`, to make all the videos to have a `same number of frames`. Then we will use the feature extractor, any pretrained model or any cnn model, to extract the features from each frame.**\n",
    "\n",
    "    eg: \n",
    "        if input dims: (100, 10, 256, 256, 3)\n",
    "        - Here, first dimension is batch size, and second dimension is number of frames, in this example just using a 10 frames per video, and 3rd and 4th and 5th dimension is a image size of each frame.\n",
    "        - Now, we will pass each frames(10 frames) of each input video(100), to the feature extractor(eg: ResNet50), and extract the feature for the frames. After extracting the features the dimension will be,\n",
    "        dimension = (100, 10, 2056)\n",
    "        - Here, first dimension 100, is a batch size, second dimension 10, is number of frames, and third dimension is a ffeature representation, extracted from the feature extractor.\n",
    "        \n",
    "        - As, we know that the RNN models takes 2d data as an input, first dimension is a time-based and second is number of features. So we have a data 2d, after preprocessing using the feature extractor."
   ]
  },
  {
   "cell_type": "code",
   "execution_count": null,
   "id": "4996c029",
   "metadata": {},
   "outputs": [],
   "source": []
  },
  {
   "cell_type": "markdown",
   "id": "a639b7b3",
   "metadata": {},
   "source": [
    "#### 4.\tWhat are the advantages of building an RNN using dynamic_rnn() rather than static_rnn()?"
   ]
  },
  {
   "cell_type": "code",
   "execution_count": null,
   "id": "cb0d0300",
   "metadata": {},
   "outputs": [],
   "source": []
  },
  {
   "cell_type": "code",
   "execution_count": null,
   "id": "1c386dcb",
   "metadata": {},
   "outputs": [],
   "source": []
  },
  {
   "cell_type": "markdown",
   "id": "2c4d0589",
   "metadata": {},
   "source": [
    "#### 5.\tHow can you deal with variable-length input sequences? What about variable-length output sequences?"
   ]
  },
  {
   "cell_type": "code",
   "execution_count": null,
   "id": "32071284",
   "metadata": {},
   "outputs": [],
   "source": []
  },
  {
   "cell_type": "code",
   "execution_count": null,
   "id": "bd80d8b9",
   "metadata": {},
   "outputs": [],
   "source": []
  },
  {
   "cell_type": "markdown",
   "id": "34fa3100",
   "metadata": {},
   "source": [
    "#### 6.\tWhat is a common way to distribute training and execution of a deep RNN across multiple GPUs?"
   ]
  },
  {
   "cell_type": "code",
   "execution_count": null,
   "id": "7c40dd12",
   "metadata": {},
   "outputs": [],
   "source": []
  },
  {
   "cell_type": "code",
   "execution_count": null,
   "id": "4774bffb",
   "metadata": {},
   "outputs": [],
   "source": []
  }
 ],
 "metadata": {
  "kernelspec": {
   "display_name": "Python 3 (ipykernel)",
   "language": "python",
   "name": "python3"
  },
  "language_info": {
   "codemirror_mode": {
    "name": "ipython",
    "version": 3
   },
   "file_extension": ".py",
   "mimetype": "text/x-python",
   "name": "python",
   "nbconvert_exporter": "python",
   "pygments_lexer": "ipython3",
   "version": "3.10.8"
  }
 },
 "nbformat": 4,
 "nbformat_minor": 5
}
