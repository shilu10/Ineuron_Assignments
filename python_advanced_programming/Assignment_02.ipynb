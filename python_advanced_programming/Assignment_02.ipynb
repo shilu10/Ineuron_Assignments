{
 "cells": [
  {
   "cell_type": "markdown",
   "id": "3951e1bb",
   "metadata": {},
   "source": [
    "# Advanced Python Assignment 02 "
   ]
  },
  {
   "cell_type": "code",
   "execution_count": null,
   "id": "7e223549",
   "metadata": {},
   "outputs": [],
   "source": []
  },
  {
   "cell_type": "markdown",
   "id": "4ed2980b",
   "metadata": {},
   "source": [
    "#### 1.Write a function that takes a positive integer num and calculates how many dots exist in a pentagonal shape around the center dot on the Nth iteration.\n",
    "In the image below you can see the first iteration is only a single dot. On the second, there are 6 dots. On the third, there are 16 dots, and on the fourth there are 31 dots.  \n",
    "![image.png](attachment:image.png)\n",
    "**Examples:**  \n",
    "`pentagonal(1) ➞ 1`  \n",
    "`pentagonal(2) ➞ 6`  \n",
    "`pentagonal(3) ➞ 16`  \n",
    "`pentagonal(8) ➞ 141`  "
   ]
  },
  {
   "cell_type": "code",
   "execution_count": 1,
   "id": "37097117",
   "metadata": {},
   "outputs": [
    {
     "name": "stdout",
     "output_type": "stream",
     "text": [
      "pentagonal(1) ➞ 1\n",
      "pentagonal(2) ➞ 6\n",
      "pentagonal(3) ➞ 16\n",
      "pentagonal(8) ➞ 141\n"
     ]
    }
   ],
   "source": [
    "def pentagonal(in_num):\n",
    "    output = 1\n",
    "    if in_num >=1:\n",
    "        for ele in range(in_num):\n",
    "            output = output + (5*ele)\n",
    "        print(f'pentagonal({in_num}) ➞ {output}')\n",
    "    else:\n",
    "        print(\"Enter a Positive Number as Input\")\n",
    "        \n",
    "pentagonal(1) \n",
    "pentagonal(2)\n",
    "pentagonal(3)\n",
    "pentagonal(8)"
   ]
  },
  {
   "cell_type": "code",
   "execution_count": null,
   "id": "cb16cb1f",
   "metadata": {},
   "outputs": [],
   "source": []
  },
  {
   "cell_type": "markdown",
   "id": "b1b8496d",
   "metadata": {},
   "source": [
    "#### 2..  Make a function that encrypts a given input with these steps:\n",
    "Input: `\"apple\"`   \n",
    "Step 1: Reverse the input: `\"elppa\"`  \n",
    "Step 2: Replace all vowels using the following chart:    \n",
    "`a => 0`    \n",
    "`e => 1`  \n",
    "`i => 2`  \n",
    "`o => 2`  \n",
    "`u => 3`  \n",
    "`# \"1lpp0\"`  \n",
    "Step 3: Add `\"aca\"` to the end of the word: `\"1lpp0aca\"`  \n",
    "Output: `\"1lpp0aca\"`  \n",
    "**Examples:**   \n",
    "`encrypt(\"banana\") ➞ \"0n0n0baca\"`  \n",
    "`encrypt(\"karaca\") ➞ \"0c0r0kaca\"`  \n",
    "`encrypt(\"burak\") ➞ \"k0r3baca\"`  \n",
    "`encrypt(\"alpaca\") ➞ \"0c0pl0aca\"`  "
   ]
  },
  {
   "cell_type": "code",
   "execution_count": 15,
   "id": "87a76661",
   "metadata": {},
   "outputs": [],
   "source": [
    "def encrypt(string):\n",
    "    res = \"\"\n",
    "    string_lookup = {\n",
    "        \"a\": \"0\",\n",
    "        \"e\": \"1\", \n",
    "        \"i\": \"2\",\n",
    "        \"o\": \"2\",\n",
    "        \"u\": \"3\",\n",
    "        \"#\": \"1lpp0\"\n",
    "    }\n",
    "    \n",
    "    reverse_s = string[::-1]\n",
    "    \n",
    "    for reverse_char in reverse_s:\n",
    "        res += string_lookup.get(reverse_char, reverse_char)\n",
    "    \n",
    "    return res + \"aca\""
   ]
  },
  {
   "cell_type": "code",
   "execution_count": 16,
   "id": "2cfb7fc5",
   "metadata": {},
   "outputs": [
    {
     "data": {
      "text/plain": [
       "'0n0n0baca'"
      ]
     },
     "execution_count": 16,
     "metadata": {},
     "output_type": "execute_result"
    }
   ],
   "source": [
    "encrypt(\"banana\")"
   ]
  },
  {
   "cell_type": "code",
   "execution_count": 17,
   "id": "a895e12d",
   "metadata": {},
   "outputs": [
    {
     "data": {
      "text/plain": [
       "'0c0r0kaca'"
      ]
     },
     "execution_count": 17,
     "metadata": {},
     "output_type": "execute_result"
    }
   ],
   "source": [
    "encrypt(\"karaca\")"
   ]
  },
  {
   "cell_type": "code",
   "execution_count": 18,
   "id": "c187a13f",
   "metadata": {},
   "outputs": [
    {
     "data": {
      "text/plain": [
       "'k0r3baca'"
      ]
     },
     "execution_count": 18,
     "metadata": {},
     "output_type": "execute_result"
    }
   ],
   "source": [
    "encrypt(\"burak\") "
   ]
  },
  {
   "cell_type": "code",
   "execution_count": 19,
   "id": "d7985076",
   "metadata": {},
   "outputs": [
    {
     "data": {
      "text/plain": [
       "'0c0pl0aca'"
      ]
     },
     "execution_count": 19,
     "metadata": {},
     "output_type": "execute_result"
    }
   ],
   "source": [
    "encrypt(\"alpaca\")"
   ]
  },
  {
   "cell_type": "code",
   "execution_count": null,
   "id": "aceb1c00",
   "metadata": {},
   "outputs": [],
   "source": []
  },
  {
   "cell_type": "markdown",
   "id": "6937c852",
   "metadata": {},
   "source": [
    "#### 3.Given the month and year as numbers, return whether that month contains a Friday 13th.(i.e You can check Python's datetime module)\n",
    "**Examples:**  \n",
    "`has_friday_13(3, 2020) ➞ True`  \n",
    "`has_friday_13(10, 2017) ➞ True`  \n",
    "`has_friday_13(1, 1985) ➞ False`  "
   ]
  },
  {
   "cell_type": "code",
   "execution_count": 20,
   "id": "5cacb373",
   "metadata": {},
   "outputs": [
    {
     "name": "stdout",
     "output_type": "stream",
     "text": [
      "has_friday_13(3, 2020) ➞ True\n",
      "has_friday_13(10, 2017) ➞ True\n",
      "has_friday_13(1, 1985) ➞ False\n"
     ]
    }
   ],
   "source": [
    "import datetime\n",
    "def has_friday_13(month,year):\n",
    "    output = False\n",
    "    if datetime.datetime(year,month,13).strftime('%A') == 'Friday':\n",
    "        output = True\n",
    "    print(f'has_friday_13{month,year} ➞ {output}')\n",
    "\n",
    "has_friday_13(3, 2020)\n",
    "has_friday_13(10, 2017)\n",
    "has_friday_13(1, 1985)"
   ]
  },
  {
   "cell_type": "code",
   "execution_count": null,
   "id": "16aaae72",
   "metadata": {},
   "outputs": [],
   "source": []
  },
  {
   "cell_type": "markdown",
   "id": "6a0744db",
   "metadata": {},
   "source": [
    "#### 4.Write a regular expression that will help us count how many bad cookies are produced every day. You must use RegEx negative lookbehind.\n",
    "**Examples:**   \n",
    "`lst = [\"bad cookie\", \"good cookie\", \"bad cookie\", \"good cookie\", \"good cookie\"]`  \n",
    "`pattern = \"yourregularexpressionhere\"`  \n",
    "`len(re.findall(pattern, \", \".join(lst))) ➞ 2`"
   ]
  },
  {
   "cell_type": "code",
   "execution_count": 21,
   "id": "fd315bcc",
   "metadata": {},
   "outputs": [
    {
     "name": "stdout",
     "output_type": "stream",
     "text": [
      "No of Bad cookies produced per day ➞ 2\n"
     ]
    }
   ],
   "source": [
    "import re\n",
    "lst = [\"bad cookie\", \"good cookie\", \"bad cookie\", \"good cookie\", \"good cookie\"]\n",
    "pattern = r'(?<!good)\\scookie'# Regex Negative lookbehind expression\n",
    "data = re.findall(pattern,' '.join(lst))\n",
    "print(f'No of Bad cookies produced per day ➞ {len(data)}')"
   ]
  },
  {
   "cell_type": "code",
   "execution_count": null,
   "id": "15118da9",
   "metadata": {},
   "outputs": [],
   "source": []
  },
  {
   "cell_type": "markdown",
   "id": "ced9f5f2",
   "metadata": {},
   "source": [
    "#### 5.. Given a list of words in the singular form, return a set of those words in the plural form if they appear more than once in the list.\n",
    "**Examples:**   \n",
    "`pluralize([\"cow\", \"pig\", \"cow\", \"cow\"]) ➞ { \"cows\", \"pig\" }`  \n",
    "`pluralize([\"table\", \"table\", \"table\"]) ➞ { \"tables\" }`  \n",
    "`pluralize([\"chair\", \"pencil\", \"arm\"]) ➞ { \"chair\", \"pencil\", \"arm\" }`  "
   ]
  },
  {
   "cell_type": "code",
   "execution_count": 32,
   "id": "3e3cd661",
   "metadata": {},
   "outputs": [],
   "source": [
    "from collections import defaultdict\n",
    "\n",
    "def pluralize(inputs):\n",
    "    res = []\n",
    "    \n",
    "    curr_incr = 0\n",
    "    sorted_inputs = sorted(inputs)\n",
    "    for indx, word in enumerate(sorted_inputs):\n",
    "        if indx < len(inputs)-1: \n",
    "            if word == sorted_inputs[indx+1]:\n",
    "                curr_incr += 1 \n",
    "                \n",
    "            else:\n",
    "                if curr_incr > 0:\n",
    "                    res.append(word+\"s\")\n",
    "                else:\n",
    "                    res.append(word)\n",
    "                curr_incr = 0 \n",
    "                \n",
    "        else:\n",
    "            if curr_incr > 0:\n",
    "                res.append(word+\"s\")\n",
    "            else: \n",
    "                res.append(word)\n",
    "    return res\n",
    "    "
   ]
  },
  {
   "cell_type": "code",
   "execution_count": 33,
   "id": "ae3bdd61",
   "metadata": {},
   "outputs": [
    {
     "data": {
      "text/plain": [
       "['cows', 'pig']"
      ]
     },
     "execution_count": 33,
     "metadata": {},
     "output_type": "execute_result"
    }
   ],
   "source": [
    "pluralize([\"cow\", \"pig\", \"cow\", \"cow\"])"
   ]
  },
  {
   "cell_type": "code",
   "execution_count": 34,
   "id": "bfbadd01",
   "metadata": {},
   "outputs": [
    {
     "data": {
      "text/plain": [
       "['tables']"
      ]
     },
     "execution_count": 34,
     "metadata": {},
     "output_type": "execute_result"
    }
   ],
   "source": [
    "pluralize([\"table\", \"table\", \"table\"])"
   ]
  },
  {
   "cell_type": "code",
   "execution_count": 35,
   "id": "9de69dcf",
   "metadata": {},
   "outputs": [
    {
     "data": {
      "text/plain": [
       "['arm', 'chair', 'pencil']"
      ]
     },
     "execution_count": 35,
     "metadata": {},
     "output_type": "execute_result"
    }
   ],
   "source": [
    "pluralize([\"chair\", \"pencil\", \"arm\"])"
   ]
  },
  {
   "cell_type": "code",
   "execution_count": 41,
   "id": "5bdf017d",
   "metadata": {},
   "outputs": [],
   "source": [
    "# approach2 \n",
    "\n",
    "def pluralize(inputs):\n",
    "    res = set()\n",
    "    for ele in set(inputs):\n",
    "        if inputs.count(ele) > 1:\n",
    "            res.add(ele+'s')\n",
    "        else:\n",
    "            res.add(ele)\n",
    "    return list(res)"
   ]
  },
  {
   "cell_type": "code",
   "execution_count": 42,
   "id": "02941633",
   "metadata": {},
   "outputs": [
    {
     "data": {
      "text/plain": [
       "['pig', 'cows']"
      ]
     },
     "execution_count": 42,
     "metadata": {},
     "output_type": "execute_result"
    }
   ],
   "source": [
    "pluralize([\"cow\", \"pig\", \"cow\", \"cow\"])"
   ]
  },
  {
   "cell_type": "code",
   "execution_count": 43,
   "id": "acec3737",
   "metadata": {},
   "outputs": [
    {
     "data": {
      "text/plain": [
       "['tables']"
      ]
     },
     "execution_count": 43,
     "metadata": {},
     "output_type": "execute_result"
    }
   ],
   "source": [
    "pluralize([\"table\", \"table\", \"table\"])"
   ]
  },
  {
   "cell_type": "code",
   "execution_count": null,
   "id": "0a83483d",
   "metadata": {},
   "outputs": [],
   "source": []
  },
  {
   "cell_type": "code",
   "execution_count": null,
   "id": "80831199",
   "metadata": {},
   "outputs": [],
   "source": []
  }
 ],
 "metadata": {
  "kernelspec": {
   "display_name": "Python 3 (ipykernel)",
   "language": "python",
   "name": "python3"
  },
  "language_info": {
   "codemirror_mode": {
    "name": "ipython",
    "version": 3
   },
   "file_extension": ".py",
   "mimetype": "text/x-python",
   "name": "python",
   "nbconvert_exporter": "python",
   "pygments_lexer": "ipython3",
   "version": "3.10.8"
  }
 },
 "nbformat": 4,
 "nbformat_minor": 5
}
