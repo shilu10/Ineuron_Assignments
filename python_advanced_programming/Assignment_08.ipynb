{
 "cells": [
  {
   "cell_type": "markdown",
   "id": "18f378d1",
   "metadata": {},
   "source": [
    "# Assignment 08"
   ]
  },
  {
   "cell_type": "code",
   "execution_count": null,
   "id": "84f9f187",
   "metadata": {},
   "outputs": [],
   "source": []
  },
  {
   "cell_type": "markdown",
   "id": "d4b65d84",
   "metadata": {},
   "source": [
    "#### 1. Given a sentence as txt, return True if any two adjacent words have this property: One word ends with a vowel, while the word immediately after begins with a vowel (a e i o u).\n",
    "**Examples:**   \n",
    "`vowel_links(\"a very large appliance\") ➞ True`  \n",
    "`vowel_links(\"go to edabit\") ➞ True`  \n",
    "`vowel_links(\"an open fire\") ➞ False`  \n",
    "`vowel_links(\"a sudden applause\") ➞ False`  "
   ]
  },
  {
   "cell_type": "code",
   "execution_count": 12,
   "id": "fb601432",
   "metadata": {},
   "outputs": [],
   "source": [
    "def check_vowels(char):\n",
    "    if char in (\"a\", 'e', 'i', 'o', 'u'):\n",
    "        return True \n",
    "    else:\n",
    "        return False\n",
    "\n",
    "    \n",
    "def vowel_links(sen):\n",
    "    sen_list = sen.split(' ')    \n",
    "    l_p = 0 \n",
    "    r_p = 1 \n",
    "    \n",
    "    while r_p <= len(sen_list)-1:\n",
    "        if check_vowels(sen_list[l_p][-1]) and  check_vowels(sen_list[r_p][0]):\n",
    "            return True \n",
    "        \n",
    "        else:\n",
    "            l_p += 1 \n",
    "            r_p += 1 \n",
    "    return False"
   ]
  },
  {
   "cell_type": "code",
   "execution_count": 13,
   "id": "daa2dd4e",
   "metadata": {},
   "outputs": [
    {
     "data": {
      "text/plain": [
       "True"
      ]
     },
     "execution_count": 13,
     "metadata": {},
     "output_type": "execute_result"
    }
   ],
   "source": [
    "vowel_links(\"a very large appliance\")"
   ]
  },
  {
   "cell_type": "code",
   "execution_count": 14,
   "id": "af21e726",
   "metadata": {},
   "outputs": [
    {
     "data": {
      "text/plain": [
       "True"
      ]
     },
     "execution_count": 14,
     "metadata": {},
     "output_type": "execute_result"
    }
   ],
   "source": [
    "vowel_links(\"go to edabit\")"
   ]
  },
  {
   "cell_type": "code",
   "execution_count": 15,
   "id": "7a524624",
   "metadata": {},
   "outputs": [
    {
     "data": {
      "text/plain": [
       "False"
      ]
     },
     "execution_count": 15,
     "metadata": {},
     "output_type": "execute_result"
    }
   ],
   "source": [
    "vowel_links(\"an open fire\")"
   ]
  },
  {
   "cell_type": "code",
   "execution_count": 16,
   "id": "fcd789bd",
   "metadata": {},
   "outputs": [
    {
     "data": {
      "text/plain": [
       "False"
      ]
     },
     "execution_count": 16,
     "metadata": {},
     "output_type": "execute_result"
    }
   ],
   "source": [
    "vowel_links(\"a sudden applause\")"
   ]
  },
  {
   "cell_type": "code",
   "execution_count": null,
   "id": "7457d952",
   "metadata": {},
   "outputs": [],
   "source": []
  },
  {
   "cell_type": "markdown",
   "id": "28b8b8b4",
   "metadata": {},
   "source": [
    "#### 2. You are given three inputs: a string, one letter, and a second letter. Write a function that returns True if every instance of the first letter occurs before every instance of the second letter.\n",
    "**Examples:**    \n",
    "`first_before_second(\"a rabbit jumps joyfully\", \"a\", \"j\") ➞ True`      \n",
    "`# Every instance of \"a\" occurs before every instance of \"j\".`       \n",
    "\n",
    "`first_before_second(\"knaves knew about waterfalls\", \"k\", \"w\") ➞  True`     \n",
    "\n",
    "`first_before_second(\"happy birthday\", \"a\", \"y\") ➞ False`  \n",
    "`# The \"a\" in \"birthday\" occurs after the \"y\" in \"happy\".`  \n",
    "\n",
    "`first_before_second(\"precarious kangaroos\", \"k\", \"a\") ➞ False`   "
   ]
  },
  {
   "cell_type": "code",
   "execution_count": 20,
   "id": "23db6ec1",
   "metadata": {},
   "outputs": [],
   "source": [
    "def first_before_second(sen, f, s):\n",
    "    first_instance_second_letter = sen.index(s)\n",
    "    \n",
    "    if f in sen[first_instance_second_letter+1: ]:\n",
    "        return False \n",
    "    \n",
    "    return True"
   ]
  },
  {
   "cell_type": "code",
   "execution_count": 21,
   "id": "0b471e59",
   "metadata": {},
   "outputs": [
    {
     "data": {
      "text/plain": [
       "True"
      ]
     },
     "execution_count": 21,
     "metadata": {},
     "output_type": "execute_result"
    }
   ],
   "source": [
    "first_before_second(\"a rabbit jumps joyfully\", \"a\", \"j\")"
   ]
  },
  {
   "cell_type": "code",
   "execution_count": 22,
   "id": "95ea46ea",
   "metadata": {},
   "outputs": [
    {
     "data": {
      "text/plain": [
       "True"
      ]
     },
     "execution_count": 22,
     "metadata": {},
     "output_type": "execute_result"
    }
   ],
   "source": [
    "first_before_second(\"knaves knew about waterfalls\", \"k\", \"w\")"
   ]
  },
  {
   "cell_type": "code",
   "execution_count": 23,
   "id": "d3a6e643",
   "metadata": {},
   "outputs": [
    {
     "data": {
      "text/plain": [
       "False"
      ]
     },
     "execution_count": 23,
     "metadata": {},
     "output_type": "execute_result"
    }
   ],
   "source": [
    "first_before_second(\"happy birthday\", \"a\", \"y\")"
   ]
  },
  {
   "cell_type": "code",
   "execution_count": 24,
   "id": "64538ad2",
   "metadata": {},
   "outputs": [
    {
     "data": {
      "text/plain": [
       "False"
      ]
     },
     "execution_count": 24,
     "metadata": {},
     "output_type": "execute_result"
    }
   ],
   "source": [
    "first_before_second(\"precarious kangaroos\", \"k\", \"a\")"
   ]
  },
  {
   "cell_type": "code",
   "execution_count": null,
   "id": "de06a944",
   "metadata": {},
   "outputs": [],
   "source": []
  },
  {
   "cell_type": "markdown",
   "id": "caca55c8",
   "metadata": {},
   "source": [
    "#### 3. Create a function that returns the characters from a list or string r on odd or even positions, depending on the specifier s. The specifier will be \"odd\" for items on odd positions (1, 3, 5, ...) and \"even\" for items on even positions (2, 4, 6, ...).\n",
    "**Examples:**   \n",
    "`char_at_pos([2, 4, 6, 8, 10], \"even\") ➞ [4, 8]`  \n",
    "`# 4 & 8 occupy the 2nd & 4th positions`  \n",
    "\n",
    "`char_at_pos(\"EDABIT\", \"odd\") ➞ \"EAI\"`   \n",
    "`# \"E\", \"A\" and \"I\" occupy the 1st, 3rd and 5th positions`  \n",
    "\n",
    "`char_at_pos([\"A\", \"R\", \"B\", \"I\", \"T\", \"R\", \"A\", \"R\", \"I\", \"L\", \"Y\"], \"odd\") ➞ [\"A\", \"B\", \"T\", \"A\", \"I\", \"Y\"]`  "
   ]
  },
  {
   "cell_type": "code",
   "execution_count": 25,
   "id": "0c37221d",
   "metadata": {},
   "outputs": [
    {
     "name": "stdout",
     "output_type": "stream",
     "text": [
      "char_at_pos([2, 4, 6, 8, 10], 'even') ➞ [4, 8]\n",
      "char_at_pos('EDABIT', 'odd') ➞ ['E', 'A', 'I']\n",
      "char_at_pos(['A', 'R', 'B', 'I', 'T', 'R', 'A', 'R', 'I', 'L', 'Y'], 'odd') ➞ ['A', 'B', 'T', 'A', 'I', 'Y']\n"
     ]
    }
   ],
   "source": [
    "def char_at_pos(in_list,mode):\n",
    "    out_list = []\n",
    "    for ele in range(len(in_list)):\n",
    "        if mode == 'even' and (ele+1)%2 == 0:\n",
    "            out_list.append(in_list[ele])\n",
    "        elif mode == 'odd' and (ele+1)%2 != 0:\n",
    "            out_list.append(in_list[ele])            \n",
    "    print(f'char_at_pos{in_list,mode} ➞ {out_list}')\n",
    "        \n",
    "        \n",
    "char_at_pos([2, 4, 6, 8, 10], \"even\")\n",
    "char_at_pos(\"EDABIT\", \"odd\")\n",
    "char_at_pos([\"A\", \"R\", \"B\", \"I\", \"T\", \"R\", \"A\", \"R\", \"I\", \"L\", \"Y\"], \"odd\")"
   ]
  },
  {
   "cell_type": "code",
   "execution_count": null,
   "id": "df3cb910",
   "metadata": {},
   "outputs": [],
   "source": []
  },
  {
   "cell_type": "markdown",
   "id": "ed430dab",
   "metadata": {},
   "source": [
    "#### 4. Write a function that returns the greatest common divisor of all list elements. If the greatest common divisor is 1, return 1.\n",
    "**Examples:**   \n",
    "`GCD([10, 20, 40]) ➞ 10`  \n",
    "`GCD([1, 2, 3, 100]) ➞ 1`  \n",
    "`GCD([1024, 192, 2048, 512]) ➞ 64`  "
   ]
  },
  {
   "cell_type": "code",
   "execution_count": 29,
   "id": "93030ce3",
   "metadata": {},
   "outputs": [
    {
     "name": "stdout",
     "output_type": "stream",
     "text": [
      "GCD([10, 20, 40]) ➞ 10\n",
      "GCD([1, 2, 3, 100]) ➞ 1\n",
      "GCD([1024, 192, 2048, 512]) ➞ 64\n"
     ]
    }
   ],
   "source": [
    "def GCD(in_list):\n",
    "    small = min(in_list)\n",
    "    gcd = -1\n",
    "    for i in range(1, small+1):\n",
    "        output = []\n",
    "        for ele in in_list:\n",
    "            output.append(ele%i)\n",
    "        if len(set(output)) == 1 and list(set(output))[0] == 0:\n",
    "            gcd = i\n",
    "    print(f'GCD({in_list}) ➞ {gcd}')\n",
    "    \n",
    "GCD([10, 20, 40])\n",
    "GCD([1, 2, 3, 100])\n",
    "GCD([1024, 192, 2048, 512])"
   ]
  },
  {
   "cell_type": "code",
   "execution_count": null,
   "id": "00ad2297",
   "metadata": {},
   "outputs": [],
   "source": []
  },
  {
   "cell_type": "markdown",
   "id": "53456467",
   "metadata": {},
   "source": [
    "#### 5. A number/string is a palindrome if the digits/characters are the same when read both forward and backward. Examples include \"racecar\" and 12321. Given a positive number n, check if n or the binary representation of n is palindromic. Return the following:\n",
    "\n",
    "- \"Decimal only.\" if only n is a palindrome.\n",
    "- \"Binary only.\" if only the binary representation of n is a palindrome.\n",
    "- \"Decimal and binary.\" if both are palindromes.\n",
    "- \"Neither!\" if neither are palindromes.\n",
    "\n",
    "**Examples:**   \n",
    "\n",
    "`palindrome_type(1306031) ➞ \"Decimal only.\"`   \n",
    "`# decimal = 1306031`   \n",
    "`# binary  = \"100111110110110101111\"`   \n",
    "\n",
    "`palindrome_type(427787) ➞ \"Binary only.\"`   \n",
    "`# decimal = 427787`   \n",
    "`# binary  = \"1101000011100001011\"`   \n",
    "\n",
    "`palindrome_type(313) ➞ \"Decimal and binary.\"`  \n",
    "`# decimal = 313`  \n",
    "`# binary  = 100111001`  \n",
    "\n",
    "`palindrome_type(934) ➞ \"Neither!\"`   \n",
    "`# decimal = 934`  \n",
    "`# binary  = \"1110100110\"`  "
   ]
  },
  {
   "cell_type": "code",
   "execution_count": 30,
   "id": "32066bc6",
   "metadata": {},
   "outputs": [
    {
     "name": "stdout",
     "output_type": "stream",
     "text": [
      "palindrome(1306031) ➞ Decimal only.\n",
      "palindrome(427787) ➞ Neither!\n",
      "palindrome(313) ➞ Decimal and binary.\n",
      "palindrome(934) ➞ Neither!\n"
     ]
    }
   ],
   "source": [
    "def palindrome_type(in_num):\n",
    "    output = None\n",
    "    if str(in_num) == str(in_num)[::-1] and str(bin(in_num)[2:]) == str(bin(in_num)[2:])[::-1]:\n",
    "        output = 'Decimal and binary.'\n",
    "    elif str(in_num) == str(in_num)[::-1] and str(bin(in_num)[2:]) != str(bin(in_num)[2:])[::-1]:\n",
    "        output = 'Decimal only.'\n",
    "    elif str(bin(in_num)[2:]) != str(bin(in_num)[2:])[::-1] and str(in_num) == str(in_num)[::-1]:\n",
    "        output = 'Binary only.'\n",
    "    else:\n",
    "        output = 'Neither!'\n",
    "    print(f'palindrome({in_num}) ➞ {output}')\n",
    "\n",
    "palindrome_type(1306031)\n",
    "palindrome_type(427787)\n",
    "palindrome_type(313)\n",
    "palindrome_type(934)"
   ]
  },
  {
   "cell_type": "code",
   "execution_count": null,
   "id": "074b772a",
   "metadata": {},
   "outputs": [],
   "source": []
  }
 ],
 "metadata": {
  "kernelspec": {
   "display_name": "Python 3 (ipykernel)",
   "language": "python",
   "name": "python3"
  },
  "language_info": {
   "codemirror_mode": {
    "name": "ipython",
    "version": 3
   },
   "file_extension": ".py",
   "mimetype": "text/x-python",
   "name": "python",
   "nbconvert_exporter": "python",
   "pygments_lexer": "ipython3",
   "version": "3.10.8"
  }
 },
 "nbformat": 4,
 "nbformat_minor": 5
}
