{
 "cells": [
  {
   "cell_type": "markdown",
   "id": "f7e3e137",
   "metadata": {},
   "source": [
    "# Python Advanced Assignment 07"
   ]
  },
  {
   "cell_type": "code",
   "execution_count": null,
   "id": "54c5b9d8",
   "metadata": {},
   "outputs": [],
   "source": []
  },
  {
   "cell_type": "markdown",
   "id": "fa56af77",
   "metadata": {},
   "source": [
    "#### 1. Write a function that counts how many concentric layers a rug.\n",
    "**Examples:**    \n",
    "`count_layers([\"AAAA\",\"ABBA\",\"AAAA\"]) ➞ 2`  \n",
    "`count_layers([\"AAAAAAAAA\",\"ABBBBBBBA\",\"ABBAAABBA\",\"ABBBBBBBA\",\"AAAAAAAAA\"]) ➞ 3`  \n",
    "`count_layers([\"AAAAAAAAAAA\",\"AABBBBBBBAA\",\"AABCCCCCBAA\",\"AABCAAACBAA\",\"AABCADACBAA\",\"AABCAAACBAA\",\"AABCCCCCBAA\",\"AABBBBBBBAA\",\"AAAAAAAAAAA\"]) ➞ 5`  "
   ]
  },
  {
   "cell_type": "code",
   "execution_count": 2,
   "id": "bd1239db",
   "metadata": {},
   "outputs": [
    {
     "name": "stdout",
     "output_type": "stream",
     "text": [
      "count_layers(['AAAA', 'ABBA', 'AAAA']) ➞ 2\n",
      "count_layers(['AAAAAAAAA', 'ABBBBBBBA', 'ABBAAABBA', 'ABBBBBBBA', 'AAAAAAAAA']) ➞ 3\n",
      "count_layers(['AAAAAAAAAAA', 'AABBBBBBBAA', 'AABCCCCCBAA', 'AABCAAACBAA', 'AABCADACBAA', 'AABCAAACBAA', 'AABCCCCCBAA', 'AABBBBBBBAA', 'AAAAAAAAAAA']) ➞ 5\n"
     ]
    }
   ],
   "source": [
    "def count_layers(in_list):\n",
    "    out_list = []\n",
    "    for ele in in_list:\n",
    "        if ele not in out_list:\n",
    "            out_list.append(ele)\n",
    "    print(f'count_layers({in_list}) ➞ {len(out_list)}')\n",
    "\n",
    "count_layers([\"AAAA\",\"ABBA\",\"AAAA\"])\n",
    "count_layers([\"AAAAAAAAA\",\"ABBBBBBBA\",\"ABBAAABBA\",\"ABBBBBBBA\",\"AAAAAAAAA\"])\n",
    "count_layers([\"AAAAAAAAAAA\",\"AABBBBBBBAA\",\"AABCCCCCBAA\",\"AABCAAACBAA\",\"AABCADACBAA\",\"AABCAAACBAA\",\"AABCCCCCBAA\",\"AABBBBBBBAA\",\"AAAAAAAAAAA\"])"
   ]
  },
  {
   "cell_type": "code",
   "execution_count": null,
   "id": "c99cec3b",
   "metadata": {},
   "outputs": [],
   "source": []
  },
  {
   "cell_type": "markdown",
   "id": "1d788f6b",
   "metadata": {},
   "source": [
    "#### 2. There are many different styles of music and many albums exhibit multiple styles. Create a function that takes a list of musical styles from albums and returns how many styles are unique.\n",
    "**Examples:**    \n",
    "`unique_styles([\n",
    "  \"Dub,Dancehall\",\n",
    "  \"Industrial,Heavy Metal\",\n",
    "  \"Techno,Dubstep\",\n",
    "  \"Synth-pop,Euro-Disco\",\n",
    "  \"Industrial,Techno,Minimal\"\n",
    "]) ➞ 9`  \n",
    "`unique_styles([\n",
    "  \"Soul\",\n",
    "  \"House,Folk\",\n",
    "  \"Trance,Downtempo,Big Beat,House\",\n",
    "  \"Deep House\",\n",
    "  \"Soul\"\n",
    "]) ➞ 7` "
   ]
  },
  {
   "cell_type": "code",
   "execution_count": 3,
   "id": "dfef0cc9",
   "metadata": {},
   "outputs": [
    {
     "name": "stdout",
     "output_type": "stream",
     "text": [
      "unique_styles(['Dub,Dancehall', 'Industrial,Heavy Metal', 'Techno,Dubstep', 'Synth-pop,Euro-Disco', 'Industrial,Techno,Minimal']) ➞ 9\n",
      "unique_styles(['Soul', 'House,Folk', 'Trance,Downtempo,Big Beat,House', 'Deep House', 'Soul']) ➞ 7\n"
     ]
    }
   ],
   "source": [
    "def unique_styles(in_list):\n",
    "    out_list = []\n",
    "    for ele in in_list:\n",
    "        for sub_ele in ele.split(','):\n",
    "            out_list.append(sub_ele)\n",
    "    print(f'unique_styles({in_list}) ➞ {len(set(out_list))}')\n",
    "                \n",
    "unique_styles([\"Dub,Dancehall\",\"Industrial,Heavy Metal\",\"Techno,Dubstep\",\"Synth-pop,Euro-Disco\",\"Industrial,Techno,Minimal\"]) \n",
    "unique_styles([\"Soul\",\"House,Folk\",\"Trance,Downtempo,Big Beat,House\",\"Deep House\",\"Soul\"])"
   ]
  },
  {
   "cell_type": "code",
   "execution_count": null,
   "id": "1a20ee46",
   "metadata": {},
   "outputs": [],
   "source": []
  },
  {
   "cell_type": "markdown",
   "id": "6706d369",
   "metadata": {},
   "source": [
    "#### 3. Create a function that finds a target number in a list of prime numbers. Implement a binary search algorithm in your function. The target number will be from 2 through 97. If the target is prime then return \"yes\" else return \"no\".\n",
    "**Examples:**    \n",
    "`primes = [2, 3, 5, 7, 11, 13, 17, 19, 23, 29, 31, 37, 41, 43, 47, 53, 59, 61, 67, 71, 73, 79, 83, 89, 97]`  \n",
    "`is_prime(primes, 3) ➞ \"yes\"`  \n",
    "`is_prime(primes, 4) ➞ \"no\"`  \n",
    "`is_prime(primes, 67) ➞ \"yes\"`  \n",
    "`is_prime(primes, 36) ➞ \"no\"`  "
   ]
  },
  {
   "cell_type": "code",
   "execution_count": 20,
   "id": "5c083a80",
   "metadata": {},
   "outputs": [],
   "source": [
    "# approach 1 \n",
    "def is_prime(primes, x):\n",
    "    l_p = 0 \n",
    "    r_p = len(primes)-1 \n",
    "\n",
    "    while l_p <= r_p:\n",
    "        m_p = (r_p + l_p) // 2 \n",
    "        \n",
    "        if primes[m_p] == x:\n",
    "            return \"yes\"  \n",
    "        \n",
    "        else:\n",
    "            if primes[m_p] < x:\n",
    "                l_p = m_p + 1 \n",
    "                \n",
    "            elif primes[m_p] > x:\n",
    "                r_p = m_p - 1 \n",
    "                \n",
    "            else:\n",
    "                return \"no\"\n",
    "    return 'no'"
   ]
  },
  {
   "cell_type": "code",
   "execution_count": 21,
   "id": "fa4be37a",
   "metadata": {},
   "outputs": [
    {
     "name": "stdout",
     "output_type": "stream",
     "text": [
      "yes\n",
      "no\n",
      "yes\n",
      "no\n"
     ]
    }
   ],
   "source": [
    "primes = [2, 3, 5, 7, 11, 13, 17, 19, 23, 29, 31, 37, 41, 43, 47, 53, 59, 61, 67, 71, 73, 79, 83, 89, 97]\n",
    "\n",
    "print(is_prime(primes, 3))\n",
    "print(is_prime(primes, 4))\n",
    "print(is_prime(primes, 67))\n",
    "print(is_prime(primes, 36))"
   ]
  },
  {
   "cell_type": "code",
   "execution_count": 22,
   "id": "2175c55f",
   "metadata": {},
   "outputs": [],
   "source": [
    "# approach 2 (recursive):"
   ]
  },
  {
   "cell_type": "code",
   "execution_count": 80,
   "id": "d812fdff",
   "metadata": {},
   "outputs": [],
   "source": [
    "def is_prime(primes, x):\n",
    "    \n",
    "    def rec(l_p, r_p):\n",
    "        m_p = l_p + (r_p - l_p) // 2 \n",
    "        \n",
    "        if primes[m_p] == x:\n",
    "            return True\n",
    "        \n",
    "        if l_p >= r_p:\n",
    "            return False\n",
    "        \n",
    "        else:\n",
    "            left = False\n",
    "            right = False\n",
    "            if primes[m_p] > x:\n",
    "                left = rec(l_p, m_p - 1)\n",
    "            \n",
    "            if primes[m_p] < x:\n",
    "                right = rec(m_p + 1, r_p)\n",
    "            \n",
    "            res = left or right\n",
    "            return res\n",
    "    \n",
    "    return 'yes' if rec(0, len(primes)-1) else 'no'"
   ]
  },
  {
   "cell_type": "code",
   "execution_count": 81,
   "id": "d9fa4cbc",
   "metadata": {},
   "outputs": [
    {
     "name": "stdout",
     "output_type": "stream",
     "text": [
      "yes\n",
      "no\n",
      "yes\n",
      "no\n"
     ]
    }
   ],
   "source": [
    "print(is_prime(primes, 3))\n",
    "print(is_prime(primes, 4))\n",
    "print(is_prime(primes, 67))\n",
    "print(is_prime(primes, 36))"
   ]
  },
  {
   "cell_type": "code",
   "execution_count": null,
   "id": "6af66118",
   "metadata": {},
   "outputs": [],
   "source": []
  },
  {
   "cell_type": "markdown",
   "id": "daff0a4d",
   "metadata": {},
   "source": [
    "#### 4. Create a function that takes in n, a, b and returns the number of positive values raised to the nth power that lie in the range [a, b], inclusive.\n",
    "**Examples:**    \n",
    "`power_ranger(2, 49, 65) ➞ 2`   \n",
    "`# 2 squares (n^2) lie between 49 and 65, 49 (7^2) and 64 (8^2)`   \n",
    "\n",
    "`power_ranger(3, 1, 27) ➞ 3`   \n",
    "`# 3 cubes (n^3) lie between 1 and 27, 1 (1^3), 8 (2^3) and 27 (3^3)`   \n",
    "\n",
    "`power_ranger(10, 1, 5) ➞ 1`  \n",
    "`# 1 value raised to the 10th power lies between 1 and 5, 1 (1^10)`  \n",
    "\n",
    "`power_ranger(5, 31, 33) ➞ 1`  \n",
    "`power_ranger(4, 250, 1300) ➞ 3`  "
   ]
  },
  {
   "cell_type": "code",
   "execution_count": 82,
   "id": "bf777b19",
   "metadata": {},
   "outputs": [
    {
     "name": "stdout",
     "output_type": "stream",
     "text": [
      "power_ranger(2, 49, 65) ➞ 2\n",
      "power_ranger(3, 1, 27) ➞ 3\n",
      "power_ranger(10, 1, 5) ➞ 1\n",
      "power_ranger(5, 31, 33) ➞ 1\n",
      "power_ranger(4, 250, 1300) ➞ 3\n"
     ]
    }
   ],
   "source": [
    "import math\n",
    "def power_ranger(in_base,in_min,in_max):\n",
    "    output = []\n",
    "    for ele in range(in_min,in_max+1):\n",
    "        root = round(math.exp(math.log(ele)/in_base),1)\n",
    "        if str(root).split(\".\")[1] == '0':\n",
    "            output.append(int(root))\n",
    "    print(f'power_ranger{in_base,in_min,in_max} ➞ {len(set(output))}')\n",
    "\n",
    "power_ranger(2, 49, 65)\n",
    "power_ranger(3, 1, 27)\n",
    "power_ranger(10, 1, 5)\n",
    "power_ranger(5, 31, 33)\n",
    "power_ranger(4, 250, 1300)"
   ]
  },
  {
   "cell_type": "code",
   "execution_count": null,
   "id": "75b51a25",
   "metadata": {},
   "outputs": [],
   "source": []
  },
  {
   "cell_type": "markdown",
   "id": "509296cf",
   "metadata": {},
   "source": [
    "#### 5. Given a number, return the difference between the maximum and minimum numbers that can be formed when the digits are rearranged.\n",
    "**Examples:**    \n",
    "`rearranged_difference(972882) ➞ 760833`  \n",
    "`# 988722 - 227889 = 760833`  \n",
    "`rearranged_difference(3320707) ➞ 7709823`  \n",
    "`# 7733200 - 23377 = 7709823`  \n",
    "`rearranged_difference(90010) ➞ 90981`  \n",
    "`# 91000 - 19 = 90981`  "
   ]
  },
  {
   "cell_type": "code",
   "execution_count": 86,
   "id": "b0788fc3",
   "metadata": {},
   "outputs": [],
   "source": [
    "n = 1000"
   ]
  },
  {
   "cell_type": "code",
   "execution_count": 88,
   "id": "f72b752c",
   "metadata": {},
   "outputs": [
    {
     "data": {
      "text/plain": [
       "'1000'"
      ]
     },
     "execution_count": 88,
     "metadata": {},
     "output_type": "execute_result"
    }
   ],
   "source": [
    "str(n)"
   ]
  },
  {
   "cell_type": "code",
   "execution_count": 92,
   "id": "ae7b84f1",
   "metadata": {},
   "outputs": [
    {
     "data": {
      "text/plain": [
       "\"['0', '0', '0', '1']\""
      ]
     },
     "execution_count": 92,
     "metadata": {},
     "output_type": "execute_result"
    }
   ],
   "source": [
    "str(sorted(str(n)))"
   ]
  },
  {
   "cell_type": "code",
   "execution_count": null,
   "id": "1976ebc8",
   "metadata": {},
   "outputs": [],
   "source": []
  }
 ],
 "metadata": {
  "kernelspec": {
   "display_name": "Python 3 (ipykernel)",
   "language": "python",
   "name": "python3"
  },
  "language_info": {
   "codemirror_mode": {
    "name": "ipython",
    "version": 3
   },
   "file_extension": ".py",
   "mimetype": "text/x-python",
   "name": "python",
   "nbconvert_exporter": "python",
   "pygments_lexer": "ipython3",
   "version": "3.10.8"
  }
 },
 "nbformat": 4,
 "nbformat_minor": 5
}
