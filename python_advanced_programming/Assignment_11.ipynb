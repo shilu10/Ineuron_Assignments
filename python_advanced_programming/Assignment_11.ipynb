{
 "cells": [
  {
   "cell_type": "markdown",
   "id": "f2ce340d",
   "metadata": {},
   "source": [
    "# Assignment 11"
   ]
  },
  {
   "cell_type": "code",
   "execution_count": null,
   "id": "b311613b",
   "metadata": {},
   "outputs": [],
   "source": []
  },
  {
   "cell_type": "markdown",
   "id": "d9d75f79",
   "metadata": {},
   "source": [
    "#### 1. Create a function that takes a list and returns a new list containing only prime numbers.\n",
    "**Examples:**   \n",
    "`filter_primes([7, 9, 3, 9, 10, 11, 27]) ➞ [7, 3, 11]`  \n",
    "`filter_primes([10007, 1009, 1007, 27, 147, 77, 1001, 70]) ➞ [10007, 1009]`  \n",
    "`filter_primes([1009, 10, 10, 10, 3, 33, 9, 4, 1, 61, 63, 69, 1087, 1091, 1093, 1097]) ➞ [1009, 3, 61, 1087, 1091, 1093, 1097]` "
   ]
  },
  {
   "cell_type": "code",
   "execution_count": 1,
   "id": "6f10585d",
   "metadata": {},
   "outputs": [],
   "source": [
    "def filter_primes(in_list):\n",
    "    out_list = []\n",
    "    for ele in in_list:\n",
    "        if ele in [2,3]:\n",
    "            out_list.append(ele)\n",
    "        elif ((ele+1)%6 == 0) or ((ele-1)%6 == 0) and ele != 1:\n",
    "            out_list.append(ele)\n",
    "    temp = out_list.copy()\n",
    "    for ele in temp:\n",
    "        for num in range(2,ele):\n",
    "            if ele%num == 0:\n",
    "                out_list.remove(ele)\n",
    "                break        \n",
    "    print(f'filter_primes({in_list}) ➞ {out_list}')\n"
   ]
  },
  {
   "cell_type": "code",
   "execution_count": 2,
   "id": "caa7e8b6",
   "metadata": {},
   "outputs": [
    {
     "name": "stdout",
     "output_type": "stream",
     "text": [
      "filter_primes([7, 9, 3, 9, 10, 11, 27]) ➞ [7, 3, 11]\n",
      "filter_primes([10007, 1009, 1007, 27, 147, 77, 1001, 70]) ➞ [10007, 1009]\n",
      "filter_primes([1009, 10, 10, 10, 3, 33, 9, 4, 1, 61, 63, 69, 1087, 1091, 1093, 1097]) ➞ [1009, 3, 61, 1087, 1091, 1093, 1097]\n"
     ]
    }
   ],
   "source": [
    "    \n",
    "filter_primes([7, 9, 3, 9, 10, 11, 27])\n",
    "filter_primes([10007, 1009, 1007, 27, 147, 77, 1001, 70])\n",
    "filter_primes([1009, 10, 10, 10, 3, 33, 9, 4, 1, 61, 63, 69, 1087, 1091, 1093, 1097])"
   ]
  },
  {
   "cell_type": "code",
   "execution_count": null,
   "id": "b0659cf5",
   "metadata": {},
   "outputs": [],
   "source": []
  },
  {
   "cell_type": "markdown",
   "id": "b664199c",
   "metadata": {},
   "source": [
    "#### 2. Once a water balloon pops, is soaks the area around it. The ground gets drier the further away you travel from the balloon.\n",
    "The effect of a water balloon popping can be modeled using a list. Create a function that takes a list which takes the pre-pop state and returns the state after the balloon is popped. The pre-pop state will contain at most a single balloon, whose size is represented by the only non-zero element.   \n",
    "\n",
    "**Examples:**   \n",
    "`pop([0, 0, 0, 0, 4, 0, 0, 0, 0]) ➞ [0, 1, 2, 3, 4, 3, 2, 1, 0]`   \n",
    "`pop([0, 0, 0, 3, 0, 0, 0]) ➞ [0, 1, 2, 3, 2, 1, 0]`   \n",
    "`pop([0, 0, 2, 0, 0]) ➞ [0, 1, 2, 1, 0]`  \n",
    "`pop([0]) ➞ [0]`  "
   ]
  },
  {
   "cell_type": "code",
   "execution_count": 28,
   "id": "58f17180",
   "metadata": {},
   "outputs": [],
   "source": [
    "def find_initial_position(arr):\n",
    "    for indx, val in enumerate(arr):\n",
    "        if val > 0:\n",
    "            return indx, val\n",
    "\n",
    "\n",
    "def pop(arr):\n",
    "    \n",
    "    if len(arr) == 1:\n",
    "        return arr\n",
    "    \n",
    "    initial_indx, initial_val = find_initial_position(arr)\n",
    "    filling_val = initial_val\n",
    "    \n",
    "    counter = 1\n",
    "    while filling_val > 0:\n",
    "        left_filling_indx = initial_indx - counter\n",
    "        right_filling_indx = initial_indx + counter\n",
    "        filling_val -= 1 \n",
    "        \n",
    "        if left_filling_indx >= 0:\n",
    "            arr[left_filling_indx] = filling_val \n",
    "            \n",
    "        if right_filling_indx <= len(arr)-1:\n",
    "            arr[right_filling_indx] = filling_val\n",
    "            \n",
    "        counter += 1 \n",
    "        \n",
    "    return arr "
   ]
  },
  {
   "cell_type": "code",
   "execution_count": 29,
   "id": "946aed7c",
   "metadata": {},
   "outputs": [
    {
     "data": {
      "text/plain": [
       "[0, 1, 2, 3, 4, 3, 2, 1, 0]"
      ]
     },
     "execution_count": 29,
     "metadata": {},
     "output_type": "execute_result"
    }
   ],
   "source": [
    "pop([0, 0, 0, 0, 4, 0, 0, 0, 0])"
   ]
  },
  {
   "cell_type": "code",
   "execution_count": 30,
   "id": "83f7ce33",
   "metadata": {},
   "outputs": [
    {
     "data": {
      "text/plain": [
       "[0, 1, 2, 3, 2, 1, 0]"
      ]
     },
     "execution_count": 30,
     "metadata": {},
     "output_type": "execute_result"
    }
   ],
   "source": [
    "pop([0, 0, 0, 3, 0, 0, 0])"
   ]
  },
  {
   "cell_type": "code",
   "execution_count": 31,
   "id": "02a5be11",
   "metadata": {},
   "outputs": [
    {
     "data": {
      "text/plain": [
       "[0, 1, 2, 1, 0]"
      ]
     },
     "execution_count": 31,
     "metadata": {},
     "output_type": "execute_result"
    }
   ],
   "source": [
    "pop([0, 0, 2, 0, 0])"
   ]
  },
  {
   "cell_type": "code",
   "execution_count": 32,
   "id": "94d4f96d",
   "metadata": {},
   "outputs": [
    {
     "data": {
      "text/plain": [
       "[0]"
      ]
     },
     "execution_count": 32,
     "metadata": {},
     "output_type": "execute_result"
    }
   ],
   "source": [
    "pop([0])"
   ]
  },
  {
   "cell_type": "code",
   "execution_count": 33,
   "id": "84b588ba",
   "metadata": {},
   "outputs": [
    {
     "data": {
      "text/plain": [
       "[1, 2, 1, 0]"
      ]
     },
     "execution_count": 33,
     "metadata": {},
     "output_type": "execute_result"
    }
   ],
   "source": [
    "pop([0, 2, 0, 0])"
   ]
  },
  {
   "cell_type": "code",
   "execution_count": null,
   "id": "600561ff",
   "metadata": {},
   "outputs": [],
   "source": []
  },
  {
   "cell_type": "markdown",
   "id": "7ec2fb49",
   "metadata": {},
   "source": [
    "#### 3. \"Loves me, loves me not\" is a traditional game in which a person plucks off all the petals of a flower one by one, saying the phrase \"Loves me\" and \"Loves me not\" when determining whether the one that they love, loves them back.\n",
    "\n",
    "Given a number of petals, return a string which repeats the phrases \"Loves me\" and \"Loves me not\" for every alternating petal, and return the last phrase in all caps. Remember to put a comma and space between phrases.\n",
    "\n",
    "**Examples:**   \n",
    "`loves_me(3) ➞ \"Loves me, Loves me not, LOVES ME\"`  \n",
    "`loves_me(6) ➞ \"Loves me, Loves me not, Loves me, Loves me not, Loves me, LOVES ME NOT\"`  \n",
    "`loves_me(1) ➞ \"LOVES ME\"`  "
   ]
  },
  {
   "cell_type": "code",
   "execution_count": 36,
   "id": "87c08873",
   "metadata": {},
   "outputs": [
    {
     "name": "stdout",
     "output_type": "stream",
     "text": [
      "loves_me(3) ➞ Loves me, Loves me not, LOVES ME\n",
      "loves_me(6) ➞ Loves me, Loves me not, Loves me, Loves me not, Loves me, LOVES ME NOT\n",
      "loves_me(1) ➞ LOVES ME\n"
     ]
    }
   ],
   "source": [
    "def loves_me(in_num):\n",
    "    out_string = []\n",
    "    for ele in range(in_num):\n",
    "        if ele%2 ==0:\n",
    "            out_string.append('Loves me')\n",
    "        else:\n",
    "            out_string.append('Loves me not')\n",
    "    out_string[-1] = out_string[-1].upper()\n",
    "    print(f'loves_me({in_num}) ➞ {\", \".join(out_string)}')\n",
    "    \n",
    "loves_me(3)\n",
    "loves_me(6)\n",
    "loves_me(1)"
   ]
  },
  {
   "cell_type": "code",
   "execution_count": null,
   "id": "1a874463",
   "metadata": {},
   "outputs": [],
   "source": []
  },
  {
   "cell_type": "markdown",
   "id": "54080789",
   "metadata": {},
   "source": [
    "#### 4. Write a function that sorts each string in a list by the letter in alphabetic ascending order (a-z).\n",
    "**Examples:**   \n",
    "`sort_by_letter([\"932c\", \"832u32\", \"2344b\"]) ➞ [\"2344b\", \"932c\", \"832u32\"]`   \n",
    "`sort_by_letter([\"99a\", \"78b\", \"c2345\", \"11d\"]) ➞ [\"99a\", \"78b\", \"c2345\", \"11d\"]`     \n",
    "`sort_by_letter([\"572z\", \"5y5\", \"304q2\"]) ➞ [\"304q2\", \"5y5\", \"572z\"]`   \n",
    "`sort_by_letter([]) ➞ []`"
   ]
  },
  {
   "cell_type": "code",
   "execution_count": 39,
   "id": "54ac60b9",
   "metadata": {},
   "outputs": [],
   "source": [
    "def find_alphabets(word):\n",
    "    for indx, char in enumerate(word):\n",
    "        if char.isalpha():\n",
    "            return (char, word)\n",
    "        \n",
    "        \n",
    "def sort_by_letter(arr):\n",
    "    s_arr = []\n",
    "    \n",
    "    for word in arr:\n",
    "        s_arr.append(find_alphabets(word))\n",
    "        \n",
    "    s_arr.sort()\n",
    "    \n",
    "    for indx, t in enumerate(s_arr):\n",
    "        s_arr[indx] = t[1]\n",
    "        \n",
    "    return s_arr"
   ]
  },
  {
   "cell_type": "code",
   "execution_count": 40,
   "id": "058b5728",
   "metadata": {},
   "outputs": [
    {
     "data": {
      "text/plain": [
       "['2344b', '932c', '832u32']"
      ]
     },
     "execution_count": 40,
     "metadata": {},
     "output_type": "execute_result"
    }
   ],
   "source": [
    "sort_by_letter([\"932c\", \"832u32\", \"2344b\"])"
   ]
  },
  {
   "cell_type": "code",
   "execution_count": 41,
   "id": "79c2b487",
   "metadata": {},
   "outputs": [
    {
     "data": {
      "text/plain": [
       "['99a', '78b', 'c2345', '11d']"
      ]
     },
     "execution_count": 41,
     "metadata": {},
     "output_type": "execute_result"
    }
   ],
   "source": [
    "sort_by_letter([\"99a\", \"78b\", \"c2345\", \"11d\"])"
   ]
  },
  {
   "cell_type": "code",
   "execution_count": 42,
   "id": "c3571923",
   "metadata": {},
   "outputs": [
    {
     "data": {
      "text/plain": [
       "['304q2', '5y5', '572z']"
      ]
     },
     "execution_count": 42,
     "metadata": {},
     "output_type": "execute_result"
    }
   ],
   "source": [
    "sort_by_letter([\"572z\", \"5y5\", \"304q2\"])"
   ]
  },
  {
   "cell_type": "code",
   "execution_count": 43,
   "id": "eff0f413",
   "metadata": {},
   "outputs": [
    {
     "data": {
      "text/plain": [
       "[]"
      ]
     },
     "execution_count": 43,
     "metadata": {},
     "output_type": "execute_result"
    }
   ],
   "source": [
    "sort_by_letter([])"
   ]
  },
  {
   "cell_type": "code",
   "execution_count": null,
   "id": "9fa5078d",
   "metadata": {},
   "outputs": [],
   "source": []
  },
  {
   "cell_type": "markdown",
   "id": "a98d5144",
   "metadata": {},
   "source": [
    "#### 5. There are three cups on a table, at positions A, B, and C. At the start, there is a ball hidden under the cup at position B.\n",
    "\n",
    "![image.png](attachment:image.png)\n",
    "\n",
    "However, I perform several swaps on the cups, which is notated as two letters. For example, if I swap the cups at positions A and B, I could notate this as AB or BA.\n",
    "\n",
    "Create a function that returns the letter position that the ball is at, once I finish swapping the cups. The swaps will be given to you as a list.\n",
    "\n",
    "**Examples:**   \n",
    "`cup_swapping([\"AB\", \"CA\", \"AB\"]) ➞ \"C\"`  \n",
    "`# Ball begins at position B.`  \n",
    "`# Cups A and B swap, so the ball is at position A.`  \n",
    "`# Cups C and A swap, so the ball is at position C.`  \n",
    "`# Cups A and B swap, but the ball is at position C, so it doesn't move.` "
   ]
  },
  {
   "cell_type": "code",
   "execution_count": null,
   "id": "060214e7",
   "metadata": {},
   "outputs": [],
   "source": [
    "def cup_swapping(arr):\n",
    "    \n",
    "    current_cup_holder = 'B'\n",
    "    \n",
    "    for swappers in arr:\n",
    "        if current_cup_holder in swappers:\n",
    "            current_cup_indx = swappers.index(current_cup_holder) \n",
    "            if current_cup_indx == 1:\n",
    "                another_swaper_val = swappers[0]\n",
    "            else:\n",
    "                 another_swaper_val = swappers[1]\n",
    "                    \n",
    "        "
   ]
  },
  {
   "cell_type": "code",
   "execution_count": null,
   "id": "95083eee",
   "metadata": {},
   "outputs": [],
   "source": []
  },
  {
   "cell_type": "code",
   "execution_count": null,
   "id": "5b077067",
   "metadata": {},
   "outputs": [],
   "source": []
  },
  {
   "cell_type": "code",
   "execution_count": null,
   "id": "29974171",
   "metadata": {},
   "outputs": [],
   "source": []
  },
  {
   "cell_type": "code",
   "execution_count": null,
   "id": "d4808eb2",
   "metadata": {},
   "outputs": [],
   "source": []
  }
 ],
 "metadata": {
  "kernelspec": {
   "display_name": "Python 3 (ipykernel)",
   "language": "python",
   "name": "python3"
  },
  "language_info": {
   "codemirror_mode": {
    "name": "ipython",
    "version": 3
   },
   "file_extension": ".py",
   "mimetype": "text/x-python",
   "name": "python",
   "nbconvert_exporter": "python",
   "pygments_lexer": "ipython3",
   "version": "3.10.8"
  }
 },
 "nbformat": 4,
 "nbformat_minor": 5
}
