{
 "cells": [
  {
   "cell_type": "markdown",
   "id": "9f9d01d9",
   "metadata": {},
   "source": [
    "# Assignment 16"
   ]
  },
  {
   "cell_type": "code",
   "execution_count": null,
   "id": "63532a51",
   "metadata": {},
   "outputs": [],
   "source": []
  },
  {
   "cell_type": "markdown",
   "id": "1c25caaf",
   "metadata": {},
   "source": [
    "#### 1. Rondo Form is a type of musical structure, in which there is a recurring theme/refrain, notated as A. Here are the rules for valid rondo forms:\n",
    "\n",
    "   - Rondo forms always start and end with an A section.\n",
    "   - In between the A sections, there should be contrasting sections notated as B, then C, then D, etc... No letter should be skipped.\n",
    "   - There shouldn't be any repeats in the sequence (such as ABBACCA).\n",
    "\n",
    "Create a function which validates whether a given string is a valid Rondo Form.\n",
    "\n",
    "**Examples:**   \n",
    "`valid_rondo(\"ABACADAEAFAGAHAIAJA\") ➞ True`  \n",
    "`valid_rondo(\"ABA\") ➞ True`  \n",
    "`valid_rondo(\"ABBACCA\") ➞ False`  \n",
    "`valid_rondo(\"ACAC\") ➞ False`  \n",
    "`valid_rondo(\"A\") ➞ False`   "
   ]
  },
  {
   "cell_type": "code",
   "execution_count": 26,
   "id": "dd260240",
   "metadata": {},
   "outputs": [],
   "source": [
    "def valid_rondo(s):\n",
    "    curr_repeats = 0\n",
    "    intermediate_val = ord(\"B\")\n",
    "    l_p = 0 \n",
    "    r_p = 1 \n",
    "    \n",
    "    if s[l_p] != \"A\" or len(s):\n",
    "        return False\n",
    "    \n",
    "    while r_p < len(s)-1:\n",
    "        \n",
    "        while s[r_p] != \"A\":\n",
    "            r_p += 1 \n",
    "            \n",
    "        if s[r_p] == \"A\":\n",
    "            \n",
    "            if r_p - l_p == 2:\n",
    "                s[l_p] == intermediate_val\n",
    "                l_p = r_p \n",
    "                r_p += 1\n",
    "                intermediate_val += 1\n",
    "            else:\n",
    "                v = ord(s[l_p])\n",
    "                for i in range(l_p+1, r_p):\n",
    "                    if ord(s[i]) != v:\n",
    "                        return False\n",
    "                \n",
    "                if len(r_p - l_p) <= curr_repeats:\n",
    "                    return False\n",
    "                \n",
    "                curr_repeats = r_p - l_p \n",
    "                l_p = r_p \n",
    "                r_p += 1 \n",
    "                \n",
    "    return False if s[-1] != \"A\" else True\n",
    "        "
   ]
  },
  {
   "cell_type": "code",
   "execution_count": 27,
   "id": "d183fd94",
   "metadata": {},
   "outputs": [
    {
     "data": {
      "text/plain": [
       "False"
      ]
     },
     "execution_count": 27,
     "metadata": {},
     "output_type": "execute_result"
    }
   ],
   "source": [
    "valid_rondo(\"ABACADAEAFAGAHAIAJA\")"
   ]
  },
  {
   "cell_type": "code",
   "execution_count": 28,
   "id": "38309275",
   "metadata": {},
   "outputs": [
    {
     "data": {
      "text/plain": [
       "False"
      ]
     },
     "execution_count": 28,
     "metadata": {},
     "output_type": "execute_result"
    }
   ],
   "source": [
    "valid_rondo(\"ABA\") "
   ]
  },
  {
   "cell_type": "code",
   "execution_count": 32,
   "id": "0a7e2d55",
   "metadata": {},
   "outputs": [
    {
     "data": {
      "text/plain": [
       "False"
      ]
     },
     "execution_count": 32,
     "metadata": {},
     "output_type": "execute_result"
    }
   ],
   "source": [
    "valid_rondo(\"ABBACCA\")"
   ]
  },
  {
   "cell_type": "code",
   "execution_count": 30,
   "id": "d365a15a",
   "metadata": {},
   "outputs": [
    {
     "data": {
      "text/plain": [
       "False"
      ]
     },
     "execution_count": 30,
     "metadata": {},
     "output_type": "execute_result"
    }
   ],
   "source": [
    "valid_rondo(\"ACAC\")"
   ]
  },
  {
   "cell_type": "code",
   "execution_count": 31,
   "id": "92564db1",
   "metadata": {},
   "outputs": [
    {
     "data": {
      "text/plain": [
       "False"
      ]
     },
     "execution_count": 31,
     "metadata": {},
     "output_type": "execute_result"
    }
   ],
   "source": [
    "valid_rondo(\"A\")"
   ]
  },
  {
   "cell_type": "code",
   "execution_count": null,
   "id": "2d3ecbe8",
   "metadata": {},
   "outputs": [],
   "source": []
  },
  {
   "cell_type": "markdown",
   "id": "2355d822",
   "metadata": {},
   "source": [
    "#### 2. Create a function that returns the whole of the first sentence which contains a specific word. Include the full stop at the end of the sentence.\n",
    "**Examples:**   \n",
    "`txt = \"I have a cat. I have a mat. Things are going swell.\"`  \n",
    "`sentence_searcher(txt, \"have\") ➞ \"I have a cat.\"`  \n",
    "`sentence_searcher(txt, \"MAT\") ➞ \"I have a mat.\"`  \n",
    "`sentence_searcher(txt, \"things\") ➞ \"Things are going swell.\"`  \n",
    "`sentence_searcher(txt, \"flat\") ➞ \"\"`  "
   ]
  },
  {
   "cell_type": "code",
   "execution_count": 33,
   "id": "90ddb111",
   "metadata": {},
   "outputs": [],
   "source": [
    "def sentence_searcher(in_string, search_text):\n",
    "    output = '\"\"'\n",
    "    for ele in in_string.split(\". \"):\n",
    "        if len(ele.lower().replace(search_text.lower(),'')) != len(ele):\n",
    "            output = ele\n",
    "            break\n",
    "    print(f'sentence_searcher{in_string,search_text} ➞ {output}')\n",
    "\n",
    "txt = \"I have a cat. I have a mat. Things are going swell.\"\n",
    "\n"
   ]
  },
  {
   "cell_type": "code",
   "execution_count": 34,
   "id": "b8d4ee9a",
   "metadata": {},
   "outputs": [
    {
     "name": "stdout",
     "output_type": "stream",
     "text": [
      "sentence_searcher('I have a cat. I have a mat. Things are going swell.', 'have') ➞ I have a cat\n"
     ]
    }
   ],
   "source": [
    "sentence_searcher(txt, \"have\")\n"
   ]
  },
  {
   "cell_type": "code",
   "execution_count": 35,
   "id": "fe21af04",
   "metadata": {},
   "outputs": [
    {
     "name": "stdout",
     "output_type": "stream",
     "text": [
      "sentence_searcher('I have a cat. I have a mat. Things are going swell.', 'MAT') ➞ I have a mat\n"
     ]
    }
   ],
   "source": [
    "sentence_searcher(txt, \"MAT\")\n"
   ]
  },
  {
   "cell_type": "code",
   "execution_count": 36,
   "id": "2ee55519",
   "metadata": {},
   "outputs": [
    {
     "name": "stdout",
     "output_type": "stream",
     "text": [
      "sentence_searcher('I have a cat. I have a mat. Things are going swell.', 'things') ➞ Things are going swell.\n"
     ]
    }
   ],
   "source": [
    "sentence_searcher(txt, \"things\")\n"
   ]
  },
  {
   "cell_type": "code",
   "execution_count": 37,
   "id": "c3533dea",
   "metadata": {},
   "outputs": [
    {
     "name": "stdout",
     "output_type": "stream",
     "text": [
      "sentence_searcher('I have a cat. I have a mat. Things are going swell.', 'flat') ➞ \"\"\n"
     ]
    }
   ],
   "source": [
    "sentence_searcher(txt, \"flat\")"
   ]
  },
  {
   "cell_type": "code",
   "execution_count": null,
   "id": "502c1c62",
   "metadata": {},
   "outputs": [],
   "source": []
  },
  {
   "cell_type": "markdown",
   "id": "a6747280",
   "metadata": {},
   "source": [
    "#### 3. Given a number, find the \"round \"of each digit of the number. An integer is called \"round\" if all its digits except the leftmost (most significant) are equal to zero.\n",
    "    - Round numbers: 4000, 1, 9, 800, 90\n",
    "    - Not round numbers: 110, 707, 222, 1001\n",
    "Create a function that takes a number and returns the \"round\" of each digit (except if the digit is zero) as a string. Check out the following examples for more clarification.\n",
    "\n",
    "**Examples:**   \n",
    "`sum_round(101) ➞ \"1 100\"`   \n",
    "`sum_round(1234) ➞ \"4 30 200 1000\"`  \n",
    "`sum_round(54210) ➞ \"10 200 4000 50000\"`  "
   ]
  },
  {
   "cell_type": "code",
   "execution_count": 38,
   "id": "1ec8b172",
   "metadata": {},
   "outputs": [
    {
     "name": "stdout",
     "output_type": "stream",
     "text": [
      "sum_round(101) ➞ 1 100\n",
      "sum_round(1234) ➞ 4 30 200 1000\n",
      "sum_round(54210) ➞ 10 200 4000 50000\n"
     ]
    }
   ],
   "source": [
    "def sum_round(in_num):\n",
    "    output = []\n",
    "    in_num = str(in_num)\n",
    "    for ele in range(len(in_num)):\n",
    "        if in_num[ele] != '0':\n",
    "            output.append(in_num[ele]+len(in_num[ele+1:])*'0')\n",
    "    print(f'sum_round({in_num}) ➞ {\" \".join(output[::-1])}')\n",
    "        \n",
    "sum_round(101)\n",
    "sum_round(1234)\n",
    "sum_round(54210)"
   ]
  },
  {
   "cell_type": "code",
   "execution_count": null,
   "id": "dc2a9b01",
   "metadata": {},
   "outputs": [],
   "source": []
  },
  {
   "cell_type": "markdown",
   "id": "132b15d6",
   "metadata": {},
   "source": [
    "#### 4. Your task, is to create N x N multiplication table, of size n provided in parameter.\n",
    "For example, when n is 5, the multiplication table is:\n",
    "   - 1, 2, 3, 4, 5\n",
    "   - 2, 4, 6, 8, 10\n",
    "   - 3, 6, 9, 12, 15\n",
    "   - 4, 8, 12, 16, 20\n",
    "   - 5, 10, 15, 20, 25\n",
    "   \n",
    "This example will result in:`[[1, 2, 3, 4, 5], [2, 4, 6, 8, 10], [3, 6, 9, 12, 15], [4, 8, 12, 16, 20], [5, 10, 15, 20, 25]]`  \n",
    "**Examples:**   \n",
    "`multiplication_table(1) ➞ [[1]]`   \n",
    "`multiplication_table(3) ➞ [[1, 2, 3], [2, 4, 6], [3, 6, 9]]`  "
   ]
  },
  {
   "cell_type": "code",
   "execution_count": 39,
   "id": "0248e8a8",
   "metadata": {},
   "outputs": [
    {
     "name": "stdout",
     "output_type": "stream",
     "text": [
      "multiplication_table(3) ➞ [[1, 2, 3], [2, 4, 6], [3, 6, 9]]\n",
      "multiplication_table(1) ➞ [[1]]\n",
      "multiplication_table(5) ➞ [[1, 2, 3, 4, 5], [2, 4, 6, 8, 10], [3, 6, 9, 12, 15], [4, 8, 12, 16, 20], [5, 10, 15, 20, 25]]\n"
     ]
    }
   ],
   "source": [
    "def multiplication_table(in_num):\n",
    "    out_list =[]\n",
    "    for a in range(1,in_num+1):\n",
    "        temp_list = []\n",
    "        for b in range(1,in_num+1):\n",
    "            temp_list.append(a*b)\n",
    "        out_list.append(temp_list)\n",
    "    print(f'multiplication_table({in_num}) ➞ {out_list}')\n",
    "        \n",
    "multiplication_table(3) \n",
    "multiplication_table(1)\n",
    "multiplication_table(5)"
   ]
  },
  {
   "cell_type": "code",
   "execution_count": null,
   "id": "6a3061dd",
   "metadata": {},
   "outputs": [],
   "source": []
  },
  {
   "cell_type": "markdown",
   "id": "2583c732",
   "metadata": {},
   "source": [
    "#### 5. Create a function that returns True if two lines rhyme and False otherwise. For the purposes of this exercise, two lines rhyme if the last word from each sentence contains the same vowels.\n",
    "**Examples:**   \n",
    "`does_rhyme(\"Sam I am!\", \"Green eggs and ham.\") ➞ True`  \n",
    "`does_rhyme(\"Sam I am!\", \"Green eggs and HAM.\") ➞ True`   \n",
    "`# Capitalization and punctuation should not matter.`  \n",
    "`does_rhyme(\"You are off to the races\", \"a splendid day.\") ➞ False`  \n",
    "`does_rhyme(\"and frequently do?\", \"you gotta move.\") ➞ False`  "
   ]
  },
  {
   "cell_type": "code",
   "execution_count": 40,
   "id": "7ec0823f",
   "metadata": {},
   "outputs": [
    {
     "name": "stdout",
     "output_type": "stream",
     "text": [
      "does_rhyme('Sam I am!', 'Green eggs and ham.') ➞ True\n",
      "does_rhyme('Sam I am!', 'Green eggs and HAM.') ➞ True\n",
      "does_rhyme('You are off to the races', 'a splendid day.') ➞ False\n",
      "does_rhyme('and frequently do?', 'you gotta move.') ➞ False\n"
     ]
    }
   ],
   "source": [
    "def does_rhyme(in_one,in_two):\n",
    "    vowels = 'aeiou'\n",
    "    output= False\n",
    "    in_one_rhyme = [x.lower() for x in in_one.split(\" \")[-1] if x.lower() in vowels]\n",
    "    in_two_rhyme = [x.lower() for x in in_two.split(\" \")[-1] if x.lower() in vowels]\n",
    "    if in_one_rhyme == in_two_rhyme:\n",
    "        output = True\n",
    "    print(f'does_rhyme{in_one,in_two} ➞ {output}')\n",
    "    \n",
    "does_rhyme(\"Sam I am!\", \"Green eggs and ham.\")\n",
    "does_rhyme(\"Sam I am!\", \"Green eggs and HAM.\")\n",
    "does_rhyme(\"You are off to the races\", \"a splendid day.\")\n",
    "does_rhyme(\"and frequently do?\", \"you gotta move.\")"
   ]
  },
  {
   "cell_type": "code",
   "execution_count": null,
   "id": "92116ff4",
   "metadata": {},
   "outputs": [],
   "source": []
  }
 ],
 "metadata": {
  "kernelspec": {
   "display_name": "Python 3 (ipykernel)",
   "language": "python",
   "name": "python3"
  },
  "language_info": {
   "codemirror_mode": {
    "name": "ipython",
    "version": 3
   },
   "file_extension": ".py",
   "mimetype": "text/x-python",
   "name": "python",
   "nbconvert_exporter": "python",
   "pygments_lexer": "ipython3",
   "version": "3.10.8"
  }
 },
 "nbformat": 4,
 "nbformat_minor": 5
}
