{
 "cells": [
  {
   "cell_type": "markdown",
   "id": "33d34530",
   "metadata": {},
   "source": [
    "# Assignment 14"
   ]
  },
  {
   "cell_type": "code",
   "execution_count": null,
   "id": "ef996b56",
   "metadata": {},
   "outputs": [],
   "source": []
  },
  {
   "cell_type": "markdown",
   "id": "6eaa9073",
   "metadata": {},
   "source": [
    "#### 1. Given a list of numbers, create a function that removes 25% from every number in the list except the smallest number, and adds the total amount removed to the smallest number.\n",
    "**Examples:**  \n",
    "`show_the_love([4, 1, 4]) ➞ [3, 3, 3]`  \n",
    "`show_the_love([16, 10, 8]) ➞ [12, 7.5, 14.5]`   \n",
    "`show_the_love([2, 100]) ➞ [27, 75]`   "
   ]
  },
  {
   "cell_type": "code",
   "execution_count": 25,
   "id": "8f5072e5",
   "metadata": {},
   "outputs": [],
   "source": [
    "def show_the_love(arr):\n",
    "    min_val = min(arr)\n",
    "    arr_copy = arr.copy()\n",
    "    remaining = 0 \n",
    "    smallest_indx = -1\n",
    "    for indx, val in enumerate(arr):\n",
    "        if val == min_val:\n",
    "            smallest_indx = indx\n",
    "        \n",
    "        else:\n",
    "            quarter = val - val * 0.25\n",
    "            arr_copy[indx] = int(quarter)\n",
    "            remaining += (val - quarter)\n",
    "    \n",
    "    arr_copy[smallest_indx] += int(remaining)\n",
    "    return arr_copy"
   ]
  },
  {
   "cell_type": "code",
   "execution_count": 26,
   "id": "67c88ce6",
   "metadata": {},
   "outputs": [
    {
     "data": {
      "text/plain": [
       "[3, 3, 3]"
      ]
     },
     "execution_count": 26,
     "metadata": {},
     "output_type": "execute_result"
    }
   ],
   "source": [
    "show_the_love([4, 1, 4])"
   ]
  },
  {
   "cell_type": "code",
   "execution_count": 27,
   "id": "d5a1f2d1",
   "metadata": {},
   "outputs": [
    {
     "data": {
      "text/plain": [
       "[12, 7, 14]"
      ]
     },
     "execution_count": 27,
     "metadata": {},
     "output_type": "execute_result"
    }
   ],
   "source": [
    "show_the_love([16, 10, 8])"
   ]
  },
  {
   "cell_type": "code",
   "execution_count": 28,
   "id": "cf4f7da7",
   "metadata": {},
   "outputs": [
    {
     "data": {
      "text/plain": [
       "[27, 75]"
      ]
     },
     "execution_count": 28,
     "metadata": {},
     "output_type": "execute_result"
    }
   ],
   "source": [
    "show_the_love([2, 100])"
   ]
  },
  {
   "cell_type": "code",
   "execution_count": null,
   "id": "c18370da",
   "metadata": {},
   "outputs": [],
   "source": []
  },
  {
   "cell_type": "markdown",
   "id": "d94dcf40",
   "metadata": {},
   "source": [
    "#### 2. Create a function that takes in two words as input and returns a list of three elements, in the following order:\n",
    "\n",
    "   1.Shared letters between two words.\n",
    "   2.Letters unique to word 1.\n",
    "   3.Letters unique to word 2.\n",
    "\n",
    "Each element should have unique letters, and have each letter be alphabetically sorted.\n",
    "\n",
    "**Examples:**  \n",
    "`letters(\"sharp\", \"soap\") ➞ [\"aps\", \"hr\", \"o\"]`  \n",
    "`letters(\"board\", \"bored\") ➞ [\"bdor\", \"a\", \"e\"]`  \n",
    "`letters(\"happiness\", \"envelope\") ➞ [\"enp\", \"ahis\", \"lov\"]`  \n",
    "`letters(\"kerfuffle\", \"fluffy\") ➞ [\"flu\", \"ekr\", \"y\"]`  \n",
    "`# Even with multiple matching letters (e.g. 3 f's), there should`   \n",
    "`# only exist a single \"f\" in your first element.`  \n",
    "`letters(\"match\", \"ham\") ➞ [\"ahm\", \"ct\", \"\"]`  \n",
    "`# \"ham\" does not contain any letters that are not found already`   \n",
    "`# in \"match\".`  "
   ]
  },
  {
   "cell_type": "code",
   "execution_count": 29,
   "id": "10b30868",
   "metadata": {},
   "outputs": [
    {
     "name": "stdout",
     "output_type": "stream",
     "text": [
      "letters('sharp', 'soap') ➞ ['aps', 'hr', 'o']\n",
      "letters('board', 'bored') ➞ ['bdor', 'a', 'e']\n",
      "letters('happiness', 'envelope') ➞ ['enp', 'ahis', 'lov']\n",
      "letters('kerfuffle', 'fluffy') ➞ ['flu', 'ekr', 'y']\n",
      "letters('match', 'ham') ➞ ['ahm', 'ct', '']\n"
     ]
    }
   ],
   "source": [
    "def letters(s_one,s_two):\n",
    "    s_one_set = set(s_one)\n",
    "    s_two_set = set(s_two)\n",
    "    out_list = []\n",
    "    out_list.append(''.join(sorted(s_one_set.intersection(s_two_set))))\n",
    "    out_list.append(''.join(sorted(s_one_set.difference(s_two_set))))\n",
    "    out_list.append(''.join(sorted(s_two_set.difference(s_one_set)))) \n",
    "    print(f'letters{s_one,s_two} ➞ {out_list}')\n",
    "    \n",
    "letters(\"sharp\", \"soap\")\n",
    "letters(\"board\", \"bored\")\n",
    "letters(\"happiness\", \"envelope\")\n",
    "letters(\"kerfuffle\", \"fluffy\")\n",
    "letters(\"match\", \"ham\")"
   ]
  },
  {
   "cell_type": "code",
   "execution_count": null,
   "id": "2100cc21",
   "metadata": {},
   "outputs": [],
   "source": []
  },
  {
   "cell_type": "markdown",
   "id": "cfadb83a",
   "metadata": {},
   "source": [
    "#### 3. Write a function that pairs the first number in an array with the last, the second number with the second to last, etc.\n",
    "**Examples:**  \n",
    "`pairs([1, 2, 3, 4, 5, 6, 7]) ➞ [[1, 7], [2, 6], [3, 5], [4, 4]]`   \n",
    "`pairs([1, 2, 3, 4, 5, 6]) ➞ [[1, 6], [2, 5], [3, 4]]`   \n",
    "`pairs([5, 9, 8, 1, 2]) ➞ [[5, 2], [9, 1], [8, 8]]`   \n",
    "`pairs([]) ➞ []`"
   ]
  },
  {
   "cell_type": "code",
   "execution_count": 44,
   "id": "a799fdc1",
   "metadata": {},
   "outputs": [],
   "source": [
    "def pairs(arr):\n",
    "    l_p = 0 \n",
    "    r_p = len(arr)-1 \n",
    "    res = []\n",
    "    \n",
    "    while l_p <= r_p:\n",
    "        if l_p == r_p:\n",
    "            vals = [arr[l_p], arr[l_p]]\n",
    "        else:\n",
    "            vals = [arr[l_p], arr[r_p]]\n",
    "            \n",
    "        res.append(vals)\n",
    "        l_p += 1 \n",
    "        r_p -= 1\n",
    "    return res"
   ]
  },
  {
   "cell_type": "code",
   "execution_count": 45,
   "id": "48636b91",
   "metadata": {},
   "outputs": [
    {
     "data": {
      "text/plain": [
       "[[1, 7], [2, 6], [3, 5], [4, 4]]"
      ]
     },
     "execution_count": 45,
     "metadata": {},
     "output_type": "execute_result"
    }
   ],
   "source": [
    "pairs([1, 2, 3, 4, 5, 6, 7])"
   ]
  },
  {
   "cell_type": "code",
   "execution_count": 46,
   "id": "1e59edb6",
   "metadata": {},
   "outputs": [
    {
     "data": {
      "text/plain": [
       "[[1, 6], [2, 5], [3, 4]]"
      ]
     },
     "execution_count": 46,
     "metadata": {},
     "output_type": "execute_result"
    }
   ],
   "source": [
    "pairs([1, 2, 3, 4, 5, 6])"
   ]
  },
  {
   "cell_type": "code",
   "execution_count": 47,
   "id": "52d69127",
   "metadata": {},
   "outputs": [
    {
     "data": {
      "text/plain": [
       "[[5, 2], [9, 1], [8, 8]]"
      ]
     },
     "execution_count": 47,
     "metadata": {},
     "output_type": "execute_result"
    }
   ],
   "source": [
    "pairs([5, 9, 8, 1, 2])"
   ]
  },
  {
   "cell_type": "code",
   "execution_count": 48,
   "id": "b1cd189a",
   "metadata": {},
   "outputs": [
    {
     "data": {
      "text/plain": [
       "[]"
      ]
     },
     "execution_count": 48,
     "metadata": {},
     "output_type": "execute_result"
    }
   ],
   "source": [
    "pairs([])"
   ]
  },
  {
   "cell_type": "code",
   "execution_count": null,
   "id": "92a06d9a",
   "metadata": {},
   "outputs": [],
   "source": []
  },
  {
   "cell_type": "markdown",
   "id": "471fde92",
   "metadata": {},
   "source": [
    "#### 4. Write a function that adds two numbers. The catch, however, is that the numbers will be strings.\n",
    "\n",
    "**Examples:**  \n",
    "`add_str_nums(\"4\", \"5\") ➞ \"9\"`     \n",
    "`add_str_nums(\"abcdefg\", \"3\") ➞ \"-1\"`  \n",
    "`add_str_nums(\"1\", \"\") ➞ \"1\"`   \n",
    "`add_str_nums(\"1874682736267235927359283579235789257\", \"32652983572985729\") ➞ \"1874682736267235927391936562808774986\"`"
   ]
  },
  {
   "cell_type": "code",
   "execution_count": null,
   "id": "939b3571",
   "metadata": {},
   "outputs": [],
   "source": []
  },
  {
   "cell_type": "code",
   "execution_count": null,
   "id": "d8fe1f2f",
   "metadata": {},
   "outputs": [],
   "source": []
  },
  {
   "cell_type": "code",
   "execution_count": null,
   "id": "7596292b",
   "metadata": {},
   "outputs": [],
   "source": []
  },
  {
   "cell_type": "code",
   "execution_count": null,
   "id": "181e1b06",
   "metadata": {},
   "outputs": [],
   "source": []
  },
  {
   "cell_type": "code",
   "execution_count": null,
   "id": "e6fc04a4",
   "metadata": {},
   "outputs": [],
   "source": []
  }
 ],
 "metadata": {
  "kernelspec": {
   "display_name": "Python 3 (ipykernel)",
   "language": "python",
   "name": "python3"
  },
  "language_info": {
   "codemirror_mode": {
    "name": "ipython",
    "version": 3
   },
   "file_extension": ".py",
   "mimetype": "text/x-python",
   "name": "python",
   "nbconvert_exporter": "python",
   "pygments_lexer": "ipython3",
   "version": "3.10.8"
  }
 },
 "nbformat": 4,
 "nbformat_minor": 5
}
