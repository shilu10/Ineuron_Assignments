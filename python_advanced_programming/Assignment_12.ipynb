{
 "cells": [
  {
   "cell_type": "markdown",
   "id": "d4542d10",
   "metadata": {},
   "source": [
    "# Assignment 12"
   ]
  },
  {
   "cell_type": "code",
   "execution_count": null,
   "id": "37a38adc",
   "metadata": {},
   "outputs": [],
   "source": []
  },
  {
   "cell_type": "markdown",
   "id": "fa243a10",
   "metadata": {},
   "source": [
    "#### 1. For this challenge, forget how to add two numbers together. The best explanation on what to do for this function is this meme:\n",
    "\n",
    "**Examples:**   \n",
    "`meme_sum(26, 39) ➞ 515`  \n",
    "`# 2+3 = 5, 6+9 = 15`  \n",
    "`# 26 + 39 = 515`  \n",
    "`meme_sum(122, 81) ➞ 1103`  \n",
    "`# 1+0 = 1, 2+8 = 10, 2+1 = 3`  \n",
    "`# 122 + 81 = 1103`  \n",
    "`meme_sum(1222, 30277) ➞ 31499`  "
   ]
  },
  {
   "cell_type": "code",
   "execution_count": 1,
   "id": "1ca55c97",
   "metadata": {},
   "outputs": [
    {
     "name": "stdout",
     "output_type": "stream",
     "text": [
      "meme_sum('26', '39') ➞ 515\n",
      "meme_sum('122', '081') ➞ 1103\n",
      "meme_sum('01222', '30277') ➞ 31499\n"
     ]
    }
   ],
   "source": [
    "def meme_sum(a,b):\n",
    "    a,b = str(a),str(b)\n",
    "    output = ''\n",
    "    while len(a) != len(b):\n",
    "        if len(a) < len(b):\n",
    "            a ='0'+a\n",
    "        else:\n",
    "            b='0'+b\n",
    "    for ele in range(len(a)):\n",
    "        output += str(int(a[ele])+int(b[ele]))\n",
    "    print(f'meme_sum{a,b} ➞ {output}')\n",
    "       \n",
    "meme_sum(26, 39)\n",
    "meme_sum(122, 81)\n",
    "meme_sum(1222, 30277) "
   ]
  },
  {
   "cell_type": "code",
   "execution_count": null,
   "id": "4a12a011",
   "metadata": {},
   "outputs": [],
   "source": []
  },
  {
   "cell_type": "markdown",
   "id": "61d05052",
   "metadata": {},
   "source": [
    "#### 2. Given an integer, create a function that returns the next prime. If the number is prime, return the number itself.\n",
    "**Examples:**   \n",
    "`next_prime(12) ➞ 13`  \n",
    "`next_prime(24) ➞ 29`  \n",
    "`next_prime(11) ➞ 11`  \n",
    "`# 11 is a prime, so we return the number itself.`  "
   ]
  },
  {
   "cell_type": "code",
   "execution_count": 2,
   "id": "04632f12",
   "metadata": {},
   "outputs": [
    {
     "name": "stdout",
     "output_type": "stream",
     "text": [
      "next_prine(12) ➞ 13\n",
      "next_prine(24) ➞ 29\n",
      "next_prine(11) ➞ 11\n"
     ]
    }
   ],
   "source": [
    "def next_prime(in_num):\n",
    "    in_num_clone = in_num\n",
    "    while True:\n",
    "        if (in_num-1)%6 == 0 or (in_num+1)%6 ==0 :\n",
    "            temp = in_num\n",
    "            for ele in range(3,in_num+1):\n",
    "                if in_num%ele == 0 and ele != in_num:\n",
    "                    in_num = in_num+1\n",
    "                    break\n",
    "            if temp == in_num:\n",
    "                break\n",
    "        else:\n",
    "            in_num += 1\n",
    "    \n",
    "    print(f'next_prine({in_num_clone}) ➞ {in_num}')\n",
    "        \n",
    "next_prime(12)\n",
    "next_prime(24)\n",
    "next_prime(11)"
   ]
  },
  {
   "cell_type": "code",
   "execution_count": null,
   "id": "7601920e",
   "metadata": {},
   "outputs": [],
   "source": []
  },
  {
   "cell_type": "markdown",
   "id": "287763c5",
   "metadata": {},
   "source": [
    "#### 3. If a person traveled up a hill for 18mins at 20mph and then traveled back down the same path at 60mph then their average speed traveled was 30mph.\n",
    "\n",
    "Write a function that returns the average speed traveled given an uphill time, uphill rate and a downhill rate. Uphill time is given in minutes. Return the rate as an integer (mph). No rounding is necessary.\n",
    "\n",
    "**Examples:**   \n",
    "`ave_spd(18, 20, 60) ➞ 30`  \n",
    "`ave_spd(30, 10, 30) ➞ 15`  \n",
    "`ave_spd(30, 8, 24) ➞ 12`  "
   ]
  },
  {
   "cell_type": "code",
   "execution_count": 3,
   "id": "c32a97a3",
   "metadata": {},
   "outputs": [
    {
     "name": "stdout",
     "output_type": "stream",
     "text": [
      "ave_spd(18, 20, 60) ➞ 30\n",
      "ave_spd(30, 10, 30) ➞ 15\n",
      "ave_spd(30, 8, 24) ➞ 12\n"
     ]
    }
   ],
   "source": [
    "def ave_spd(up_time,up_speed,down_speed):\n",
    "    distance = up_speed*(up_time/60)\n",
    "    down_time = distance/down_speed\n",
    "    output = (2*distance)/((up_time/60)+down_time)\n",
    "    print(f'ave_spd{up_time,up_speed,down_speed} ➞ {int(output)}')\n",
    "    \n",
    "ave_spd(18, 20, 60)\n",
    "ave_spd(30, 10, 30)\n",
    "ave_spd(30, 8, 24)"
   ]
  },
  {
   "cell_type": "code",
   "execution_count": null,
   "id": "9bda90de",
   "metadata": {},
   "outputs": [],
   "source": []
  },
  {
   "cell_type": "markdown",
   "id": "336d8b39",
   "metadata": {},
   "source": [
    "#### 4. The Kempner Function, applied to a composite number, permits to find the smallest integer greater than zero whose factorial is exactly divided by the number.\n",
    "\n",
    "`kempner(6) ➞ 3\n",
    "1! = 1 % 6 > 0\n",
    "2! = 2 % 6 > 0\n",
    "3! = 6 % 6 === 0`  \n",
    "\n",
    "`kempner(10) ➞ 5\n",
    "1! = 1 % 10 > 0\n",
    "2! = 2 % 10 > 0\n",
    "3! = 6 % 10 > 0\n",
    "4! = 24 % 10 > 0\n",
    "5! = 120 % 10 === 0`\n",
    "\n",
    "A Kempner Function applied to a prime will always return the prime itself.   \n",
    "`kempner(2) ➞ 2`  \n",
    "`kempner(5) ➞ 5`  \n",
    "\n",
    "Given an integer n, implement a Kempner Function.  \n",
    "\n",
    "**Examples:**   \n",
    "`kempner(6) ➞ 3`  \n",
    "`kempner(10) ➞ 5`  \n",
    "`kempner(2) ➞ 2`  "
   ]
  },
  {
   "cell_type": "code",
   "execution_count": 26,
   "id": "45bd6628",
   "metadata": {},
   "outputs": [],
   "source": [
    "def get_factorial(val):\n",
    "    factorials = []\n",
    "    def rec(i):\n",
    "        if i == 1:\n",
    "            return 1 \n",
    "        \n",
    "        else:\n",
    "            return i * rec(i-1)\n",
    "    \n",
    "    for i in range(1, val+1):\n",
    "        factorials.append(rec(i))\n",
    "    \n",
    "    return factorials\n",
    "            \n",
    "def kempner(val):\n",
    "    factorials = get_factorial(val)\n",
    "    \n",
    "    for indx, f in enumerate(factorials):\n",
    "        if f % val == 0:\n",
    "            return indx+1"
   ]
  },
  {
   "cell_type": "code",
   "execution_count": 28,
   "id": "d11d4ac3",
   "metadata": {},
   "outputs": [
    {
     "data": {
      "text/plain": [
       "5"
      ]
     },
     "execution_count": 28,
     "metadata": {},
     "output_type": "execute_result"
    }
   ],
   "source": [
    "kempner(10)"
   ]
  },
  {
   "cell_type": "code",
   "execution_count": 29,
   "id": "7f8b3dd6",
   "metadata": {},
   "outputs": [
    {
     "data": {
      "text/plain": [
       "3"
      ]
     },
     "execution_count": 29,
     "metadata": {},
     "output_type": "execute_result"
    }
   ],
   "source": [
    "kempner(6)"
   ]
  },
  {
   "cell_type": "code",
   "execution_count": 30,
   "id": "50189efe",
   "metadata": {},
   "outputs": [
    {
     "data": {
      "text/plain": [
       "2"
      ]
     },
     "execution_count": 30,
     "metadata": {},
     "output_type": "execute_result"
    }
   ],
   "source": [
    "kempner(2)"
   ]
  },
  {
   "cell_type": "code",
   "execution_count": 31,
   "id": "f524b278",
   "metadata": {},
   "outputs": [
    {
     "data": {
      "text/plain": [
       "5"
      ]
     },
     "execution_count": 31,
     "metadata": {},
     "output_type": "execute_result"
    }
   ],
   "source": [
    "kempner(5) "
   ]
  },
  {
   "cell_type": "code",
   "execution_count": null,
   "id": "e1a34c1c",
   "metadata": {},
   "outputs": [],
   "source": []
  },
  {
   "cell_type": "markdown",
   "id": "0b258fb6",
   "metadata": {},
   "source": [
    "#### 5. You work in a factory, and your job is to take items from a conveyor belt and pack them into boxes. Each box can hold a maximum of 10 kgs. Given a list containing the weight (in kg) of each item, how many boxes would you need to pack all of the items?\n",
    "\n",
    "**Examples:**   \n",
    "`boxes([2, 1, 2, 5, 4, 3, 6, 1, 1, 9, 3, 2]) ➞ 5`   \n",
    "`# Box 1 = [2, 1, 2, 5] (10kg)`  \n",
    "`# Box 2 = [4, 3] (7kg)`  \n",
    "`# Box 3 = [6, 1, 1] (8kg)`  \n",
    "`# Box 4 = [9] (9kg)`  \n",
    "`# Box 5 = [3, 2] (5kg)`  "
   ]
  },
  {
   "cell_type": "code",
   "execution_count": 32,
   "id": "96e6e6e8",
   "metadata": {},
   "outputs": [
    {
     "name": "stdout",
     "output_type": "stream",
     "text": [
      "boxes([2, 1, 2, 5, 4, 3, 6, 1, 1, 9, 3, 2]) ➞ [[2, 1, 2, 5], [4, 3], [6, 1, 1], [9], [3, 2]] ➞ 5\n",
      "boxes([5, 5, 5, 5, 5, 5, 2, 3, 4, 5, 6]) ➞ [[5, 5], [5, 5], [5, 5], [2, 3, 4], [5, 6]] ➞ 5\n"
     ]
    }
   ],
   "source": [
    "def boxes(in_list):\n",
    "    in_list_clone = in_list.copy()\n",
    "    output = []\n",
    "    temp_box = []\n",
    "    while True:\n",
    "        if len(in_list) != 0:\n",
    "            if sum(temp_box) <= 10:\n",
    "                temp_box.append(in_list.pop(0))\n",
    "            else:\n",
    "                in_list.insert(0,temp_box.pop())\n",
    "                output.append(temp_box)\n",
    "                temp_box = []\n",
    "        else:\n",
    "            output.append(temp_box)\n",
    "            temp_box = []\n",
    "            break\n",
    "    print(f'boxes({in_list_clone}) ➞ {output} ➞ {len(output)}')    \n",
    "    \n",
    "boxes([2, 1, 2, 5, 4, 3, 6, 1, 1, 9, 3, 2])\n",
    "boxes([5, 5, 5, 5, 5, 5, 2, 3, 4, 5, 6])"
   ]
  },
  {
   "cell_type": "code",
   "execution_count": null,
   "id": "32db51a2",
   "metadata": {},
   "outputs": [],
   "source": []
  },
  {
   "cell_type": "code",
   "execution_count": null,
   "id": "6734c7d0",
   "metadata": {},
   "outputs": [],
   "source": []
  },
  {
   "cell_type": "code",
   "execution_count": null,
   "id": "9c3e3319",
   "metadata": {},
   "outputs": [],
   "source": []
  },
  {
   "cell_type": "code",
   "execution_count": null,
   "id": "7f323935",
   "metadata": {},
   "outputs": [],
   "source": []
  }
 ],
 "metadata": {
  "kernelspec": {
   "display_name": "Python 3 (ipykernel)",
   "language": "python",
   "name": "python3"
  },
  "language_info": {
   "codemirror_mode": {
    "name": "ipython",
    "version": 3
   },
   "file_extension": ".py",
   "mimetype": "text/x-python",
   "name": "python",
   "nbconvert_exporter": "python",
   "pygments_lexer": "ipython3",
   "version": "3.10.8"
  }
 },
 "nbformat": 4,
 "nbformat_minor": 5
}
