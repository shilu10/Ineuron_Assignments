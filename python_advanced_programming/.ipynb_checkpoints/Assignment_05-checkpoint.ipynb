{
 "cells": [
  {
   "cell_type": "markdown",
   "id": "82394e75",
   "metadata": {},
   "source": [
    "# Advanced Python Programming Assignment 05"
   ]
  },
  {
   "cell_type": "code",
   "execution_count": null,
   "id": "c1c11970",
   "metadata": {},
   "outputs": [],
   "source": []
  },
  {
   "cell_type": "markdown",
   "id": "a131c446",
   "metadata": {},
   "source": [
    "#### 1.Create a function that takes a number n (integer greater than zero) as an argument, and returns 2 if n is odd and 8 if n is even. \n",
    "You can only use the following arithmetic operators:  \n",
    "`addition of numbers +, \n",
    "subtraction of numbers -, \n",
    "multiplication of number *, \n",
    "division of number /, \n",
    "and exponentiation **.`  \n",
    "You are not allowed to use any other methods in this challenge (i.e. no if statements, comparison operators, etc).  \n",
    "**Examples:**   \n",
    "`f(1) ➞ 2`  \n",
    "`f(2) ➞ 8`  \n",
    "`f(3) ➞ 2` "
   ]
  },
  {
   "cell_type": "code",
   "execution_count": 1,
   "id": "721b40e4",
   "metadata": {},
   "outputs": [
    {
     "name": "stdout",
     "output_type": "stream",
     "text": [
      "f(1)➞ 2\n",
      "f(2)➞ 8\n",
      "f(3)➞ 2\n"
     ]
    }
   ],
   "source": [
    "def f(in_num):\n",
    "    output = [8,2]\n",
    "    print(f'f({in_num})➞ {output[in_num&1]}')\n",
    "    \n",
    "f(1)\n",
    "f(2)\n",
    "f(3)"
   ]
  },
  {
   "cell_type": "code",
   "execution_count": null,
   "id": "ced34f0b",
   "metadata": {},
   "outputs": [],
   "source": []
  },
  {
   "cell_type": "markdown",
   "id": "ba1e6260",
   "metadata": {},
   "source": [
    "#### 2.Create a function that returns the majority vote in a list. A majority vote is an element that occurs > N/2 times in a list (where N is the length of the list).\n",
    "**Examples:**   \n",
    "`majority_vote([\"A\", \"A\", \"B\"]) ➞ \"A\"`  \n",
    "`majority_vote([\"A\", \"A\", \"A\", \"B\", \"C\", \"A\"]) ➞ \"A\"`  \n",
    "`majority_vote([\"A\", \"B\", \"B\", \"A\", \"C\", \"C\"]) ➞ None`  "
   ]
  },
  {
   "cell_type": "code",
   "execution_count": null,
   "id": "81ce6db0",
   "metadata": {},
   "outputs": [],
   "source": [
    "def majority_vote(inputs):\n",
    "    res = None \n",
    "    max_res = 0 \n",
    "    \n",
    "    for char in set(inputs):\n",
    "        c = inputs.count(char)\n",
    "        \n",
    "        if c > len(inputs) // 2:\n",
    "            res = char\n",
    "        "
   ]
  },
  {
   "cell_type": "code",
   "execution_count": null,
   "id": "bf1d6a84",
   "metadata": {},
   "outputs": [],
   "source": []
  },
  {
   "cell_type": "code",
   "execution_count": null,
   "id": "8fd4bcb8",
   "metadata": {},
   "outputs": [],
   "source": []
  },
  {
   "cell_type": "code",
   "execution_count": null,
   "id": "29a126f2",
   "metadata": {},
   "outputs": [],
   "source": []
  },
  {
   "cell_type": "code",
   "execution_count": null,
   "id": "a88b8a00",
   "metadata": {},
   "outputs": [],
   "source": []
  },
  {
   "cell_type": "code",
   "execution_count": null,
   "id": "2fa1e7f7",
   "metadata": {},
   "outputs": [],
   "source": []
  },
  {
   "cell_type": "code",
   "execution_count": null,
   "id": "8b8c7d9c",
   "metadata": {},
   "outputs": [],
   "source": []
  },
  {
   "cell_type": "code",
   "execution_count": null,
   "id": "f4de9183",
   "metadata": {},
   "outputs": [],
   "source": []
  }
 ],
 "metadata": {
  "kernelspec": {
   "display_name": "Python 3 (ipykernel)",
   "language": "python",
   "name": "python3"
  },
  "language_info": {
   "codemirror_mode": {
    "name": "ipython",
    "version": 3
   },
   "file_extension": ".py",
   "mimetype": "text/x-python",
   "name": "python",
   "nbconvert_exporter": "python",
   "pygments_lexer": "ipython3",
   "version": "3.10.8"
  }
 },
 "nbformat": 4,
 "nbformat_minor": 5
}
