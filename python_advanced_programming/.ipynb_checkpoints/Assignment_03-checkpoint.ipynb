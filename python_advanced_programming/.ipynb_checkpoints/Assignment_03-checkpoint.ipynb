{
 "cells": [
  {
   "cell_type": "markdown",
   "id": "e61aa14c",
   "metadata": {},
   "source": [
    "# Advanced Python Assignment 03"
   ]
  },
  {
   "cell_type": "code",
   "execution_count": null,
   "id": "d7f5316a",
   "metadata": {},
   "outputs": [],
   "source": []
  },
  {
   "cell_type": "markdown",
   "id": "f9033a3d",
   "metadata": {},
   "source": [
    "#### 1.Create a function to perform basic arithmetic operations that includes addition, subtraction, multiplication and division on a string number (e.g. \"12 + 24\" or \"23 - 21\" or \"12 // 12\" or \"12 * 21\").\n",
    "Here, we have 1 followed by a space, operator followed by another space and 2. For the challenge, we are going to have only two numbers between 1 valid operator. The return value should be a number.  \n",
    "eval() is not allowed. In case of division, whenever the second number equals \"0\" return -1.   \n",
    "For example:  `\"15 // 0\"  ➞ -1`   \n",
    "**Examples:**  \n",
    "`arithmetic_operation(\"12 + 12\") ➞ 24 // 12 + 12 = 24`  \n",
    "`arithmetic_operation(\"12 - 12\") ➞ 24 // 12 - 12 = 0`  \n",
    "`arithmetic_operation(\"12 * 12\") ➞ 144 // 12 * 12 = 144`  \n",
    "`arithmetic_operation(\"12 // 0\") ➞ -1 // 12 / 0 = -1`  "
   ]
  },
  {
   "cell_type": "code",
   "execution_count": 10,
   "id": "932dc7b8",
   "metadata": {},
   "outputs": [],
   "source": [
    "def arithmetic_operation(inputs):\n",
    "    \n",
    "    def add(val1, val2):\n",
    "        return int(val1) + int(val2)\n",
    "    \n",
    "    def sub(val1, val2):\n",
    "        return int(val1) - int(val2) \n",
    "    \n",
    "    def div(val1, val2):\n",
    "        if val2 == 0:\n",
    "            return - 1 \n",
    "        if val1 == 0:\n",
    "            return 0 \n",
    "        else:\n",
    "            return val1/val2\n",
    "    \n",
    "    def mul(val1, val2):\n",
    "            return val1 * val2 \n",
    "        \n",
    "    operation_dic = {\n",
    "        \"+\": add,\n",
    "        \"-\": sub,\n",
    "        \"//\": div,\n",
    "        \"*\": mul\n",
    "    }\n",
    "    \n",
    "    inputs_arr = inputs.split(\" \")\n",
    "    \n",
    "    return operation_dic[inputs_arr[1]](inputs_arr[0], inputs_arr[1])\n",
    "    \n",
    "    \n",
    "    "
   ]
  },
  {
   "cell_type": "code",
   "execution_count": 11,
   "id": "89239324",
   "metadata": {},
   "outputs": [
    {
     "data": {
      "text/plain": [
       "'12+'"
      ]
     },
     "execution_count": 11,
     "metadata": {},
     "output_type": "execute_result"
    }
   ],
   "source": [
    "arithmetic_operation(\"12 + 12\")"
   ]
  },
  {
   "cell_type": "code",
   "execution_count": null,
   "id": "01055681",
   "metadata": {},
   "outputs": [],
   "source": []
  },
  {
   "cell_type": "code",
   "execution_count": null,
   "id": "3ab3a99a",
   "metadata": {},
   "outputs": [],
   "source": []
  },
  {
   "cell_type": "code",
   "execution_count": null,
   "id": "4f45cce9",
   "metadata": {},
   "outputs": [],
   "source": []
  },
  {
   "cell_type": "code",
   "execution_count": null,
   "id": "b9c5b075",
   "metadata": {},
   "outputs": [],
   "source": []
  },
  {
   "cell_type": "code",
   "execution_count": null,
   "id": "5ab80d0b",
   "metadata": {},
   "outputs": [],
   "source": []
  },
  {
   "cell_type": "code",
   "execution_count": null,
   "id": "f6812d7e",
   "metadata": {},
   "outputs": [],
   "source": []
  },
  {
   "cell_type": "code",
   "execution_count": null,
   "id": "1eb9fc6d",
   "metadata": {},
   "outputs": [],
   "source": []
  },
  {
   "cell_type": "code",
   "execution_count": null,
   "id": "7dbc2d0e",
   "metadata": {},
   "outputs": [],
   "source": []
  },
  {
   "cell_type": "code",
   "execution_count": null,
   "id": "2b23071b",
   "metadata": {},
   "outputs": [],
   "source": []
  },
  {
   "cell_type": "code",
   "execution_count": null,
   "id": "2e50abbb",
   "metadata": {},
   "outputs": [],
   "source": []
  },
  {
   "cell_type": "code",
   "execution_count": null,
   "id": "51b0a01e",
   "metadata": {},
   "outputs": [],
   "source": []
  },
  {
   "cell_type": "code",
   "execution_count": null,
   "id": "59f00221",
   "metadata": {},
   "outputs": [],
   "source": []
  }
 ],
 "metadata": {
  "kernelspec": {
   "display_name": "Python 3 (ipykernel)",
   "language": "python",
   "name": "python3"
  },
  "language_info": {
   "codemirror_mode": {
    "name": "ipython",
    "version": 3
   },
   "file_extension": ".py",
   "mimetype": "text/x-python",
   "name": "python",
   "nbconvert_exporter": "python",
   "pygments_lexer": "ipython3",
   "version": "3.10.8"
  }
 },
 "nbformat": 4,
 "nbformat_minor": 5
}
