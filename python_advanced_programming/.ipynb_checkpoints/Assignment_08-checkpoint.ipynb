{
 "cells": [
  {
   "cell_type": "markdown",
   "id": "01b6bee7",
   "metadata": {},
   "source": [
    "# Assignment 08"
   ]
  },
  {
   "cell_type": "code",
   "execution_count": null,
   "id": "461cb453",
   "metadata": {},
   "outputs": [],
   "source": []
  },
  {
   "cell_type": "markdown",
   "id": "296e1507",
   "metadata": {},
   "source": [
    "#### 1. Given a sentence as txt, return True if any two adjacent words have this property: One word ends with a vowel, while the word immediately after begins with a vowel (a e i o u).\n",
    "**Examples:**   \n",
    "`vowel_links(\"a very large appliance\") ➞ True`  \n",
    "`vowel_links(\"go to edabit\") ➞ True`  \n",
    "`vowel_links(\"an open fire\") ➞ False`  \n",
    "`vowel_links(\"a sudden applause\") ➞ False`  "
   ]
  },
  {
   "cell_type": "code",
   "execution_count": 12,
   "id": "788a31f9",
   "metadata": {},
   "outputs": [],
   "source": [
    "def check_vowels(char):\n",
    "    if char in (\"a\", 'e', 'i', 'o', 'u'):\n",
    "        return True \n",
    "    else:\n",
    "        return False\n",
    "\n",
    "    \n",
    "def vowel_links(sen):\n",
    "    sen_list = sen.split(' ')    \n",
    "    l_p = 0 \n",
    "    r_p = 1 \n",
    "    \n",
    "    while r_p <= len(sen_list)-1:\n",
    "        if check_vowels(sen_list[l_p][-1]) and  check_vowels(sen_list[r_p][0]):\n",
    "            return True \n",
    "        \n",
    "        else:\n",
    "            l_p += 1 \n",
    "            r_p += 1 \n",
    "    return False"
   ]
  },
  {
   "cell_type": "code",
   "execution_count": 13,
   "id": "e9be4e19",
   "metadata": {},
   "outputs": [
    {
     "data": {
      "text/plain": [
       "True"
      ]
     },
     "execution_count": 13,
     "metadata": {},
     "output_type": "execute_result"
    }
   ],
   "source": [
    "vowel_links(\"a very large appliance\")"
   ]
  },
  {
   "cell_type": "code",
   "execution_count": 14,
   "id": "9c68ed5b",
   "metadata": {},
   "outputs": [
    {
     "data": {
      "text/plain": [
       "True"
      ]
     },
     "execution_count": 14,
     "metadata": {},
     "output_type": "execute_result"
    }
   ],
   "source": [
    "vowel_links(\"go to edabit\")"
   ]
  },
  {
   "cell_type": "code",
   "execution_count": 15,
   "id": "32fb2e47",
   "metadata": {},
   "outputs": [
    {
     "data": {
      "text/plain": [
       "False"
      ]
     },
     "execution_count": 15,
     "metadata": {},
     "output_type": "execute_result"
    }
   ],
   "source": [
    "vowel_links(\"an open fire\")"
   ]
  },
  {
   "cell_type": "code",
   "execution_count": 16,
   "id": "9bc71b1e",
   "metadata": {},
   "outputs": [
    {
     "data": {
      "text/plain": [
       "False"
      ]
     },
     "execution_count": 16,
     "metadata": {},
     "output_type": "execute_result"
    }
   ],
   "source": [
    "vowel_links(\"a sudden applause\")"
   ]
  },
  {
   "cell_type": "code",
   "execution_count": null,
   "id": "cd3e27bd",
   "metadata": {},
   "outputs": [],
   "source": []
  },
  {
   "cell_type": "code",
   "execution_count": null,
   "id": "0243c345",
   "metadata": {},
   "outputs": [],
   "source": []
  },
  {
   "cell_type": "code",
   "execution_count": null,
   "id": "9f969d47",
   "metadata": {},
   "outputs": [],
   "source": []
  },
  {
   "cell_type": "code",
   "execution_count": null,
   "id": "8ff51f9c",
   "metadata": {},
   "outputs": [],
   "source": []
  },
  {
   "cell_type": "code",
   "execution_count": null,
   "id": "393697c7",
   "metadata": {},
   "outputs": [],
   "source": []
  },
  {
   "cell_type": "code",
   "execution_count": null,
   "id": "16f329e6",
   "metadata": {},
   "outputs": [],
   "source": []
  }
 ],
 "metadata": {
  "kernelspec": {
   "display_name": "Python 3 (ipykernel)",
   "language": "python",
   "name": "python3"
  },
  "language_info": {
   "codemirror_mode": {
    "name": "ipython",
    "version": 3
   },
   "file_extension": ".py",
   "mimetype": "text/x-python",
   "name": "python",
   "nbconvert_exporter": "python",
   "pygments_lexer": "ipython3",
   "version": "3.10.8"
  }
 },
 "nbformat": 4,
 "nbformat_minor": 5
}
