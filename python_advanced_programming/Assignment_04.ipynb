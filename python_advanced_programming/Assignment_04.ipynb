{
 "cells": [
  {
   "cell_type": "markdown",
   "id": "a00b30fd",
   "metadata": {},
   "source": [
    "# advanced python assignment 04"
   ]
  },
  {
   "cell_type": "code",
   "execution_count": null,
   "id": "4c283e4f",
   "metadata": {},
   "outputs": [],
   "source": []
  },
  {
   "cell_type": "markdown",
   "id": "b34d4e07",
   "metadata": {},
   "source": [
    "#### 1.In mathematics, the Fibonacci numbers, commonly denoted Fn, form a sequence, called the Fibonacci sequence, such that each number is the sum of the two preceding ones, starting from 0 and 1:\n",
    "![image.png](attachment:image.png)\n",
    "\n",
    "The beginning of the sequence is this:\n",
    "`0, 1, 1, 2, 3, 5, 8, 13, 21, 34, 55, 89, 144, ...`  \n",
    "The function fastFib(num) returns the fibonacci number Fn, of the given num as an argument.   \n",
    "**Examples:**     \n",
    "`fib_fast(5) ➞ 5`  \n",
    "`fib_fast(10) ➞ 55`  \n",
    "`fib_fast(20) ➞ 6765`  \n",
    "`fib_fast(50) ➞ 12586269025`  "
   ]
  },
  {
   "cell_type": "code",
   "execution_count": null,
   "id": "75cf7646",
   "metadata": {},
   "outputs": [],
   "source": []
  },
  {
   "cell_type": "code",
   "execution_count": 17,
   "id": "831718df",
   "metadata": {},
   "outputs": [],
   "source": [
    "from collections import * \n",
    "import time\n",
    "def fib_fast(inputs):\n",
    "    mem = defaultdict(int)\n",
    "    def rec(i):\n",
    "        if i in mem:\n",
    "            return mem[i]\n",
    "        \n",
    "        if i <= 1:\n",
    "            return i \n",
    "        \n",
    "        else:\n",
    "            res = rec(i-1) + rec(i-2)\n",
    "            mem[i] = res     \n",
    "            return mem[i]\n",
    "        \n",
    "    return rec(inputs)"
   ]
  },
  {
   "cell_type": "code",
   "execution_count": 13,
   "id": "ce279043",
   "metadata": {},
   "outputs": [
    {
     "data": {
      "text/plain": [
       "5"
      ]
     },
     "execution_count": 13,
     "metadata": {},
     "output_type": "execute_result"
    }
   ],
   "source": [
    "fib_fast(5)"
   ]
  },
  {
   "cell_type": "code",
   "execution_count": 14,
   "id": "ad9029b4",
   "metadata": {},
   "outputs": [
    {
     "data": {
      "text/plain": [
       "55"
      ]
     },
     "execution_count": 14,
     "metadata": {},
     "output_type": "execute_result"
    }
   ],
   "source": [
    "fib_fast(10)"
   ]
  },
  {
   "cell_type": "code",
   "execution_count": 15,
   "id": "171f5ad5",
   "metadata": {},
   "outputs": [
    {
     "data": {
      "text/plain": [
       "6765"
      ]
     },
     "execution_count": 15,
     "metadata": {},
     "output_type": "execute_result"
    }
   ],
   "source": [
    "fib_fast(20)"
   ]
  },
  {
   "cell_type": "code",
   "execution_count": 16,
   "id": "9514f392",
   "metadata": {},
   "outputs": [
    {
     "data": {
      "text/plain": [
       "12586269025"
      ]
     },
     "execution_count": 16,
     "metadata": {},
     "output_type": "execute_result"
    }
   ],
   "source": [
    "fib_fast(50)"
   ]
  },
  {
   "cell_type": "code",
   "execution_count": null,
   "id": "801322c3",
   "metadata": {},
   "outputs": [],
   "source": []
  },
  {
   "cell_type": "markdown",
   "id": "ac533184",
   "metadata": {},
   "source": [
    "#### 2.Create a function that takes a strings characters as ASCII and returns each characters hexadecimal value as a string.\n",
    "**Examples:**   \n",
    "`convert_to_hex(\"hello world\") ➞ \"68 65 6c 6c 6f 20 77 6f 72 6c 64\"`  \n",
    "`convert_to_hex(\"Big Boi\") ➞ \"42 69 67 20 42 6f 69\"`  \n",
    "`convert_to_hex(\"Marty Poppinson\") ➞ \"4d 61 72 74 79 20 50 6f 70 70 69 6e 73 6f 6e\"`  "
   ]
  },
  {
   "cell_type": "code",
   "execution_count": 19,
   "id": "91b9110b",
   "metadata": {},
   "outputs": [
    {
     "name": "stdout",
     "output_type": "stream",
     "text": [
      "convert_to_hex(hello world) ➞ 68 65 6c 6c 6f 20 77 6f 72 6c 64\n",
      "convert_to_hex(Big Boi) ➞ 42 69 67 20 42 6f 69\n",
      "convert_to_hex(Marty Poppinson) ➞ 4d 61 72 74 79 20 50 6f 70 70 69 6e 73 6f 6e\n"
     ]
    }
   ],
   "source": [
    "def convert_to_hex(in_string):\n",
    "    out_string = []\n",
    "    for ele in in_string:\n",
    "        out_string.append(hex(ord(ele))[2:])\n",
    "    print(f'convert_to_hex({in_string}) ➞ {\" \".join(out_string)}')\n",
    "\n",
    "convert_to_hex(\"hello world\")\n",
    "convert_to_hex(\"Big Boi\")\n",
    "convert_to_hex(\"Marty Poppinson\")"
   ]
  },
  {
   "cell_type": "code",
   "execution_count": null,
   "id": "b14b2c57",
   "metadata": {},
   "outputs": [],
   "source": []
  },
  {
   "cell_type": "markdown",
   "id": "50c477e1",
   "metadata": {},
   "source": [
    "#### 3.Someone has attempted to censor my strings by replacing every vowel with a `*`, `l*k* th*s`. Luckily, I've been able to find the vowels that were removed.\n",
    "Given a censored string and a string of the censored vowels, return the original uncensored string.   \n",
    "**Examples:**   \n",
    "`uncensor(\"Wh*r* d*d my v*w*ls g*?\", \"eeioeo\") ➞ \"Where did my vowels go?\"`  \n",
    "`uncensor(\"abcd\", \"\") ➞ \"abcd\"`  \n",
    "`uncensor(\"*PP*RC*S*\", \"UEAE\") ➞ \"UPPERCASE\"`  "
   ]
  },
  {
   "cell_type": "code",
   "execution_count": 20,
   "id": "ef637f19",
   "metadata": {},
   "outputs": [
    {
     "name": "stdout",
     "output_type": "stream",
     "text": [
      "uncensor('Wh*r* d*d my v*w*ls g*?', 'eeioeo') ➞ Where did my vowels go?\n",
      "uncensor('abcd', '') ➞ abcd\n",
      "uncensor('*PP*RC*S*', 'UEAE') ➞ UPPERCASE\n"
     ]
    }
   ],
   "source": [
    "def uncensor(in_string,in_vowels):\n",
    "    window = 0\n",
    "    out_string = ''\n",
    "    for ele in in_string:\n",
    "        if ele == '*':\n",
    "            out_string += in_vowels[window]\n",
    "            window +=1\n",
    "        else:\n",
    "            out_string += ele\n",
    "    print(f'uncensor{in_string,in_vowels} ➞ {out_string}')\n",
    "\n",
    "uncensor(\"Wh*r* d*d my v*w*ls g*?\", \"eeioeo\")\n",
    "uncensor(\"abcd\", \"\")\n",
    "uncensor(\"*PP*RC*S*\", \"UEAE\") "
   ]
  },
  {
   "cell_type": "code",
   "execution_count": null,
   "id": "586afede",
   "metadata": {},
   "outputs": [],
   "source": []
  },
  {
   "cell_type": "markdown",
   "id": "db0fae53",
   "metadata": {},
   "source": [
    "#### 4.Write a function that takes an IP address and returns the domain name using PTR DNS records.\n",
    "**Examples:**   \n",
    "`get_domain(\"8.8.8.8\") ➞ \"dns.google\"`  \n",
    "`get_domain(\"8.8.4.4\") ➞ \"dns.google\"`  "
   ]
  },
  {
   "cell_type": "code",
   "execution_count": 23,
   "id": "602ebbc0",
   "metadata": {},
   "outputs": [
    {
     "name": "stdout",
     "output_type": "stream",
     "text": [
      "get_domain(8.8.8.8) ➞ ('dns.google', [], ['8.8.8.8']) ➞ dns.google\n",
      "get_domain(8.8.4.4) ➞ ('dns.google', [], ['8.8.4.4']) ➞ dns.google\n"
     ]
    }
   ],
   "source": [
    "import socket\n",
    "def get_domain(in_ip):\n",
    "    print(f'get_domain({in_ip}) ➞ {socket.gethostbyaddr(in_ip)} ➞ {socket.gethostbyaddr(in_ip)[0]}')\n",
    "    \n",
    "get_domain(\"8.8.8.8\")\n",
    "get_domain(\"8.8.4.4\")"
   ]
  },
  {
   "cell_type": "code",
   "execution_count": null,
   "id": "bdc82225",
   "metadata": {},
   "outputs": [],
   "source": []
  },
  {
   "cell_type": "markdown",
   "id": "a5e993fa",
   "metadata": {},
   "source": [
    "#### 5.Create a function that takes an integer n and returns the factorial of factorials. See below examples for a better understanding:\n",
    "**Examples:**   \n",
    "`fact_of_fact(4) ➞ 288`  \n",
    "`# 4! * 3! * 2! * 1! = 288`  \n",
    "`fact_of_fact(5) ➞ 34560`   \n",
    "`fact_of_fact(6) ➞ 24883200`\n"
   ]
  },
  {
   "cell_type": "code",
   "execution_count": 49,
   "id": "d6d46b8e",
   "metadata": {},
   "outputs": [],
   "source": [
    "from collections import * \n",
    "\n",
    "def fact_of_fact(inputs):\n",
    "    res = 1 \n",
    "    mem = defaultdict(int)\n",
    "    def rec(i):\n",
    "        if i == 1:\n",
    "            return 1 \n",
    "        \n",
    "        if i in mem:\n",
    "            return mem[i]\n",
    "        \n",
    "        else:\n",
    "            res = i * rec(i-1)\n",
    "            mem[i] = res\n",
    "            \n",
    "            return res\n",
    "    \n",
    "    for i in range(1, inputs+1):\n",
    "        res *= rec(i)\n",
    "    \n",
    "    return res"
   ]
  },
  {
   "cell_type": "code",
   "execution_count": 50,
   "id": "086f411b",
   "metadata": {},
   "outputs": [
    {
     "data": {
      "text/plain": [
       "288"
      ]
     },
     "execution_count": 50,
     "metadata": {},
     "output_type": "execute_result"
    }
   ],
   "source": [
    "fact_of_fact(4)"
   ]
  },
  {
   "cell_type": "code",
   "execution_count": 51,
   "id": "fdf69107",
   "metadata": {},
   "outputs": [
    {
     "data": {
      "text/plain": [
       "34560"
      ]
     },
     "execution_count": 51,
     "metadata": {},
     "output_type": "execute_result"
    }
   ],
   "source": [
    "fact_of_fact(5)"
   ]
  },
  {
   "cell_type": "code",
   "execution_count": 52,
   "id": "15c60171",
   "metadata": {},
   "outputs": [
    {
     "data": {
      "text/plain": [
       "24883200"
      ]
     },
     "execution_count": 52,
     "metadata": {},
     "output_type": "execute_result"
    }
   ],
   "source": [
    "fact_of_fact(6)"
   ]
  },
  {
   "cell_type": "code",
   "execution_count": null,
   "id": "49d860b6",
   "metadata": {},
   "outputs": [],
   "source": []
  },
  {
   "cell_type": "code",
   "execution_count": null,
   "id": "b4902799",
   "metadata": {},
   "outputs": [],
   "source": []
  },
  {
   "cell_type": "code",
   "execution_count": null,
   "id": "79ff6ea8",
   "metadata": {},
   "outputs": [],
   "source": []
  },
  {
   "cell_type": "code",
   "execution_count": null,
   "id": "2da5682d",
   "metadata": {},
   "outputs": [],
   "source": []
  },
  {
   "cell_type": "code",
   "execution_count": null,
   "id": "3607479f",
   "metadata": {},
   "outputs": [],
   "source": []
  }
 ],
 "metadata": {
  "kernelspec": {
   "display_name": "Python 3 (ipykernel)",
   "language": "python",
   "name": "python3"
  },
  "language_info": {
   "codemirror_mode": {
    "name": "ipython",
    "version": 3
   },
   "file_extension": ".py",
   "mimetype": "text/x-python",
   "name": "python",
   "nbconvert_exporter": "python",
   "pygments_lexer": "ipython3",
   "version": "3.10.8"
  }
 },
 "nbformat": 4,
 "nbformat_minor": 5
}
