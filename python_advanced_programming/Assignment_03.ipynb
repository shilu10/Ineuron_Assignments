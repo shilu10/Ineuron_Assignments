{
 "cells": [
  {
   "cell_type": "markdown",
   "id": "c5db6bed",
   "metadata": {},
   "source": [
    "# Advanced Python Assignment 03"
   ]
  },
  {
   "cell_type": "code",
   "execution_count": null,
   "id": "e62fc172",
   "metadata": {},
   "outputs": [],
   "source": []
  },
  {
   "cell_type": "markdown",
   "id": "9a663dec",
   "metadata": {},
   "source": [
    "#### 1.Create a function to perform basic arithmetic operations that includes addition, subtraction, multiplication and division on a string number (e.g. \"12 + 24\" or \"23 - 21\" or \"12 // 12\" or \"12 * 21\").\n",
    "Here, we have 1 followed by a space, operator followed by another space and 2. For the challenge, we are going to have only two numbers between 1 valid operator. The return value should be a number.  \n",
    "eval() is not allowed. In case of division, whenever the second number equals \"0\" return -1.   \n",
    "For example:  `\"15 // 0\"  ➞ -1`   \n",
    "**Examples:**  \n",
    "`arithmetic_operation(\"12 + 12\") ➞ 24 // 12 + 12 = 24`  \n",
    "`arithmetic_operation(\"12 - 12\") ➞ 24 // 12 - 12 = 0`  \n",
    "`arithmetic_operation(\"12 * 12\") ➞ 144 // 12 * 12 = 144`  \n",
    "`arithmetic_operation(\"12 // 0\") ➞ -1 // 12 / 0 = -1`  "
   ]
  },
  {
   "cell_type": "code",
   "execution_count": 14,
   "id": "93287026",
   "metadata": {},
   "outputs": [],
   "source": [
    "def arithmetic_operation(inputs):\n",
    "    \n",
    "    def add(val1, val2):\n",
    "        return int(val1) + int(val2)\n",
    "    \n",
    "    def sub(val1, val2):\n",
    "        return int(val1) - int(val2) \n",
    "    \n",
    "    def div(val1, val2):\n",
    "        val1 = int(val1)\n",
    "        val2 = int(val2)\n",
    "        if val2 == 0:\n",
    "            return - 1 \n",
    "        if val1 == 0:\n",
    "            return 0 \n",
    "        else:\n",
    "            return val1/val2\n",
    "    \n",
    "    def mul(val1, val2):\n",
    "        return int(val1) * int(val2) \n",
    "        \n",
    "    operation_dic = {\n",
    "        \"+\": add,\n",
    "        \"-\": sub,\n",
    "        \"//\": div,\n",
    "        \"*\": mul\n",
    "    }\n",
    "    \n",
    "    inputs_arr = inputs.split(\" \")\n",
    "    \n",
    "    return operation_dic[inputs_arr[1]](inputs_arr[0], inputs_arr[2])"
   ]
  },
  {
   "cell_type": "code",
   "execution_count": 15,
   "id": "25efdf81",
   "metadata": {},
   "outputs": [
    {
     "data": {
      "text/plain": [
       "24"
      ]
     },
     "execution_count": 15,
     "metadata": {},
     "output_type": "execute_result"
    }
   ],
   "source": [
    "arithmetic_operation(\"12 + 12\")"
   ]
  },
  {
   "cell_type": "code",
   "execution_count": 16,
   "id": "a984576d",
   "metadata": {},
   "outputs": [
    {
     "data": {
      "text/plain": [
       "0"
      ]
     },
     "execution_count": 16,
     "metadata": {},
     "output_type": "execute_result"
    }
   ],
   "source": [
    "arithmetic_operation(\"12 - 12\")"
   ]
  },
  {
   "cell_type": "code",
   "execution_count": 17,
   "id": "9a5ca9eb",
   "metadata": {},
   "outputs": [
    {
     "data": {
      "text/plain": [
       "144"
      ]
     },
     "execution_count": 17,
     "metadata": {},
     "output_type": "execute_result"
    }
   ],
   "source": [
    "arithmetic_operation(\"12 * 12\")"
   ]
  },
  {
   "cell_type": "code",
   "execution_count": 18,
   "id": "343bfe86",
   "metadata": {},
   "outputs": [
    {
     "data": {
      "text/plain": [
       "-1"
      ]
     },
     "execution_count": 18,
     "metadata": {},
     "output_type": "execute_result"
    }
   ],
   "source": [
    "arithmetic_operation(\"12 // 0\")"
   ]
  },
  {
   "cell_type": "code",
   "execution_count": null,
   "id": "bb598684",
   "metadata": {},
   "outputs": [],
   "source": []
  },
  {
   "cell_type": "markdown",
   "id": "7c7c4107",
   "metadata": {},
   "source": [
    "#### 2.Write a function that takes the coordinates of three points in the form of a 2d array and returns the perimeter of the triangle. The given points are the vertices of a triangle on a two-dimensional plane.\n",
    "**Examples:**  \n",
    "`perimeter( [ [15, 7], [5, 22], [11, 1] ] ) ➞ 47.08`  \n",
    "`perimeter( [ [0, 0], [0, 1], [1, 0] ] ) ➞ 3.42`  \n",
    "`perimeter( [ [-10, -10], [10, 10 ], [-10, 10] ] ) ➞ 68.28`  "
   ]
  },
  {
   "cell_type": "code",
   "execution_count": 20,
   "id": "940221a9",
   "metadata": {},
   "outputs": [
    {
     "name": "stdout",
     "output_type": "stream",
     "text": [
      "perimeter([[15, 7], [5, 22], [11, 1]]) ➞ 47.08\n",
      "perimeter([[0, 0], [0, 1], [1, 0]]) ➞ 3.41\n",
      "perimeter([[-10, -10], [10, 10], [-10, 10]]) ➞ 68.28\n"
     ]
    }
   ],
   "source": [
    "import math\n",
    "\n",
    "def distance(a,b):\n",
    "    return math.sqrt(pow((b[1]-a[1]),2)+pow((b[0]-a[0]),2))\n",
    "\n",
    "def perimeter(in_array):\n",
    "    perimeter = []\n",
    "    for ele in range(len(in_array)):\n",
    "        if ele == len(in_array)-1:\n",
    "            perimeter.append(distance(in_array[ele],in_array[0]))\n",
    "        else:\n",
    "            perimeter.append(distance(in_array[ele],in_array[ele+1]))\n",
    "    print(f'perimeter({in_array}) ➞ {sum(perimeter):.2f}')\n",
    "    \n",
    "perimeter([[15,7],[5,22],[11,1]])\n",
    "perimeter([[0,0],[0,1],[1,0]])\n",
    "perimeter([[-10,-10],[10,10],[-10,10]])"
   ]
  },
  {
   "cell_type": "code",
   "execution_count": null,
   "id": "1d7b4b4a",
   "metadata": {},
   "outputs": [],
   "source": []
  },
  {
   "cell_type": "markdown",
   "id": "77e3c8a5",
   "metadata": {},
   "source": [
    "#### 3.A city skyline can be represented as a 2-D list with 1s representing buildings. In the example below, the height of the tallest building is 4 (second-most right column).\n",
    "`[[0, 0, 0, 0, 0, 0],\n",
    "[0, 0, 0, 0, 1, 0],\n",
    "[0, 0, 1, 0, 1, 0],\n",
    "[0, 1, 1, 1, 1, 0],\n",
    "[1, 1, 1, 1, 1, 1]]`   \n",
    "Create a function that takes a skyline (2-D list of 0's and 1's) and returns the height of the tallest skyscraper.   \n",
    "**Examples:**  \n",
    "`tallest_skyscraper([[0, 0, 0, 0],[0, 1, 0, 0],[0, 1, 1, 0],[1, 1, 1, 1]]) ➞ 3`  \n",
    "`tallest_skyscraper([[0, 1, 0, 0],[0, 1, 0, 0],[0, 1, 1, 0],[1, 1, 1, 1]]) ➞ 4`  \n",
    "`tallest_skyscraper([[0, 0, 0, 0],[0, 0, 0, 0],[1, 1, 1, 0],[1, 1, 1, 1]]) ➞ 2` "
   ]
  },
  {
   "cell_type": "code",
   "execution_count": 21,
   "id": "247f553c",
   "metadata": {},
   "outputs": [],
   "source": [
    "def tallest_skyscraper(inputs):\n",
    "    res = 0 \n",
    "    for buildings in inputs:\n",
    "        if sum(buildings) > 0:\n",
    "            res += 1\n",
    "    return res"
   ]
  },
  {
   "cell_type": "code",
   "execution_count": 22,
   "id": "6a77d641",
   "metadata": {},
   "outputs": [
    {
     "data": {
      "text/plain": [
       "3"
      ]
     },
     "execution_count": 22,
     "metadata": {},
     "output_type": "execute_result"
    }
   ],
   "source": [
    "tallest_skyscraper([[0, 0, 0, 0],[0, 1, 0, 0],[0, 1, 1, 0],[1, 1, 1, 1]])"
   ]
  },
  {
   "cell_type": "code",
   "execution_count": 23,
   "id": "c7467e84",
   "metadata": {},
   "outputs": [
    {
     "data": {
      "text/plain": [
       "4"
      ]
     },
     "execution_count": 23,
     "metadata": {},
     "output_type": "execute_result"
    }
   ],
   "source": [
    "tallest_skyscraper([[0, 1, 0, 0],[0, 1, 0, 0],[0, 1, 1, 0],[1, 1, 1, 1]])"
   ]
  },
  {
   "cell_type": "code",
   "execution_count": 24,
   "id": "985c688f",
   "metadata": {},
   "outputs": [
    {
     "data": {
      "text/plain": [
       "2"
      ]
     },
     "execution_count": 24,
     "metadata": {},
     "output_type": "execute_result"
    }
   ],
   "source": [
    "tallest_skyscraper([[0, 0, 0, 0],[0, 0, 0, 0],[1, 1, 1, 0],[1, 1, 1, 1]])"
   ]
  },
  {
   "cell_type": "code",
   "execution_count": null,
   "id": "2874e4a4",
   "metadata": {},
   "outputs": [],
   "source": []
  },
  {
   "cell_type": "markdown",
   "id": "441c44a7",
   "metadata": {},
   "source": [
    "#### 4.A financial institution provides professional services to banks and claims charges from the customers based on the number of man-days provided. Internally, it has set a scheme to motivate and reward staff to meet and exceed targeted billable utilization and revenues by paying a bonus for each day claimed from customers in excess of a threshold target.\n",
    "\n",
    "This quarterly scheme is calculated with a threshold target of 32 days per quarter, and the incentive payment for each billable day in excess of such threshold target is shown as follows:\n",
    "\n",
    "`Days                             Bonus  \n",
    "0 to 32 days                  Zero  \n",
    "33 to 40 days         SGD$325 per billable day  \n",
    "41 to 48 days         SGD$550 per billable day  \n",
    "Greater than 48 days      SGD$600 per billable day`\n",
    "\n",
    "Please note that incentive payment is calculated progressively. As an example, if an employee reached total billable days of 45 in a quarter, his/her incentive payment is computed as follows:  \n",
    "`32*0 + 8*325 + 5*550 = 5350`  \n",
    "Write a function to read the billable days of an employee and return the bonus he/she has obtained in that quarter.\n",
    "\n",
    "**Examples:**  \n",
    "`bonus(15) ➞ 0`  \n",
    "`bonus(37) ➞ 1625`  \n",
    "`bonus(50) ➞ 8200`  "
   ]
  },
  {
   "cell_type": "code",
   "execution_count": 48,
   "id": "e13d3a37",
   "metadata": {},
   "outputs": [],
   "source": [
    "from copy import copy \n",
    "\n",
    "def bonus(inputs):\n",
    "    copy_inputs = (inputs)\n",
    "    res = 0\n",
    "    if inputs > 48:\n",
    "        tot_days = copy_inputs - 48\n",
    "        res += tot_days * 600\n",
    "        copy_inputs -= tot_days\n",
    "    \n",
    "    if inputs > 41: \n",
    "        tot_days = copy_inputs - 41 + 1 \n",
    "        res += tot_days * 550 \n",
    "        copy_inputs -= tot_days\n",
    "        \n",
    "    if inputs > 33: \n",
    "        tot_days = copy_inputs - 33 + 1\n",
    "        res += tot_days * 325 \n",
    "        copy_inputs -= tot_days\n",
    "        \n",
    "    return res"
   ]
  },
  {
   "cell_type": "code",
   "execution_count": 50,
   "id": "1e0fb67e",
   "metadata": {},
   "outputs": [
    {
     "data": {
      "text/plain": [
       "0"
      ]
     },
     "execution_count": 50,
     "metadata": {},
     "output_type": "execute_result"
    }
   ],
   "source": [
    "bonus(15)"
   ]
  },
  {
   "cell_type": "code",
   "execution_count": 51,
   "id": "763f25f3",
   "metadata": {},
   "outputs": [
    {
     "data": {
      "text/plain": [
       "1625"
      ]
     },
     "execution_count": 51,
     "metadata": {},
     "output_type": "execute_result"
    }
   ],
   "source": [
    "bonus(37) "
   ]
  },
  {
   "cell_type": "code",
   "execution_count": 52,
   "id": "b4337660",
   "metadata": {},
   "outputs": [
    {
     "data": {
      "text/plain": [
       "8200"
      ]
     },
     "execution_count": 52,
     "metadata": {},
     "output_type": "execute_result"
    }
   ],
   "source": [
    "bonus(50)"
   ]
  },
  {
   "cell_type": "code",
   "execution_count": null,
   "id": "b9c74e55",
   "metadata": {},
   "outputs": [],
   "source": []
  },
  {
   "cell_type": "markdown",
   "id": "4d7918ce",
   "metadata": {},
   "source": [
    "#### 5.A number is said to be Disarium if the sum of its digits raised to their respective positions is the number itself.\n",
    "Create a function that determines whether a number is a Disarium or not.  \n",
    "**Examples:**  \n",
    "`is_disarium(75) ➞ False`    \n",
    "    `# 7^1 + 5^2 = 7 + 25 = 32`  \n",
    "`is_disarium(135) ➞ True`  \n",
    "    `# 1^1 + 3^2 + 5^3 = 1 + 9 + 125 = 135`  \n",
    "`is_disarium(544) ➞ False`  \n",
    "`is_disarium(518) ➞ True`  \n",
    "`is_disarium(466) ➞ False`  \n",
    "`is_disarium(8) ➞ True`  "
   ]
  },
  {
   "cell_type": "code",
   "execution_count": 53,
   "id": "9912f3e7",
   "metadata": {},
   "outputs": [
    {
     "name": "stdout",
     "output_type": "stream",
     "text": [
      "is_disarium(75) ➞ False\n",
      "is_disarium(135) ➞ True\n",
      "is_disarium(544) ➞ False\n",
      "is_disarium(518) ➞ True\n",
      "is_disarium(466) ➞ False\n",
      "is_disarium(8) ➞ True\n"
     ]
    }
   ],
   "source": [
    "def is_disarium(in_num):\n",
    "    sum = 0\n",
    "    output = False\n",
    "    for ele in range(len(str(in_num))):\n",
    "        sum += int(str(in_num)[ele])**(ele+1)\n",
    "    if in_num == sum:\n",
    "        output=True\n",
    "    print(f'is_disarium({in_num}) ➞ {output}')\n",
    "    \n",
    "is_disarium(75)\n",
    "is_disarium(135)\n",
    "is_disarium(544)\n",
    "is_disarium(518)\n",
    "is_disarium(466)\n",
    "is_disarium(8)"
   ]
  },
  {
   "cell_type": "code",
   "execution_count": null,
   "id": "321dc078",
   "metadata": {},
   "outputs": [],
   "source": []
  },
  {
   "cell_type": "code",
   "execution_count": null,
   "id": "23f49166",
   "metadata": {},
   "outputs": [],
   "source": []
  }
 ],
 "metadata": {
  "kernelspec": {
   "display_name": "Python 3 (ipykernel)",
   "language": "python",
   "name": "python3"
  },
  "language_info": {
   "codemirror_mode": {
    "name": "ipython",
    "version": 3
   },
   "file_extension": ".py",
   "mimetype": "text/x-python",
   "name": "python",
   "nbconvert_exporter": "python",
   "pygments_lexer": "ipython3",
   "version": "3.10.8"
  }
 },
 "nbformat": 4,
 "nbformat_minor": 5
}
